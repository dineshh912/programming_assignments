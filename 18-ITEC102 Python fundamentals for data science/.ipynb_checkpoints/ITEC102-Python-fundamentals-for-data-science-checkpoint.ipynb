{
 "cells": [
  {
   "cell_type": "markdown",
   "id": "ee97c28d-5dfe-4311-832d-5e34d5bca4c0",
   "metadata": {},
   "source": [
    "# *Data processing, analysis and visualisation on BRFSS weight vs height data*"
   ]
  },
  {
   "cell_type": "code",
   "execution_count": 82,
   "id": "dbfb81eb-e803-41ce-92d1-8aa02fe1ae09",
   "metadata": {},
   "outputs": [],
   "source": [
    "# Importing python packages\n",
    "\n",
    "import pandas as pd # library for data manipulation and analysis\n",
    "import numpy as np # library for working with arrays.\n",
    "import matplotlib.pyplot as plt # Matplotlib is a plotting library\n",
    "import seaborn as sns # Visualization library\n",
    "from scipy.stats import ttest_ind # To perform t-tests"
   ]
  },
  {
   "cell_type": "code",
   "execution_count": 83,
   "id": "a1d89cef-0842-471b-a60b-7dd7ffd159ff",
   "metadata": {},
   "outputs": [],
   "source": [
    "# data path\n",
    "data = \"data/assessment3databrfss.csv\""
   ]
  },
  {
   "cell_type": "code",
   "execution_count": 84,
   "id": "bb2dec91-c91f-40bb-be8b-f2f495b0d2f9",
   "metadata": {},
   "outputs": [],
   "source": [
    "# Loading data into pandas data frame\n",
    "df = pd.read_csv(data)"
   ]
  },
  {
   "cell_type": "code",
   "execution_count": 85,
   "id": "f06634d9-0d7e-41c2-8ff1-f2136dd52fa5",
   "metadata": {},
   "outputs": [
    {
     "data": {
      "text/html": [
       "<div>\n",
       "<style scoped>\n",
       "    .dataframe tbody tr th:only-of-type {\n",
       "        vertical-align: middle;\n",
       "    }\n",
       "\n",
       "    .dataframe tbody tr th {\n",
       "        vertical-align: top;\n",
       "    }\n",
       "\n",
       "    .dataframe thead th {\n",
       "        text-align: right;\n",
       "    }\n",
       "</style>\n",
       "<table border=\"1\" class=\"dataframe\">\n",
       "  <thead>\n",
       "    <tr style=\"text-align: right;\">\n",
       "      <th></th>\n",
       "      <th>Unnamed: 0</th>\n",
       "      <th>age</th>\n",
       "      <th>weight2</th>\n",
       "      <th>wtyrago</th>\n",
       "      <th>wtkg2</th>\n",
       "      <th>htm3</th>\n",
       "      <th>sex</th>\n",
       "    </tr>\n",
       "  </thead>\n",
       "  <tbody>\n",
       "    <tr>\n",
       "      <th>0</th>\n",
       "      <td>0</td>\n",
       "      <td>39.0</td>\n",
       "      <td>88.636364</td>\n",
       "      <td>88.636364</td>\n",
       "      <td>88.64</td>\n",
       "      <td>180.0</td>\n",
       "      <td>1</td>\n",
       "    </tr>\n",
       "    <tr>\n",
       "      <th>1</th>\n",
       "      <td>1</td>\n",
       "      <td>64.0</td>\n",
       "      <td>75.000000</td>\n",
       "      <td>84.545455</td>\n",
       "      <td>75.00</td>\n",
       "      <td>155.0</td>\n",
       "      <td>2</td>\n",
       "    </tr>\n",
       "    <tr>\n",
       "      <th>2</th>\n",
       "      <td>2</td>\n",
       "      <td>87.0</td>\n",
       "      <td>61.818182</td>\n",
       "      <td>63.636364</td>\n",
       "      <td>61.82</td>\n",
       "      <td>NaN</td>\n",
       "      <td>2</td>\n",
       "    </tr>\n",
       "    <tr>\n",
       "      <th>3</th>\n",
       "      <td>3</td>\n",
       "      <td>51.0</td>\n",
       "      <td>100.000000</td>\n",
       "      <td>100.000000</td>\n",
       "      <td>100.00</td>\n",
       "      <td>183.0</td>\n",
       "      <td>1</td>\n",
       "    </tr>\n",
       "    <tr>\n",
       "      <th>4</th>\n",
       "      <td>4</td>\n",
       "      <td>35.0</td>\n",
       "      <td>63.636364</td>\n",
       "      <td>61.363636</td>\n",
       "      <td>63.64</td>\n",
       "      <td>170.0</td>\n",
       "      <td>2</td>\n",
       "    </tr>\n",
       "  </tbody>\n",
       "</table>\n",
       "</div>"
      ],
      "text/plain": [
       "   Unnamed: 0   age     weight2     wtyrago   wtkg2   htm3  sex\n",
       "0           0  39.0   88.636364   88.636364   88.64  180.0    1\n",
       "1           1  64.0   75.000000   84.545455   75.00  155.0    2\n",
       "2           2  87.0   61.818182   63.636364   61.82    NaN    2\n",
       "3           3  51.0  100.000000  100.000000  100.00  183.0    1\n",
       "4           4  35.0   63.636364   61.363636   63.64  170.0    2"
      ]
     },
     "execution_count": 85,
     "metadata": {},
     "output_type": "execute_result"
    }
   ],
   "source": [
    "# Check the first few rows\n",
    "df.head()"
   ]
  },
  {
   "cell_type": "code",
   "execution_count": 86,
   "id": "165ee2d4-e934-4d5e-ae60-ce06bb400668",
   "metadata": {},
   "outputs": [],
   "source": [
    "# We can remove column Unnamed: 0\n",
    "df.drop(columns=[\"Unnamed: 0\"], inplace=True)"
   ]
  },
  {
   "cell_type": "code",
   "execution_count": 87,
   "id": "db2c9ece-dc5b-40fa-8e0b-801affffadba",
   "metadata": {},
   "outputs": [
    {
     "data": {
      "text/html": [
       "<div>\n",
       "<style scoped>\n",
       "    .dataframe tbody tr th:only-of-type {\n",
       "        vertical-align: middle;\n",
       "    }\n",
       "\n",
       "    .dataframe tbody tr th {\n",
       "        vertical-align: top;\n",
       "    }\n",
       "\n",
       "    .dataframe thead th {\n",
       "        text-align: right;\n",
       "    }\n",
       "</style>\n",
       "<table border=\"1\" class=\"dataframe\">\n",
       "  <thead>\n",
       "    <tr style=\"text-align: right;\">\n",
       "      <th></th>\n",
       "      <th>age</th>\n",
       "      <th>weight2</th>\n",
       "      <th>wtyrago</th>\n",
       "      <th>wtkg2</th>\n",
       "      <th>htm3</th>\n",
       "      <th>sex</th>\n",
       "    </tr>\n",
       "  </thead>\n",
       "  <tbody>\n",
       "    <tr>\n",
       "      <th>0</th>\n",
       "      <td>39.0</td>\n",
       "      <td>88.636364</td>\n",
       "      <td>88.636364</td>\n",
       "      <td>88.64</td>\n",
       "      <td>180.0</td>\n",
       "      <td>1</td>\n",
       "    </tr>\n",
       "    <tr>\n",
       "      <th>1</th>\n",
       "      <td>64.0</td>\n",
       "      <td>75.000000</td>\n",
       "      <td>84.545455</td>\n",
       "      <td>75.00</td>\n",
       "      <td>155.0</td>\n",
       "      <td>2</td>\n",
       "    </tr>\n",
       "    <tr>\n",
       "      <th>2</th>\n",
       "      <td>87.0</td>\n",
       "      <td>61.818182</td>\n",
       "      <td>63.636364</td>\n",
       "      <td>61.82</td>\n",
       "      <td>NaN</td>\n",
       "      <td>2</td>\n",
       "    </tr>\n",
       "    <tr>\n",
       "      <th>3</th>\n",
       "      <td>51.0</td>\n",
       "      <td>100.000000</td>\n",
       "      <td>100.000000</td>\n",
       "      <td>100.00</td>\n",
       "      <td>183.0</td>\n",
       "      <td>1</td>\n",
       "    </tr>\n",
       "    <tr>\n",
       "      <th>4</th>\n",
       "      <td>35.0</td>\n",
       "      <td>63.636364</td>\n",
       "      <td>61.363636</td>\n",
       "      <td>63.64</td>\n",
       "      <td>170.0</td>\n",
       "      <td>2</td>\n",
       "    </tr>\n",
       "  </tbody>\n",
       "</table>\n",
       "</div>"
      ],
      "text/plain": [
       "    age     weight2     wtyrago   wtkg2   htm3  sex\n",
       "0  39.0   88.636364   88.636364   88.64  180.0    1\n",
       "1  64.0   75.000000   84.545455   75.00  155.0    2\n",
       "2  87.0   61.818182   63.636364   61.82    NaN    2\n",
       "3  51.0  100.000000  100.000000  100.00  183.0    1\n",
       "4  35.0   63.636364   61.363636   63.64  170.0    2"
      ]
     },
     "execution_count": 87,
     "metadata": {},
     "output_type": "execute_result"
    }
   ],
   "source": [
    "df.head()"
   ]
  },
  {
   "cell_type": "code",
   "execution_count": 88,
   "id": "eaca0642-4acc-4e4b-9d69-ccf8c8bdb079",
   "metadata": {},
   "outputs": [],
   "source": [
    "# Rename all column name\n",
    "df.columns = ['age', 'current_weight', 'weight_a_year_ago', 'current_weight_with_2_decimals', 'height', 'gender']"
   ]
  },
  {
   "cell_type": "code",
   "execution_count": 89,
   "id": "80f21f8d-d343-4845-8e38-92586787c160",
   "metadata": {},
   "outputs": [
    {
     "name": "stdout",
     "output_type": "stream",
     "text": [
      "<class 'pandas.core.frame.DataFrame'>\n",
      "RangeIndex: 414509 entries, 0 to 414508\n",
      "Data columns (total 6 columns):\n",
      " #   Column                          Non-Null Count   Dtype  \n",
      "---  ------                          --------------   -----  \n",
      " 0   age                             410856 non-null  float64\n",
      " 1   current_weight                  398484 non-null  float64\n",
      " 2   weight_a_year_ago               390399 non-null  float64\n",
      " 3   current_weight_with_2_decimals  398484 non-null  float64\n",
      " 4   height                          409129 non-null  float64\n",
      " 5   gender                          414509 non-null  int64  \n",
      "dtypes: float64(5), int64(1)\n",
      "memory usage: 19.0 MB\n"
     ]
    }
   ],
   "source": [
    "# info about data\n",
    "df.info()"
   ]
  },
  {
   "cell_type": "code",
   "execution_count": 90,
   "id": "d8c056af-cdb6-4db9-8ef7-52b0d6642f3d",
   "metadata": {},
   "outputs": [
    {
     "data": {
      "text/plain": [
       "(414509, 6)"
      ]
     },
     "execution_count": 90,
     "metadata": {},
     "output_type": "execute_result"
    }
   ],
   "source": [
    "# shape of data frame\n",
    "df.shape"
   ]
  },
  {
   "cell_type": "markdown",
   "id": "04b58780-4800-423e-941e-93ee0fa036f8",
   "metadata": {},
   "source": [
    "Data set contains 414509 observations and 6 features"
   ]
  },
  {
   "cell_type": "code",
   "execution_count": 91,
   "id": "4a31f430-6325-4a66-811c-8dfdba6c838b",
   "metadata": {},
   "outputs": [
    {
     "data": {
      "text/plain": [
       "age                                3653\n",
       "current_weight                    16025\n",
       "weight_a_year_ago                 24110\n",
       "current_weight_with_2_decimals    16025\n",
       "height                             5380\n",
       "gender                                0\n",
       "dtype: int64"
      ]
     },
     "execution_count": 91,
     "metadata": {},
     "output_type": "execute_result"
    }
   ],
   "source": [
    "# Find null values\n",
    "df.isnull().sum()"
   ]
  },
  {
   "cell_type": "code",
   "execution_count": 92,
   "id": "efe03b5b-6b9c-4cfd-ab06-a09c8f5c5e56",
   "metadata": {},
   "outputs": [
    {
     "data": {
      "text/plain": [
       "0.15727764656497206"
      ]
     },
     "execution_count": 92,
     "metadata": {},
     "output_type": "execute_result"
    }
   ],
   "source": [
    "# Precentage of empty values\n",
    "df.isnull().sum().sum()/len(df)"
   ]
  },
  {
   "cell_type": "markdown",
   "id": "6ce4df66-89f8-45fb-acd9-526b42d632ec",
   "metadata": {},
   "source": [
    "15% data contain null values, we can drop the null values data"
   ]
  },
  {
   "cell_type": "code",
   "execution_count": 93,
   "id": "43f3cf58-41a2-4b49-a47c-63fb5cfe7d02",
   "metadata": {},
   "outputs": [],
   "source": [
    "df.dropna(inplace=True)"
   ]
  },
  {
   "cell_type": "code",
   "execution_count": 94,
   "id": "683ee4f5-98fb-483c-9b23-811d7bdac568",
   "metadata": {},
   "outputs": [
    {
     "data": {
      "text/plain": [
       "age                               0\n",
       "current_weight                    0\n",
       "weight_a_year_ago                 0\n",
       "current_weight_with_2_decimals    0\n",
       "height                            0\n",
       "gender                            0\n",
       "dtype: int64"
      ]
     },
     "execution_count": 94,
     "metadata": {},
     "output_type": "execute_result"
    }
   ],
   "source": [
    "df.isnull().sum()"
   ]
  },
  {
   "cell_type": "code",
   "execution_count": 95,
   "id": "90d58169-403b-4f07-bb81-de4cb721ce84",
   "metadata": {},
   "outputs": [
    {
     "data": {
      "text/plain": [
       "(385974, 6)"
      ]
     },
     "execution_count": 95,
     "metadata": {},
     "output_type": "execute_result"
    }
   ],
   "source": [
    "df.shape"
   ]
  },
  {
   "cell_type": "markdown",
   "id": "28d883fd-0e22-4756-99dd-dba533058c47",
   "metadata": {},
   "source": [
    "After removing null values data set size reduce to 385974 sample observations"
   ]
  },
  {
   "cell_type": "markdown",
   "id": "bf60e9ed-05fe-48c1-8374-cc6eedc3fade",
   "metadata": {},
   "source": [
    "##  *Produce a summary statistics graph on current_weight, weight_a_year_ago, and height.*"
   ]
  },
  {
   "cell_type": "code",
   "execution_count": 96,
   "id": "3d4f5f66-acab-40ed-8d3a-714d0056e58a",
   "metadata": {},
   "outputs": [
    {
     "data": {
      "text/html": [
       "<div>\n",
       "<style scoped>\n",
       "    .dataframe tbody tr th:only-of-type {\n",
       "        vertical-align: middle;\n",
       "    }\n",
       "\n",
       "    .dataframe tbody tr th {\n",
       "        vertical-align: top;\n",
       "    }\n",
       "\n",
       "    .dataframe thead th {\n",
       "        text-align: right;\n",
       "    }\n",
       "</style>\n",
       "<table border=\"1\" class=\"dataframe\">\n",
       "  <thead>\n",
       "    <tr style=\"text-align: right;\">\n",
       "      <th></th>\n",
       "      <th>age</th>\n",
       "      <th>current_weight</th>\n",
       "      <th>weight_a_year_ago</th>\n",
       "      <th>current_weight_with_2_decimals</th>\n",
       "      <th>height</th>\n",
       "      <th>gender</th>\n",
       "    </tr>\n",
       "  </thead>\n",
       "  <tbody>\n",
       "    <tr>\n",
       "      <th>count</th>\n",
       "      <td>385974.000000</td>\n",
       "      <td>385974.000000</td>\n",
       "      <td>385974.000000</td>\n",
       "      <td>385974.000000</td>\n",
       "      <td>385974.000000</td>\n",
       "      <td>385974.000000</td>\n",
       "    </tr>\n",
       "    <tr>\n",
       "      <th>mean</th>\n",
       "      <td>54.852487</td>\n",
       "      <td>79.061463</td>\n",
       "      <td>79.805186</td>\n",
       "      <td>79.061577</td>\n",
       "      <td>169.013441</td>\n",
       "      <td>1.610541</td>\n",
       "    </tr>\n",
       "    <tr>\n",
       "      <th>std</th>\n",
       "      <td>16.685831</td>\n",
       "      <td>19.514283</td>\n",
       "      <td>20.578872</td>\n",
       "      <td>19.514227</td>\n",
       "      <td>10.388870</td>\n",
       "      <td>0.487628</td>\n",
       "    </tr>\n",
       "    <tr>\n",
       "      <th>min</th>\n",
       "      <td>18.000000</td>\n",
       "      <td>20.000000</td>\n",
       "      <td>22.727273</td>\n",
       "      <td>20.000000</td>\n",
       "      <td>61.000000</td>\n",
       "      <td>1.000000</td>\n",
       "    </tr>\n",
       "    <tr>\n",
       "      <th>25%</th>\n",
       "      <td>43.000000</td>\n",
       "      <td>64.545455</td>\n",
       "      <td>64.545455</td>\n",
       "      <td>64.550000</td>\n",
       "      <td>163.000000</td>\n",
       "      <td>1.000000</td>\n",
       "    </tr>\n",
       "    <tr>\n",
       "      <th>50%</th>\n",
       "      <td>55.000000</td>\n",
       "      <td>77.272727</td>\n",
       "      <td>77.272727</td>\n",
       "      <td>77.270000</td>\n",
       "      <td>168.000000</td>\n",
       "      <td>2.000000</td>\n",
       "    </tr>\n",
       "    <tr>\n",
       "      <th>75%</th>\n",
       "      <td>67.000000</td>\n",
       "      <td>90.909091</td>\n",
       "      <td>90.909091</td>\n",
       "      <td>90.910000</td>\n",
       "      <td>178.000000</td>\n",
       "      <td>2.000000</td>\n",
       "    </tr>\n",
       "    <tr>\n",
       "      <th>max</th>\n",
       "      <td>99.000000</td>\n",
       "      <td>300.000000</td>\n",
       "      <td>342.272727</td>\n",
       "      <td>300.000000</td>\n",
       "      <td>236.000000</td>\n",
       "      <td>2.000000</td>\n",
       "    </tr>\n",
       "  </tbody>\n",
       "</table>\n",
       "</div>"
      ],
      "text/plain": [
       "                 age  current_weight  weight_a_year_ago  \\\n",
       "count  385974.000000   385974.000000      385974.000000   \n",
       "mean       54.852487       79.061463          79.805186   \n",
       "std        16.685831       19.514283          20.578872   \n",
       "min        18.000000       20.000000          22.727273   \n",
       "25%        43.000000       64.545455          64.545455   \n",
       "50%        55.000000       77.272727          77.272727   \n",
       "75%        67.000000       90.909091          90.909091   \n",
       "max        99.000000      300.000000         342.272727   \n",
       "\n",
       "       current_weight_with_2_decimals         height         gender  \n",
       "count                   385974.000000  385974.000000  385974.000000  \n",
       "mean                        79.061577     169.013441       1.610541  \n",
       "std                         19.514227      10.388870       0.487628  \n",
       "min                         20.000000      61.000000       1.000000  \n",
       "25%                         64.550000     163.000000       1.000000  \n",
       "50%                         77.270000     168.000000       2.000000  \n",
       "75%                         90.910000     178.000000       2.000000  \n",
       "max                        300.000000     236.000000       2.000000  "
      ]
     },
     "execution_count": 96,
     "metadata": {},
     "output_type": "execute_result"
    }
   ],
   "source": [
    "# Summary statistics of all the columns\n",
    "df.describe()"
   ]
  },
  {
   "cell_type": "code",
   "execution_count": 174,
   "id": "b4d938a2-3382-48d7-87e2-6e2dbb173eba",
   "metadata": {},
   "outputs": [],
   "source": [
    "# Load the required columns from describe dataframe\n",
    "summary = df.describe()[[\"current_weight\",\t\"weight_a_year_ago\", \"height\"]].iloc[1:,:]"
   ]
  },
  {
   "cell_type": "code",
   "execution_count": 177,
   "id": "600a116e-0935-4181-a7c8-c180e35a030d",
   "metadata": {},
   "outputs": [],
   "source": [
    "# create mean+std,mean-std rows in describe dataframe\n",
    "summary.loc[\"mean+std\"] = summary.loc[\"mean\"]+summary.loc[\"std\"]\n",
    "summary.loc[\"mean-std\"] = summary.loc[\"mean\"]-summary.loc[\"std\"]\n",
    "summary.loc[\"median\"] = summary.loc[\"50%\"]\n",
    "summary = summary.drop(['std','50%'])"
   ]
  },
  {
   "cell_type": "code",
   "execution_count": 179,
   "id": "c1dfae0c-eeb6-4915-8f05-6768dbc9c8e4",
   "metadata": {},
   "outputs": [
    {
     "data": {
      "image/png": "[encoded data removed]",
      "text/plain": [
       "<Figure size 720x720 with 1 Axes>"
      ]
     },
     "metadata": {
      "needs_background": "light"
     },
     "output_type": "display_data"
    }
   ],
   "source": [
    "# Plot the required plot\n",
    "markers = [\"+\",\"^\",\"^\",\"v\",\"v\",\"v\",\"^\",\"x\"]\n",
    "colors = [\"b\",\"k\",\"r\",\"r\",\"k\",\"g\",\"g\",\"b\"]\n",
    "fig, ax = plt.subplots(figsize=(10,10))\n",
    "\n",
    "for i, col in enumerate(summary.T):\n",
    "    summary.T[col].plot(color=colors[i], marker=markers[i],linestyle='None', ax=ax)\n",
    "plt.legend(bbox_to_anchor=(1.1, 1.05))    \n",
    "plt.show()"
   ]
  },
  {
   "cell_type": "markdown",
   "id": "d60c96f1-1e44-4b8e-b270-29647585bc3f",
   "metadata": {},
   "source": [
    "## *Calculate correlation*"
   ]
  },
  {
   "cell_type": "code",
   "execution_count": 110,
   "id": "54ec0ab6-3ead-4971-867e-a55c77fe4446",
   "metadata": {},
   "outputs": [],
   "source": [
    "df[\"weight_change\"] = df[\"current_weight\"] - df[\"weight_a_year_ago\"]"
   ]
  },
  {
   "cell_type": "code",
   "execution_count": 111,
   "id": "bd4164e6-37c2-4d86-a8ac-cb35fbbe8d86",
   "metadata": {},
   "outputs": [
    {
     "data": {
      "text/html": [
       "<div>\n",
       "<style scoped>\n",
       "    .dataframe tbody tr th:only-of-type {\n",
       "        vertical-align: middle;\n",
       "    }\n",
       "\n",
       "    .dataframe tbody tr th {\n",
       "        vertical-align: top;\n",
       "    }\n",
       "\n",
       "    .dataframe thead th {\n",
       "        text-align: right;\n",
       "    }\n",
       "</style>\n",
       "<table border=\"1\" class=\"dataframe\">\n",
       "  <thead>\n",
       "    <tr style=\"text-align: right;\">\n",
       "      <th></th>\n",
       "      <th>age</th>\n",
       "      <th>current_weight</th>\n",
       "      <th>weight_a_year_ago</th>\n",
       "      <th>current_weight_with_2_decimals</th>\n",
       "      <th>height</th>\n",
       "      <th>gender</th>\n",
       "      <th>weight_change</th>\n",
       "    </tr>\n",
       "  </thead>\n",
       "  <tbody>\n",
       "    <tr>\n",
       "      <th>396879</th>\n",
       "      <td>66.0</td>\n",
       "      <td>106.818182</td>\n",
       "      <td>115.909091</td>\n",
       "      <td>106.82</td>\n",
       "      <td>180.0</td>\n",
       "      <td>1</td>\n",
       "      <td>-9.090909</td>\n",
       "    </tr>\n",
       "  </tbody>\n",
       "</table>\n",
       "</div>"
      ],
      "text/plain": [
       "         age  current_weight  weight_a_year_ago  \\\n",
       "396879  66.0      106.818182         115.909091   \n",
       "\n",
       "        current_weight_with_2_decimals  height  gender  weight_change  \n",
       "396879                          106.82   180.0       1      -9.090909  "
      ]
     },
     "execution_count": 111,
     "metadata": {},
     "output_type": "execute_result"
    }
   ],
   "source": [
    "df.sample()"
   ]
  },
  {
   "cell_type": "code",
   "execution_count": 182,
   "id": "0a91f804-d4e0-4d6b-b865-55d00164892e",
   "metadata": {},
   "outputs": [
    {
     "data": {
      "text/html": [
       "<div>\n",
       "<style scoped>\n",
       "    .dataframe tbody tr th:only-of-type {\n",
       "        vertical-align: middle;\n",
       "    }\n",
       "\n",
       "    .dataframe tbody tr th {\n",
       "        vertical-align: top;\n",
       "    }\n",
       "\n",
       "    .dataframe thead th {\n",
       "        text-align: right;\n",
       "    }\n",
       "</style>\n",
       "<table border=\"1\" class=\"dataframe\">\n",
       "  <thead>\n",
       "    <tr style=\"text-align: right;\">\n",
       "      <th></th>\n",
       "      <th>age</th>\n",
       "      <th>current_weight</th>\n",
       "      <th>weight_a_year_ago</th>\n",
       "      <th>current_weight_with_2_decimals</th>\n",
       "      <th>height</th>\n",
       "      <th>gender</th>\n",
       "      <th>weight_change</th>\n",
       "    </tr>\n",
       "  </thead>\n",
       "  <tbody>\n",
       "    <tr>\n",
       "      <th>age</th>\n",
       "      <td>1.000000</td>\n",
       "      <td>-0.082044</td>\n",
       "      <td>-0.053661</td>\n",
       "      <td>-0.082044</td>\n",
       "      <td>-0.126782</td>\n",
       "      <td>0.031602</td>\n",
       "      <td>-0.068676</td>\n",
       "    </tr>\n",
       "    <tr>\n",
       "      <th>current_weight</th>\n",
       "      <td>-0.082044</td>\n",
       "      <td>1.000000</td>\n",
       "      <td>0.936271</td>\n",
       "      <td>1.000000</td>\n",
       "      <td>0.511029</td>\n",
       "      <td>-0.409661</td>\n",
       "      <td>0.034132</td>\n",
       "    </tr>\n",
       "    <tr>\n",
       "      <th>weight_a_year_ago</th>\n",
       "      <td>-0.053661</td>\n",
       "      <td>0.936271</td>\n",
       "      <td>1.000000</td>\n",
       "      <td>0.936271</td>\n",
       "      <td>0.488977</td>\n",
       "      <td>-0.392825</td>\n",
       "      <td>-0.319117</td>\n",
       "    </tr>\n",
       "    <tr>\n",
       "      <th>current_weight_with_2_decimals</th>\n",
       "      <td>-0.082044</td>\n",
       "      <td>1.000000</td>\n",
       "      <td>0.936271</td>\n",
       "      <td>1.000000</td>\n",
       "      <td>0.511028</td>\n",
       "      <td>-0.409659</td>\n",
       "      <td>0.034133</td>\n",
       "    </tr>\n",
       "    <tr>\n",
       "      <th>height</th>\n",
       "      <td>-0.126782</td>\n",
       "      <td>0.511029</td>\n",
       "      <td>0.488977</td>\n",
       "      <td>0.511028</td>\n",
       "      <td>1.000000</td>\n",
       "      <td>-0.699251</td>\n",
       "      <td>-0.012475</td>\n",
       "    </tr>\n",
       "    <tr>\n",
       "      <th>gender</th>\n",
       "      <td>0.031602</td>\n",
       "      <td>-0.409661</td>\n",
       "      <td>-0.392825</td>\n",
       "      <td>-0.409659</td>\n",
       "      <td>-0.699251</td>\n",
       "      <td>1.000000</td>\n",
       "      <td>0.012396</td>\n",
       "    </tr>\n",
       "    <tr>\n",
       "      <th>weight_change</th>\n",
       "      <td>-0.068676</td>\n",
       "      <td>0.034132</td>\n",
       "      <td>-0.319117</td>\n",
       "      <td>0.034133</td>\n",
       "      <td>-0.012475</td>\n",
       "      <td>0.012396</td>\n",
       "      <td>1.000000</td>\n",
       "    </tr>\n",
       "  </tbody>\n",
       "</table>\n",
       "</div>"
      ],
      "text/plain": [
       "                                     age  current_weight  weight_a_year_ago  \\\n",
       "age                             1.000000       -0.082044          -0.053661   \n",
       "current_weight                 -0.082044        1.000000           0.936271   \n",
       "weight_a_year_ago              -0.053661        0.936271           1.000000   \n",
       "current_weight_with_2_decimals -0.082044        1.000000           0.936271   \n",
       "height                         -0.126782        0.511029           0.488977   \n",
       "gender                          0.031602       -0.409661          -0.392825   \n",
       "weight_change                  -0.068676        0.034132          -0.319117   \n",
       "\n",
       "                                current_weight_with_2_decimals    height  \\\n",
       "age                                                  -0.082044 -0.126782   \n",
       "current_weight                                        1.000000  0.511029   \n",
       "weight_a_year_ago                                     0.936271  0.488977   \n",
       "current_weight_with_2_decimals                        1.000000  0.511028   \n",
       "height                                                0.511028  1.000000   \n",
       "gender                                               -0.409659 -0.699251   \n",
       "weight_change                                         0.034133 -0.012475   \n",
       "\n",
       "                                  gender  weight_change  \n",
       "age                             0.031602      -0.068676  \n",
       "current_weight                 -0.409661       0.034132  \n",
       "weight_a_year_ago              -0.392825      -0.319117  \n",
       "current_weight_with_2_decimals -0.409659       0.034133  \n",
       "height                         -0.699251      -0.012475  \n",
       "gender                          1.000000       0.012396  \n",
       "weight_change                   0.012396       1.000000  "
      ]
     },
     "execution_count": 182,
     "metadata": {},
     "output_type": "execute_result"
    }
   ],
   "source": [
    "df.corr()"
   ]
  },
  {
   "cell_type": "markdown",
   "id": "c282c021-bbc2-4c66-a078-aa95b563fda1",
   "metadata": {
    "tags": []
   },
   "source": [
    "### *Corrlation between weight_change and current_weight*"
   ]
  },
  {
   "cell_type": "code",
   "execution_count": 180,
   "id": "9be47c29-1b38-44ce-a618-913d79ea05fe",
   "metadata": {},
   "outputs": [
    {
     "data": {
      "text/plain": [
       "0.034132175224082774"
      ]
     },
     "execution_count": 180,
     "metadata": {},
     "output_type": "execute_result"
    }
   ],
   "source": [
    "df[\"weight_change\"].corr(df[\"current_weight\"])"
   ]
  },
  {
   "cell_type": "code",
   "execution_count": 181,
   "id": "4943347e-56b4-4d86-8219-fdd6b1960919",
   "metadata": {},
   "outputs": [
    {
     "data": {
      "text/plain": [
       "<AxesSubplot:xlabel='weight_change', ylabel='current_weight'>"
      ]
     },
     "execution_count": 181,
     "metadata": {},
     "output_type": "execute_result"
    },
    {
     "data": {
      "image/png": "[encoded data removed]",
      "text/plain": [
       "<Figure size 432x288 with 1 Axes>"
      ]
     },
     "metadata": {
      "needs_background": "light"
     },
     "output_type": "display_data"
    }
   ],
   "source": [
    "sns.regplot(x=df[\"weight_change\"], y=df[\"current_weight\"])"
   ]
  },
  {
   "cell_type": "markdown",
   "id": "0d0c15f4-60b1-4dc8-b6fd-205a27013e1c",
   "metadata": {},
   "source": [
    "#### *Very small positive corelation between weight change and current weight*"
   ]
  },
  {
   "cell_type": "markdown",
   "id": "c49facb6-2554-4f16-9de1-a369da9ed791",
   "metadata": {},
   "source": [
    "### *Corrlation between weight_change and weight_a_year_ago*"
   ]
  },
  {
   "cell_type": "code",
   "execution_count": 114,
   "id": "13484525-9e04-4bed-ae7c-211788c2df37",
   "metadata": {},
   "outputs": [
    {
     "data": {
      "text/plain": [
       "-0.3191169630334655"
      ]
     },
     "execution_count": 114,
     "metadata": {},
     "output_type": "execute_result"
    }
   ],
   "source": [
    "df[\"weight_change\"].corr(df[\"weight_a_year_ago\"])"
   ]
  },
  {
   "cell_type": "code",
   "execution_count": 115,
   "id": "02383bda-0a2c-49d7-8d7d-2bbde2476522",
   "metadata": {},
   "outputs": [
    {
     "data": {
      "text/plain": [
       "<AxesSubplot:xlabel='weight_change', ylabel='weight_a_year_ago'>"
      ]
     },
     "execution_count": 115,
     "metadata": {},
     "output_type": "execute_result"
    },
    {
     "data": {
      "image/png": "[encoded data removed]",
      "text/plain": [
       "<Figure size 432x288 with 1 Axes>"
      ]
     },
     "metadata": {
      "needs_background": "light"
     },
     "output_type": "display_data"
    }
   ],
   "source": [
    "sns.regplot(x=df[\"weight_change\"], y=df[\"weight_a_year_ago\"])"
   ]
  },
  {
   "cell_type": "markdown",
   "id": "03a975bd-2584-412a-ab4f-6f05be4187e6",
   "metadata": {},
   "source": [
    "#### *Negative corelation between weight change and weight a years ago*"
   ]
  },
  {
   "cell_type": "markdown",
   "id": "c102f854-d218-4623-80db-6982b4fe2e80",
   "metadata": {},
   "source": [
    "### *Corrlation between weight_change and age*"
   ]
  },
  {
   "cell_type": "code",
   "execution_count": 116,
   "id": "b052f67c-7f71-481c-9090-50cba1d73dce",
   "metadata": {},
   "outputs": [
    {
     "data": {
      "text/plain": [
       "-0.06867582903526591"
      ]
     },
     "execution_count": 116,
     "metadata": {},
     "output_type": "execute_result"
    }
   ],
   "source": [
    "df[\"weight_change\"].corr(df[\"age\"])"
   ]
  },
  {
   "cell_type": "code",
   "execution_count": 117,
   "id": "88dfad66-98e5-4649-b1db-31497ab22f6e",
   "metadata": {},
   "outputs": [
    {
     "data": {
      "text/plain": [
       "<AxesSubplot:xlabel='weight_change', ylabel='age'>"
      ]
     },
     "execution_count": 117,
     "metadata": {},
     "output_type": "execute_result"
    },
    {
     "data": {
      "image/png": "[encoded data removed]",
      "text/plain": [
       "<Figure size 432x288 with 1 Axes>"
      ]
     },
     "metadata": {
      "needs_background": "light"
     },
     "output_type": "display_data"
    }
   ],
   "source": [
    "sns.regplot(x=df[\"weight_change\"], y=df[\"age\"])"
   ]
  },
  {
   "cell_type": "markdown",
   "id": "730c9038-a7ba-48dd-a00d-010209e2d9ce",
   "metadata": {},
   "source": [
    "#### *Negative corelation between weight change and age*"
   ]
  },
  {
   "cell_type": "markdown",
   "id": "ab242c6b-5ac5-49f5-af88-ec92cc193a20",
   "metadata": {},
   "source": [
    "##### *Above corelation based on all the data available on the dataset, lets check how the corelation performing based on gender*"
   ]
  },
  {
   "cell_type": "code",
   "execution_count": 118,
   "id": "d24e8624-be46-4453-87f0-248633c14a85",
   "metadata": {},
   "outputs": [],
   "source": [
    "# Split data set into two based on gender\n",
    "df_male = df[df[\"gender\"] == 1]\n",
    "df_female = df[df[\"gender\"] == 2]"
   ]
  },
  {
   "cell_type": "code",
   "execution_count": 119,
   "id": "78e063c9-1e66-4b4e-accf-a70f159d2d10",
   "metadata": {},
   "outputs": [
    {
     "data": {
      "text/plain": [
       "(150321, 7)"
      ]
     },
     "execution_count": 119,
     "metadata": {},
     "output_type": "execute_result"
    }
   ],
   "source": [
    "df_male.shape"
   ]
  },
  {
   "cell_type": "markdown",
   "id": "0e78dd6d-642b-4514-a550-7c4063285189",
   "metadata": {},
   "source": [
    "There are 150321 sample observation for male data."
   ]
  },
  {
   "cell_type": "code",
   "execution_count": 120,
   "id": "d73134f7-5c99-492d-895f-e2aa0e704658",
   "metadata": {},
   "outputs": [
    {
     "data": {
      "text/plain": [
       "(235653, 7)"
      ]
     },
     "execution_count": 120,
     "metadata": {},
     "output_type": "execute_result"
    }
   ],
   "source": [
    "df_female.shape"
   ]
  },
  {
   "cell_type": "markdown",
   "id": "4597d642-ca58-4037-8c2d-e6cff44a2f83",
   "metadata": {},
   "source": [
    "There are 235653 sample observation for male data."
   ]
  },
  {
   "cell_type": "markdown",
   "id": "39318ef0-2123-4eb0-88b1-90c9d42ffcb2",
   "metadata": {},
   "source": [
    "### *Corrlation between weight_change and current_weight on Male*"
   ]
  },
  {
   "cell_type": "code",
   "execution_count": 121,
   "id": "13a0435c-4c75-4a49-a88b-169ec4331dbb",
   "metadata": {},
   "outputs": [
    {
     "data": {
      "text/plain": [
       "0.028616053523082913"
      ]
     },
     "execution_count": 121,
     "metadata": {},
     "output_type": "execute_result"
    }
   ],
   "source": [
    "df_male[\"weight_change\"].corr(df_male[\"current_weight\"])"
   ]
  },
  {
   "cell_type": "code",
   "execution_count": 122,
   "id": "0294ebe8-1234-422c-bca6-cb97f5b573c4",
   "metadata": {},
   "outputs": [
    {
     "data": {
      "text/plain": [
       "<AxesSubplot:xlabel='weight_change', ylabel='current_weight'>"
      ]
     },
     "execution_count": 122,
     "metadata": {},
     "output_type": "execute_result"
    },
    {
     "data": {
      "image/png": "[encoded data removed]",
      "text/plain": [
       "<Figure size 432x288 with 1 Axes>"
      ]
     },
     "metadata": {
      "needs_background": "light"
     },
     "output_type": "display_data"
    }
   ],
   "source": [
    "sns.regplot(x=df_male[\"weight_change\"], y=df_male[\"current_weight\"])"
   ]
  },
  {
   "cell_type": "markdown",
   "id": "14b72e22-bd2c-4803-82a2-5bb9bb89b70e",
   "metadata": {},
   "source": [
    "### *Corrlation between weight_change and current_weight on Female*"
   ]
  },
  {
   "cell_type": "code",
   "execution_count": 123,
   "id": "4e19130b-8426-4382-9620-af3189b42ceb",
   "metadata": {},
   "outputs": [
    {
     "data": {
      "text/plain": [
       "0.051888366523637174"
      ]
     },
     "execution_count": 123,
     "metadata": {},
     "output_type": "execute_result"
    }
   ],
   "source": [
    "df_female[\"weight_change\"].corr(df_female[\"current_weight\"])"
   ]
  },
  {
   "cell_type": "code",
   "execution_count": 124,
   "id": "8103d250-4708-4440-9ae5-b722e000f9a9",
   "metadata": {},
   "outputs": [
    {
     "data": {
      "text/plain": [
       "<AxesSubplot:xlabel='weight_change', ylabel='current_weight'>"
      ]
     },
     "execution_count": 124,
     "metadata": {},
     "output_type": "execute_result"
    },
    {
     "data": {
      "image/png": "[encoded data removed]",
      "text/plain": [
       "<Figure size 432x288 with 1 Axes>"
      ]
     },
     "metadata": {
      "needs_background": "light"
     },
     "output_type": "display_data"
    }
   ],
   "source": [
    "sns.regplot(x=df_male[\"weight_change\"], y=df_male[\"current_weight\"])"
   ]
  },
  {
   "cell_type": "markdown",
   "id": "971206cd-13f0-473f-87b2-e5dc6f59709d",
   "metadata": {},
   "source": [
    "Both male and female data having positive corelation with weight_change and current_weight"
   ]
  },
  {
   "cell_type": "markdown",
   "id": "a0331d35-745d-4772-a487-1aab85a15298",
   "metadata": {},
   "source": [
    "### *Corrlation between weight_change and weight_a_year_ago on male*"
   ]
  },
  {
   "cell_type": "code",
   "execution_count": 125,
   "id": "64928d0e-ff5c-46fe-9f59-2505f500c581",
   "metadata": {},
   "outputs": [
    {
     "data": {
      "text/plain": [
       "-0.33084440971266027"
      ]
     },
     "execution_count": 125,
     "metadata": {},
     "output_type": "execute_result"
    }
   ],
   "source": [
    "df_male[\"weight_change\"].corr(df_male[\"weight_a_year_ago\"])"
   ]
  },
  {
   "cell_type": "code",
   "execution_count": 126,
   "id": "84db4b03-1a79-4fe1-962c-9cda2aab6ab9",
   "metadata": {},
   "outputs": [
    {
     "data": {
      "text/plain": [
       "<AxesSubplot:xlabel='weight_change', ylabel='weight_a_year_ago'>"
      ]
     },
     "execution_count": 126,
     "metadata": {},
     "output_type": "execute_result"
    },
    {
     "data": {
      "image/png": "[encoded data removed]",
      "text/plain": [
       "<Figure size 432x288 with 1 Axes>"
      ]
     },
     "metadata": {
      "needs_background": "light"
     },
     "output_type": "display_data"
    }
   ],
   "source": [
    "sns.regplot(x=df_male[\"weight_change\"], y=df_male[\"weight_a_year_ago\"])"
   ]
  },
  {
   "cell_type": "markdown",
   "id": "73aa1f8a-f7c4-4bd1-8bfe-3c8e1cb972c6",
   "metadata": {},
   "source": [
    "### *Corrlation between weight_change and weight_a_year_ago on Female*"
   ]
  },
  {
   "cell_type": "code",
   "execution_count": 127,
   "id": "bc6faae2-97d2-4125-9aba-eefdf024a0cf",
   "metadata": {},
   "outputs": [
    {
     "data": {
      "text/plain": [
       "-0.3491011215236008"
      ]
     },
     "execution_count": 127,
     "metadata": {},
     "output_type": "execute_result"
    }
   ],
   "source": [
    "df_female[\"weight_change\"].corr(df_female[\"weight_a_year_ago\"])"
   ]
  },
  {
   "cell_type": "code",
   "execution_count": 128,
   "id": "bdd243ce-002f-49c4-b446-83ae60cfe724",
   "metadata": {},
   "outputs": [
    {
     "data": {
      "text/plain": [
       "<AxesSubplot:xlabel='weight_change', ylabel='weight_a_year_ago'>"
      ]
     },
     "execution_count": 128,
     "metadata": {},
     "output_type": "execute_result"
    },
    {
     "data": {
      "image/png": "[encoded data removed]",
      "text/plain": [
       "<Figure size 432x288 with 1 Axes>"
      ]
     },
     "metadata": {
      "needs_background": "light"
     },
     "output_type": "display_data"
    }
   ],
   "source": [
    "sns.regplot(x=df_male[\"weight_change\"], y=df_male[\"weight_a_year_ago\"])"
   ]
  },
  {
   "cell_type": "markdown",
   "id": "0be05a9f-29cd-4400-8a82-941032309ab7",
   "metadata": {},
   "source": [
    "Both male and female data performed negatively when considered weight change and weight year ago features."
   ]
  },
  {
   "cell_type": "markdown",
   "id": "2494c430-cccf-44e7-aeec-3dd30578b09a",
   "metadata": {},
   "source": [
    "### *Corrlation between weight_change and age on male*"
   ]
  },
  {
   "cell_type": "code",
   "execution_count": 129,
   "id": "3a3abe5f-4e29-4bd0-83c8-7e866adb8912",
   "metadata": {},
   "outputs": [
    {
     "data": {
      "text/plain": [
       "-0.06565494406216944"
      ]
     },
     "execution_count": 129,
     "metadata": {},
     "output_type": "execute_result"
    }
   ],
   "source": [
    "df_male[\"weight_change\"].corr(df_male[\"age\"])"
   ]
  },
  {
   "cell_type": "code",
   "execution_count": 130,
   "id": "4dc47cb3-2541-4077-8de8-163e8c58fed6",
   "metadata": {},
   "outputs": [
    {
     "data": {
      "text/plain": [
       "<AxesSubplot:xlabel='weight_change', ylabel='age'>"
      ]
     },
     "execution_count": 130,
     "metadata": {},
     "output_type": "execute_result"
    },
    {
     "data": {
      "image/png": "[encoded data removed]",
      "text/plain": [
       "<Figure size 432x288 with 1 Axes>"
      ]
     },
     "metadata": {
      "needs_background": "light"
     },
     "output_type": "display_data"
    }
   ],
   "source": [
    "sns.regplot(x=df_male[\"weight_change\"], y=df_male[\"age\"])"
   ]
  },
  {
   "cell_type": "markdown",
   "id": "7c68d516-c614-41e6-a85b-6e7067c5cea2",
   "metadata": {},
   "source": [
    "### *Corrlation between weight_change and age on Female*"
   ]
  },
  {
   "cell_type": "code",
   "execution_count": 131,
   "id": "1f80546c-e966-4bfd-8e75-3cd6f8a036f3",
   "metadata": {},
   "outputs": [
    {
     "data": {
      "text/plain": [
       "-0.07109458963377897"
      ]
     },
     "execution_count": 131,
     "metadata": {},
     "output_type": "execute_result"
    }
   ],
   "source": [
    "df_female[\"weight_change\"].corr(df_female[\"age\"])"
   ]
  },
  {
   "cell_type": "code",
   "execution_count": 132,
   "id": "e54cdd32-306c-4541-a595-554e8c9c4496",
   "metadata": {},
   "outputs": [
    {
     "data": {
      "text/plain": [
       "<AxesSubplot:xlabel='weight_change', ylabel='age'>"
      ]
     },
     "execution_count": 132,
     "metadata": {},
     "output_type": "execute_result"
    },
    {
     "data": {
      "image/png": "[encoded data removed]",
      "text/plain": [
       "<Figure size 432x288 with 1 Axes>"
      ]
     },
     "metadata": {
      "needs_background": "light"
     },
     "output_type": "display_data"
    }
   ],
   "source": [
    "sns.regplot(x=df_female[\"weight_change\"], y=df_female[\"age\"])"
   ]
  },
  {
   "cell_type": "markdown",
   "id": "3cf23626-f228-456c-a511-a9b9fa042da7",
   "metadata": {},
   "source": [
    "Both male and female data performed negatively based on weight_change and age feature."
   ]
  },
  {
   "cell_type": "markdown",
   "id": "e8270f53-172d-467f-a408-04d5be203e89",
   "metadata": {},
   "source": [
    "## *Use t-test to check significant difference*\n",
    "\n",
    "    A t-test is a type of inferential statistic which is used to determine if there is a significant difference between the means of two groups which may be related in certain features. \n",
    "    \n",
    "    In the data set female data contain more sample than male data, so lets take random 100,000 sample from each data."
   ]
  },
  {
   "cell_type": "code",
   "execution_count": 135,
   "id": "be9cd4be-77e5-4597-9b45-a3c22a5b39af",
   "metadata": {},
   "outputs": [],
   "source": [
    "df_male_weight_change = df_male[\"weight_change\"].sample(n = 100000, replace = False)"
   ]
  },
  {
   "cell_type": "code",
   "execution_count": 139,
   "id": "a44371e1-6bfb-4b42-8ff3-434800d71707",
   "metadata": {},
   "outputs": [
    {
     "data": {
      "text/plain": [
       "(100000,)"
      ]
     },
     "execution_count": 139,
     "metadata": {},
     "output_type": "execute_result"
    }
   ],
   "source": [
    "df_male_weight_change.shape"
   ]
  },
  {
   "cell_type": "code",
   "execution_count": 140,
   "id": "c75d4a18-49ec-4b2f-a6e8-ae23e054a252",
   "metadata": {},
   "outputs": [],
   "source": [
    "df_female_weight_change = df_female[\"weight_change\"].sample(n = 100000, replace = False)"
   ]
  },
  {
   "cell_type": "code",
   "execution_count": 141,
   "id": "bd0a9ba0-b85e-4a92-8a4c-65bbaa23baef",
   "metadata": {},
   "outputs": [
    {
     "data": {
      "text/plain": [
       "(100000,)"
      ]
     },
     "execution_count": 141,
     "metadata": {},
     "output_type": "execute_result"
    }
   ],
   "source": [
    "df_female_weight_change.shape"
   ]
  },
  {
   "cell_type": "code",
   "execution_count": 142,
   "id": "2b1abd43-6c26-44a2-9f33-a5343dd17232",
   "metadata": {},
   "outputs": [],
   "source": [
    "ttest = ttest_ind(df_male_weight_change, df_female_weight_change)"
   ]
  },
  {
   "cell_type": "code",
   "execution_count": 146,
   "id": "1eaddae0-9b16-4497-9533-b20ccbcfc701",
   "metadata": {},
   "outputs": [
    {
     "name": "stdout",
     "output_type": "stream",
     "text": [
      "Calculated T-statistics: 1.9330591081572758e-07\n",
      "Calculated Two-tailed P-value: -5.205845147173118\n"
     ]
    }
   ],
   "source": [
    "print(f\"Calculated T-statistics: {ttest.pvalue}\")\n",
    "\n",
    "print(f\"Calculated Two-tailed P-value: {ttest.statistic}\")"
   ]
  },
  {
   "cell_type": "markdown",
   "id": "7f1325de-12d8-43d1-8a88-d3daea1647b0",
   "metadata": {},
   "source": [
    "#### *P-value for the weight change between two groups is 1.9330591081572758e-07*\n",
    "\n",
    "when we set limit value for P and pvalue which we calculated less than limit value we can reject null hypothesis."
   ]
  }
 ],
 "metadata": {
  "kernelspec": {
   "display_name": "Python 3 (ipykernel)",
   "language": "python",
   "name": "python3"
  },
  "language_info": {
   "codemirror_mode": {
    "name": "ipython",
    "version": 3
   },
   "file_extension": ".py",
   "mimetype": "text/x-python",
   "name": "python",
   "nbconvert_exporter": "python",
   "pygments_lexer": "ipython3",
   "version": "3.8.5"
  }
 },
 "nbformat": 4,
 "nbformat_minor": 5
}
