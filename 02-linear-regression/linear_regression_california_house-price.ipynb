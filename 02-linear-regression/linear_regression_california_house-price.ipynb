{
 "cells": [
  {
   "cell_type": "code",
   "execution_count": 1,
   "id": "a71b7c46-aa50-4a28-ae07-916360985b7b",
   "metadata": {},
   "outputs": [],
   "source": [
    "# import packages\n",
    "import pandas as pd\n",
    "import numpy as np\n",
    "import matplotlib.pyplot as plt\n",
    "import seaborn as sns"
   ]
  },
  {
   "cell_type": "code",
   "execution_count": 47,
   "id": "711053ef-8fd1-4228-a55e-d8bae02a380b",
   "metadata": {},
   "outputs": [],
   "source": [
    "file = \"wineQualityReds.csv\""
   ]
  },
  {
   "cell_type": "code",
   "execution_count": 50,
   "id": "241ab54d-482f-4570-8ff7-192c26e9ad5d",
   "metadata": {},
   "outputs": [],
   "source": [
    "wine = pd.read_csv(file)"
   ]
  },
  {
   "cell_type": "code",
   "execution_count": 51,
   "id": "9a64a766-ae85-4d91-8f74-8fd01ba14984",
   "metadata": {},
   "outputs": [
    {
     "data": {
      "text/html": [
       "<div>\n",
       "<style scoped>\n",
       "    .dataframe tbody tr th:only-of-type {\n",
       "        vertical-align: middle;\n",
       "    }\n",
       "\n",
       "    .dataframe tbody tr th {\n",
       "        vertical-align: top;\n",
       "    }\n",
       "\n",
       "    .dataframe thead th {\n",
       "        text-align: right;\n",
       "    }\n",
       "</style>\n",
       "<table border=\"1\" class=\"dataframe\">\n",
       "  <thead>\n",
       "    <tr style=\"text-align: right;\">\n",
       "      <th></th>\n",
       "      <th>Unnamed: 0</th>\n",
       "      <th>fixed.acidity</th>\n",
       "      <th>volatile.acidity</th>\n",
       "      <th>citric.acid</th>\n",
       "      <th>residual.sugar</th>\n",
       "      <th>chlorides</th>\n",
       "      <th>free.sulfur.dioxide</th>\n",
       "      <th>total.sulfur.dioxide</th>\n",
       "      <th>density</th>\n",
       "      <th>pH</th>\n",
       "      <th>sulphates</th>\n",
       "      <th>alcohol</th>\n",
       "      <th>quality</th>\n",
       "    </tr>\n",
       "  </thead>\n",
       "  <tbody>\n",
       "    <tr>\n",
       "      <th>0</th>\n",
       "      <td>1</td>\n",
       "      <td>7.4</td>\n",
       "      <td>0.70</td>\n",
       "      <td>0.00</td>\n",
       "      <td>1.9</td>\n",
       "      <td>0.076</td>\n",
       "      <td>11.0</td>\n",
       "      <td>34.0</td>\n",
       "      <td>0.9978</td>\n",
       "      <td>3.51</td>\n",
       "      <td>0.56</td>\n",
       "      <td>9.4</td>\n",
       "      <td>5</td>\n",
       "    </tr>\n",
       "    <tr>\n",
       "      <th>1</th>\n",
       "      <td>2</td>\n",
       "      <td>7.8</td>\n",
       "      <td>0.88</td>\n",
       "      <td>0.00</td>\n",
       "      <td>2.6</td>\n",
       "      <td>0.098</td>\n",
       "      <td>25.0</td>\n",
       "      <td>67.0</td>\n",
       "      <td>0.9968</td>\n",
       "      <td>3.20</td>\n",
       "      <td>0.68</td>\n",
       "      <td>9.8</td>\n",
       "      <td>5</td>\n",
       "    </tr>\n",
       "    <tr>\n",
       "      <th>2</th>\n",
       "      <td>3</td>\n",
       "      <td>7.8</td>\n",
       "      <td>0.76</td>\n",
       "      <td>0.04</td>\n",
       "      <td>2.3</td>\n",
       "      <td>0.092</td>\n",
       "      <td>15.0</td>\n",
       "      <td>54.0</td>\n",
       "      <td>0.9970</td>\n",
       "      <td>3.26</td>\n",
       "      <td>0.65</td>\n",
       "      <td>9.8</td>\n",
       "      <td>5</td>\n",
       "    </tr>\n",
       "    <tr>\n",
       "      <th>3</th>\n",
       "      <td>4</td>\n",
       "      <td>11.2</td>\n",
       "      <td>0.28</td>\n",
       "      <td>0.56</td>\n",
       "      <td>1.9</td>\n",
       "      <td>0.075</td>\n",
       "      <td>17.0</td>\n",
       "      <td>60.0</td>\n",
       "      <td>0.9980</td>\n",
       "      <td>3.16</td>\n",
       "      <td>0.58</td>\n",
       "      <td>9.8</td>\n",
       "      <td>6</td>\n",
       "    </tr>\n",
       "    <tr>\n",
       "      <th>4</th>\n",
       "      <td>5</td>\n",
       "      <td>7.4</td>\n",
       "      <td>0.70</td>\n",
       "      <td>0.00</td>\n",
       "      <td>1.9</td>\n",
       "      <td>0.076</td>\n",
       "      <td>11.0</td>\n",
       "      <td>34.0</td>\n",
       "      <td>0.9978</td>\n",
       "      <td>3.51</td>\n",
       "      <td>0.56</td>\n",
       "      <td>9.4</td>\n",
       "      <td>5</td>\n",
       "    </tr>\n",
       "  </tbody>\n",
       "</table>\n",
       "</div>"
      ],
      "text/plain": [
       "   Unnamed: 0  fixed.acidity  volatile.acidity  citric.acid  residual.sugar  \\\n",
       "0           1            7.4              0.70         0.00             1.9   \n",
       "1           2            7.8              0.88         0.00             2.6   \n",
       "2           3            7.8              0.76         0.04             2.3   \n",
       "3           4           11.2              0.28         0.56             1.9   \n",
       "4           5            7.4              0.70         0.00             1.9   \n",
       "\n",
       "   chlorides  free.sulfur.dioxide  total.sulfur.dioxide  density    pH  \\\n",
       "0      0.076                 11.0                  34.0   0.9978  3.51   \n",
       "1      0.098                 25.0                  67.0   0.9968  3.20   \n",
       "2      0.092                 15.0                  54.0   0.9970  3.26   \n",
       "3      0.075                 17.0                  60.0   0.9980  3.16   \n",
       "4      0.076                 11.0                  34.0   0.9978  3.51   \n",
       "\n",
       "   sulphates  alcohol  quality  \n",
       "0       0.56      9.4        5  \n",
       "1       0.68      9.8        5  \n",
       "2       0.65      9.8        5  \n",
       "3       0.58      9.8        6  \n",
       "4       0.56      9.4        5  "
      ]
     },
     "execution_count": 51,
     "metadata": {},
     "output_type": "execute_result"
    }
   ],
   "source": [
    "wine.head()"
   ]
  },
  {
   "cell_type": "code",
   "execution_count": 52,
   "id": "266a2e72-3ff4-494f-a02d-b2ae13f65820",
   "metadata": {},
   "outputs": [
    {
     "data": {
      "text/plain": [
       "Index(['Unnamed: 0', 'fixed.acidity', 'volatile.acidity', 'citric.acid',\n",
       "       'residual.sugar', 'chlorides', 'free.sulfur.dioxide',\n",
       "       'total.sulfur.dioxide', 'density', 'pH', 'sulphates', 'alcohol',\n",
       "       'quality'],\n",
       "      dtype='object')"
      ]
     },
     "execution_count": 52,
     "metadata": {},
     "output_type": "execute_result"
    }
   ],
   "source": [
    "wine.columns"
   ]
  },
  {
   "cell_type": "code",
   "execution_count": 53,
   "id": "804fc802-a485-4ce9-99dd-743b8c7845ed",
   "metadata": {},
   "outputs": [],
   "source": [
    "# Split features and labels\n",
    "\n",
    "X = wine.drop([\"alcohol\", \"Unnamed: 0\"], axis = 1)\n",
    "y = wine[[\"alcohol\"]]"
   ]
  },
  {
   "cell_type": "code",
   "execution_count": 54,
   "id": "015eb31d-3cb4-408c-9bed-23b0262add7e",
   "metadata": {},
   "outputs": [],
   "source": [
    "from sklearn.model_selection import train_test_split"
   ]
  },
  {
   "cell_type": "code",
   "execution_count": 57,
   "id": "80a9fb48-2a82-4d25-a7f2-cb672f6a41c7",
   "metadata": {},
   "outputs": [],
   "source": [
    "X_train, X_test, y_train, y_test = train_test_split(X,y, \n",
    "                                                    test_size = 0.2, \n",
    "                                                    shuffle = True, \n",
    "                                                    random_state = 12)"
   ]
  },
  {
   "cell_type": "code",
   "execution_count": 58,
   "id": "b251c17d-9d22-4184-a29e-4c836a76e7a2",
   "metadata": {},
   "outputs": [
    {
     "data": {
      "text/html": [
       "<div>\n",
       "<style scoped>\n",
       "    .dataframe tbody tr th:only-of-type {\n",
       "        vertical-align: middle;\n",
       "    }\n",
       "\n",
       "    .dataframe tbody tr th {\n",
       "        vertical-align: top;\n",
       "    }\n",
       "\n",
       "    .dataframe thead th {\n",
       "        text-align: right;\n",
       "    }\n",
       "</style>\n",
       "<table border=\"1\" class=\"dataframe\">\n",
       "  <thead>\n",
       "    <tr style=\"text-align: right;\">\n",
       "      <th></th>\n",
       "      <th>fixed.acidity</th>\n",
       "      <th>volatile.acidity</th>\n",
       "      <th>citric.acid</th>\n",
       "      <th>residual.sugar</th>\n",
       "      <th>chlorides</th>\n",
       "      <th>free.sulfur.dioxide</th>\n",
       "      <th>total.sulfur.dioxide</th>\n",
       "      <th>density</th>\n",
       "      <th>pH</th>\n",
       "      <th>sulphates</th>\n",
       "      <th>quality</th>\n",
       "    </tr>\n",
       "  </thead>\n",
       "  <tbody>\n",
       "    <tr>\n",
       "      <th>1326</th>\n",
       "      <td>6.7</td>\n",
       "      <td>0.460</td>\n",
       "      <td>0.24</td>\n",
       "      <td>1.7</td>\n",
       "      <td>0.077</td>\n",
       "      <td>18.0</td>\n",
       "      <td>34.0</td>\n",
       "      <td>0.99480</td>\n",
       "      <td>3.39</td>\n",
       "      <td>0.60</td>\n",
       "      <td>6</td>\n",
       "    </tr>\n",
       "    <tr>\n",
       "      <th>436</th>\n",
       "      <td>8.0</td>\n",
       "      <td>0.670</td>\n",
       "      <td>0.30</td>\n",
       "      <td>2.0</td>\n",
       "      <td>0.060</td>\n",
       "      <td>38.0</td>\n",
       "      <td>62.0</td>\n",
       "      <td>0.99580</td>\n",
       "      <td>3.26</td>\n",
       "      <td>0.56</td>\n",
       "      <td>6</td>\n",
       "    </tr>\n",
       "    <tr>\n",
       "      <th>188</th>\n",
       "      <td>7.9</td>\n",
       "      <td>0.500</td>\n",
       "      <td>0.33</td>\n",
       "      <td>2.0</td>\n",
       "      <td>0.084</td>\n",
       "      <td>15.0</td>\n",
       "      <td>143.0</td>\n",
       "      <td>0.99680</td>\n",
       "      <td>3.20</td>\n",
       "      <td>0.55</td>\n",
       "      <td>5</td>\n",
       "    </tr>\n",
       "    <tr>\n",
       "      <th>1034</th>\n",
       "      <td>8.9</td>\n",
       "      <td>0.745</td>\n",
       "      <td>0.18</td>\n",
       "      <td>2.5</td>\n",
       "      <td>0.077</td>\n",
       "      <td>15.0</td>\n",
       "      <td>48.0</td>\n",
       "      <td>0.99739</td>\n",
       "      <td>3.20</td>\n",
       "      <td>0.47</td>\n",
       "      <td>6</td>\n",
       "    </tr>\n",
       "    <tr>\n",
       "      <th>1413</th>\n",
       "      <td>9.9</td>\n",
       "      <td>0.570</td>\n",
       "      <td>0.25</td>\n",
       "      <td>2.0</td>\n",
       "      <td>0.104</td>\n",
       "      <td>12.0</td>\n",
       "      <td>89.0</td>\n",
       "      <td>0.99630</td>\n",
       "      <td>3.04</td>\n",
       "      <td>0.90</td>\n",
       "      <td>5</td>\n",
       "    </tr>\n",
       "  </tbody>\n",
       "</table>\n",
       "</div>"
      ],
      "text/plain": [
       "      fixed.acidity  volatile.acidity  citric.acid  residual.sugar  chlorides  \\\n",
       "1326            6.7             0.460         0.24             1.7      0.077   \n",
       "436             8.0             0.670         0.30             2.0      0.060   \n",
       "188             7.9             0.500         0.33             2.0      0.084   \n",
       "1034            8.9             0.745         0.18             2.5      0.077   \n",
       "1413            9.9             0.570         0.25             2.0      0.104   \n",
       "\n",
       "      free.sulfur.dioxide  total.sulfur.dioxide  density    pH  sulphates  \\\n",
       "1326                 18.0                  34.0  0.99480  3.39       0.60   \n",
       "436                  38.0                  62.0  0.99580  3.26       0.56   \n",
       "188                  15.0                 143.0  0.99680  3.20       0.55   \n",
       "1034                 15.0                  48.0  0.99739  3.20       0.47   \n",
       "1413                 12.0                  89.0  0.99630  3.04       0.90   \n",
       "\n",
       "      quality  \n",
       "1326        6  \n",
       "436         6  \n",
       "188         5  \n",
       "1034        6  \n",
       "1413        5  "
      ]
     },
     "execution_count": 58,
     "metadata": {},
     "output_type": "execute_result"
    }
   ],
   "source": [
    "X_train.head()"
   ]
  },
  {
   "cell_type": "code",
   "execution_count": 59,
   "id": "4b880251-5efd-4749-88e3-cf7c29c64671",
   "metadata": {},
   "outputs": [],
   "source": [
    "# Removing categorical variable)\n",
    "cat_attribs = ['quality']\n",
    "num_attribs = list(X_train.drop(cat_attribs, axis=1))"
   ]
  },
  {
   "cell_type": "code",
   "execution_count": 60,
   "id": "81ec704f-2361-44d2-a140-bbaee0a48f2c",
   "metadata": {},
   "outputs": [],
   "source": [
    "from sklearn.pipeline import Pipeline\n",
    "from sklearn.preprocessing import StandardScaler\n",
    "from sklearn.preprocessing import OneHotEncoder\n",
    "from sklearn.base import BaseEstimator, TransformerMixin\n",
    "from sklearn.pipeline import FeatureUnion\n",
    "from sklearn.linear_model import LinearRegression\n",
    "\n",
    "class DFSelector(BaseEstimator, TransformerMixin):\n",
    "    def __init__(self, attribute_names):\n",
    "        self.attribute_names = attribute_names\n",
    "    def fit(self, X, y=None):\n",
    "        return self\n",
    "    def transform(self, X):\n",
    "        return X[self.attribute_names].values"
   ]
  },
  {
   "cell_type": "code",
   "execution_count": 61,
   "id": "3b2d08fe-4b2e-4c7c-9d2f-e9118f8b453b",
   "metadata": {},
   "outputs": [],
   "source": [
    "num_pipe = Pipeline([\n",
    "    ('DFSelector', DFSelector(num_attribs)),\n",
    "    ('scaler', StandardScaler()) # Feature Scaling\n",
    "\n",
    "])\n",
    "\n",
    "cat_pipe = Pipeline([\n",
    "    ('DFSelector', DFSelector(cat_attribs)),\n",
    "    ('OneHot', OneHotEncoder(sparse = False)) #OneHotEncoding of Categorical Attributes\n",
    "])\n",
    "\n",
    "\n",
    "full_pipeline = FeatureUnion(transformer_list =[\n",
    "    (\"num_pipeline\", num_pipe),\n",
    "    (\"cat_pipeline\", cat_pipe)\n",
    "])"
   ]
  },
  {
   "cell_type": "code",
   "execution_count": 62,
   "id": "d5dab068-d653-4431-9011-ac3ea5cd7601",
   "metadata": {},
   "outputs": [],
   "source": [
    "# Preprocessing of the training set\n",
    "X_train_prepared = full_pipeline.fit_transform(X_train)"
   ]
  },
  {
   "cell_type": "code",
   "execution_count": 114,
   "id": "bcb9ef56-c904-4750-8f38-d7f0fe4fe059",
   "metadata": {},
   "outputs": [
    {
     "name": "stdout",
     "output_type": "stream",
     "text": [
      " Item \t\\ tTime \t\t Intercept \t\\ tScore \n",
      " -------------- -------- ----------------- ------\n",
      " SGD Regression  0.0037141999996492814 [10.46811739] 0.7017543335280096\n"
     ]
    }
   ],
   "source": [
    "from sklearn.linear_model import LinearRegression\n",
    "\n",
    "\n",
    "print (\" Item \\t\\ tTime \\t\\t Intercept \\t\\ tScore \")\n",
    "print (\" -------------- -------- ----------------- ------\")\n",
    "s1 = time.perf_counter()\n",
    "model_1 = LinearRegression()\n",
    "model_1.fit(X_train_prepared, y_train)\n",
    "print(\" Linear Regression \", (time.perf_counter()-s1), model_1.intercept_ , model_1.score (X_train_prepared,y_train))"
   ]
  },
  {
   "cell_type": "code",
   "execution_count": 119,
   "id": "9d59079c-d844-4381-9685-17b37c75d748",
   "metadata": {},
   "outputs": [
    {
     "data": {
      "text/plain": [
       "array([[ 0.88270615,  0.0902069 ,  0.13382475,  0.37794551, -0.0197104 ,\n",
       "        -0.02669471, -0.04297927, -1.09997347,  0.57315103,  0.17116825,\n",
       "        -0.396002  , -0.3328361 , -0.20984539,  0.06136907,  0.28487665,\n",
       "         0.59243777]])"
      ]
     },
     "execution_count": 119,
     "metadata": {},
     "output_type": "execute_result"
    }
   ],
   "source": [
    "model_1.coef_[:3]"
   ]
  },
  {
   "cell_type": "code",
   "execution_count": 90,
   "id": "88d2b901-29b5-4bf0-800d-72b3ff3e84b0",
   "metadata": {},
   "outputs": [],
   "source": [
    "# Transform y_train for cross val score. It works witout, but an error occurs\n",
    "\n",
    "y_train_rs = y_train.values"
   ]
  },
  {
   "cell_type": "code",
   "execution_count": 108,
   "id": "f7864cf0-858e-4151-837d-9980ff412f23",
   "metadata": {},
   "outputs": [
    {
     "name": "stdout",
     "output_type": "stream",
     "text": [
      " Item \t\\ tTime \t\t Intercept \t\\ tScore \n",
      " -------------- -------- ----------------- ------\n",
      " SGD Regression  0.004333699999733653 [8.61719143] 0.6744331809841367\n"
     ]
    }
   ],
   "source": [
    "from sklearn.linear_model import SGDRegressor\n",
    "import time\n",
    "\n",
    "print (\" Item \\t\\ tTime \\t\\t Intercept \\t\\ tScore \")\n",
    "print (\" -------------- -------- ----------------- ------\")\n",
    "s1 = time.perf_counter ()\n",
    "model_2 = SGDRegressor()\n",
    "model_2.fit(X_train_prepared, y_train_rs.ravel())\n",
    "print(\" SGD Regression \", (time.perf_counter()-s1), model_2.intercept_ , model_2.score (X_train_prepared,y_train_rs.ravel()))"
   ]
  },
  {
   "cell_type": "code",
   "execution_count": 113,
   "id": "c06862fa-2e2c-4800-afcc-672f463e0b16",
   "metadata": {},
   "outputs": [
    {
     "data": {
      "text/plain": [
       "array([0.8868736 , 0.12427902, 0.16103357])"
      ]
     },
     "execution_count": 113,
     "metadata": {},
     "output_type": "execute_result"
    }
   ],
   "source": [
    "model1.coef_[:3]"
   ]
  },
  {
   "cell_type": "code",
   "execution_count": 121,
   "id": "817aa3c0-ab26-467b-a519-bcb51236aa02",
   "metadata": {},
   "outputs": [
    {
     "name": "stdout",
     "output_type": "stream",
     "text": [
      " Item \t\\ tTime \t\t Intercept \t\\ tScore \n",
      " -------------- -------- ----------------- ------\n",
      " SGD Regression  0.005118800000218471 [8.63085173] 0.6759119390329273\n"
     ]
    },
    {
     "data": {
      "text/plain": [
       "array([0.87976688, 0.11744654, 0.1584008 ])"
      ]
     },
     "execution_count": 121,
     "metadata": {},
     "output_type": "execute_result"
    }
   ],
   "source": [
    "print (\" Item \\t\\ tTime \\t\\t Intercept \\t\\ tScore \")\n",
    "print (\" -------------- -------- ----------------- ------\")\n",
    "s1 = time.perf_counter()\n",
    "model_3 = SGDRegressor(penalty=\"l2\", max_iter = 1000, random_state = 42)\n",
    "model_3.fit(X_train_prepared, y_train_rs.ravel())\n",
    "print(\" SGD Regression \", (time.perf_counter()-s1), model_3.intercept_ , model_3.score (X_train_prepared,y_train_rs.ravel()))\n",
    "\n",
    "model_3.coef_[:3]"
   ]
  },
  {
   "cell_type": "code",
   "execution_count": 123,
   "id": "e7329da3-2d51-4e29-8537-d14149f9476c",
   "metadata": {},
   "outputs": [
    {
     "name": "stdout",
     "output_type": "stream",
     "text": [
      " Item \t\\ tTime \t\t Intercept \t\\ tScore \n",
      " -------------- -------- ----------------- ------\n",
      " SGD Regression  0.00802109999995082 [8.62860819] 0.6757754267217662\n"
     ]
    },
    {
     "data": {
      "text/plain": [
       "array([0.87986317, 0.11726851, 0.15804908])"
      ]
     },
     "execution_count": 123,
     "metadata": {},
     "output_type": "execute_result"
    }
   ],
   "source": [
    "print (\" Item \\t\\ tTime \\t\\t Intercept \\t\\ tScore \")\n",
    "print (\" -------------- -------- ----------------- ------\")\n",
    "s1 = time.perf_counter()\n",
    "model_4 = SGDRegressor(penalty=\"l1\", max_iter = 10000, random_state = 42, shuffle=True)\n",
    "model_4.fit(X_train_prepared, y_train_rs.ravel())\n",
    "print(\" SGD Regression \", (time.perf_counter()-s1), model_4.intercept_ , model_4.score (X_train_prepared,y_train_rs.ravel()))\n",
    "\n",
    "model_4.coef_[:3]"
   ]
  },
  {
   "cell_type": "code",
   "execution_count": 125,
   "id": "696b35f7-ac28-4415-a1b1-db2429c554b5",
   "metadata": {},
   "outputs": [
    {
     "name": "stdout",
     "output_type": "stream",
     "text": [
      " Item \t\\ tTime \t\t Intercept \t\\ tScore \n",
      " -------------- -------- ----------------- ------\n",
      " SGD Regression  0.010291599999618484 [8.62860819] 0.6757754267217662\n"
     ]
    },
    {
     "data": {
      "text/plain": [
       "array([0.84211057, 0.10631453, 0.15566113])"
      ]
     },
     "execution_count": 125,
     "metadata": {},
     "output_type": "execute_result"
    }
   ],
   "source": [
    "from sklearn.linear_model import SGDRegressor\n",
    "\n",
    "print (\" Item \\t\\ tTime \\t\\t Intercept \\t\\ tScore \")\n",
    "print (\" -------------- -------- ----------------- ------\")\n",
    "s1 = time.perf_counter()\n",
    "model_5 = SGDRegressor(penalty=\"elasticnet\", alpha = 0.005, l1_ratio = 0.5, max_iter = 10000, random_state = 42, shuffle=True)\n",
    "model_5.fit(X_train_prepared, y_train_rs.ravel())\n",
    "print(\" SGD Regression \", (time.perf_counter()-s1), model_4.intercept_ , model_4.score(X_train_prepared,y_train_rs.ravel()))\n",
    "\n",
    "model_5.coef_[:3]\n"
   ]
  },
  {
   "cell_type": "code",
   "execution_count": 126,
   "id": "caa59cf6-22f8-4510-9bda-11df26a45a8b",
   "metadata": {},
   "outputs": [
    {
     "name": "stdout",
     "output_type": "stream",
     "text": [
      " Item \t\\ tTime \t\t Intercept \t\\ tScore \n",
      " -------------- -------- ----------------- ------\n",
      " SGD Regression  0.0025458999998591025 [10.46833313] 0.701754237415733\n"
     ]
    },
    {
     "data": {
      "text/plain": [
       "array([[ 0.88236792,  0.09015322,  0.13390973,  0.37788314, -0.01981216,\n",
       "        -0.02666937, -0.04303708, -1.0997814 ,  0.57296433,  0.17119437,\n",
       "        -0.39356499, -0.33257821, -0.21005571,  0.06113941,  0.28459845,\n",
       "         0.59046105]])"
      ]
     },
     "execution_count": 126,
     "metadata": {},
     "output_type": "execute_result"
    }
   ],
   "source": [
    "from sklearn.linear_model import Ridge\n",
    "\n",
    "\n",
    "print (\" Item \\t\\ tTime \\t\\t Intercept \\t\\ tScore \")\n",
    "print (\" -------------- -------- ----------------- ------\")\n",
    "s1 = time.perf_counter()\n",
    "model_6 = Ridge(alpha=0.05, solver=\"cholesky\")\n",
    "model_6.fit(X_train_prepared, y_train)\n",
    "print(\" Ridge \", (time.perf_counter()-s1), model_6.intercept_ , model_6.score(X_train_prepared,y_train))\n",
    "\n",
    "model_6.coef_[:3]\n"
   ]
  },
  {
   "cell_type": "code",
   "execution_count": 127,
   "id": "9693857c-b37d-406b-9306-cb58c9b0cb0e",
   "metadata": {},
   "outputs": [
    {
     "name": "stdout",
     "output_type": "stream",
     "text": [
      " Item \t\\ tTime \t\t Intercept \t\\ tScore \n",
      " -------------- -------- ----------------- ------\n",
      " Ridge  0.0037471000005098176 [10.51891754] 0.6442795561092307\n"
     ]
    },
    {
     "data": {
      "text/plain": [
       "array([ 0.57224566, -0.        ,  0.11522988])"
      ]
     },
     "execution_count": 127,
     "metadata": {},
     "output_type": "execute_result"
    }
   ],
   "source": [
    "from sklearn.linear_model import Lasso\n",
    "\n",
    "\n",
    "\n",
    "print (\" Item \\t\\ tTime \\t\\t Intercept \\t\\ tScore \")\n",
    "print (\" -------------- -------- ----------------- ------\")\n",
    "s1 = time.perf_counter()\n",
    "model_7 = Lasso(alpha=0.05, random_state = 42)\n",
    "model_7.fit(X_train_prepared, y_train)\n",
    "print(\" Ridge \", (time.perf_counter()-s1), model_7.intercept_ , model_7.score(X_train_prepared,y_train))\n",
    "\n",
    "model_7.coef_[:3]"
   ]
  },
  {
   "cell_type": "code",
   "execution_count": null,
   "id": "c8817a60-7d2c-4104-8798-8bf6c46a5405",
   "metadata": {},
   "outputs": [],
   "source": []
  }
 ],
 "metadata": {
  "kernelspec": {
   "display_name": "Python 3 (ipykernel)",
   "language": "python",
   "name": "python3"
  },
  "language_info": {
   "codemirror_mode": {
    "name": "ipython",
    "version": 3
   },
   "file_extension": ".py",
   "mimetype": "text/x-python",
   "name": "python",
   "nbconvert_exporter": "python",
   "pygments_lexer": "ipython3",
   "version": "3.8.5"
  }
 },
 "nbformat": 4,
 "nbformat_minor": 5
}
