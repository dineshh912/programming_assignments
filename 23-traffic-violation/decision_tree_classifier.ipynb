{
 "cells": [
  {
   "cell_type": "code",
   "execution_count": 26,
   "id": "96a1b579-b522-45c1-85b4-fad28d389678",
   "metadata": {},
   "outputs": [],
   "source": [
    "# importing python packages\n",
    "import pandas as pd\n",
    "import matplotlib.pyplot as plt\n",
    "import seaborn as sns\n",
    "\n",
    "from sklearn.model_selection import train_test_split\n",
    "# Encode categorical variables\n",
    "import category_encoders as ce\n",
    "from sklearn.tree import DecisionTreeClassifier\n",
    "\n",
    "from sklearn.metrics import accuracy_score\n",
    "from sklearn import tree, metrics\n",
    "from sklearn.metrics import classification_report, confusion_matrix\n",
    "\n",
    "import warnings\n",
    "warnings.filterwarnings('ignore')"
   ]
  },
  {
   "cell_type": "code",
   "execution_count": 2,
   "id": "019406c3-61fd-425a-96c3-f5a57989d23f",
   "metadata": {},
   "outputs": [],
   "source": [
    "# Data location\n",
    "data_path = 'data/Traffic_Violations.csv'"
   ]
  },
  {
   "cell_type": "code",
   "execution_count": 3,
   "id": "30ef6c59-914d-4c71-b623-67a4ce1dd266",
   "metadata": {},
   "outputs": [],
   "source": [
    "# Load into pandas data frame\n",
    "df = pd.read_csv(data_path)"
   ]
  },
  {
   "cell_type": "code",
   "execution_count": 4,
   "id": "c5c55a76-2220-4e27-a452-5c585420a98a",
   "metadata": {},
   "outputs": [
    {
     "data": {
      "text/plain": [
       "(1292399, 35)"
      ]
     },
     "execution_count": 4,
     "metadata": {},
     "output_type": "execute_result"
    }
   ],
   "source": [
    "# size of data set\n",
    "df.shape"
   ]
  },
  {
   "cell_type": "code",
   "execution_count": 5,
   "id": "ae1d70e5-ea94-4ea2-ac6a-38801f7c4c95",
   "metadata": {},
   "outputs": [
    {
     "data": {
      "text/html": [
       "<div>\n",
       "<style scoped>\n",
       "    .dataframe tbody tr th:only-of-type {\n",
       "        vertical-align: middle;\n",
       "    }\n",
       "\n",
       "    .dataframe tbody tr th {\n",
       "        vertical-align: top;\n",
       "    }\n",
       "\n",
       "    .dataframe thead th {\n",
       "        text-align: right;\n",
       "    }\n",
       "</style>\n",
       "<table border=\"1\" class=\"dataframe\">\n",
       "  <thead>\n",
       "    <tr style=\"text-align: right;\">\n",
       "      <th></th>\n",
       "      <th>Date Of Stop</th>\n",
       "      <th>Time Of Stop</th>\n",
       "      <th>Agency</th>\n",
       "      <th>SubAgency</th>\n",
       "      <th>Description</th>\n",
       "      <th>Location</th>\n",
       "      <th>Latitude</th>\n",
       "      <th>Longitude</th>\n",
       "      <th>Accident</th>\n",
       "      <th>Belts</th>\n",
       "      <th>...</th>\n",
       "      <th>Charge</th>\n",
       "      <th>Article</th>\n",
       "      <th>Contributed To Accident</th>\n",
       "      <th>Race</th>\n",
       "      <th>Gender</th>\n",
       "      <th>Driver City</th>\n",
       "      <th>Driver State</th>\n",
       "      <th>DL State</th>\n",
       "      <th>Arrest Type</th>\n",
       "      <th>Geolocation</th>\n",
       "    </tr>\n",
       "  </thead>\n",
       "  <tbody>\n",
       "    <tr>\n",
       "      <th>0</th>\n",
       "      <td>09/24/2013</td>\n",
       "      <td>17:11:00</td>\n",
       "      <td>MCP</td>\n",
       "      <td>3rd district, Silver Spring</td>\n",
       "      <td>DRIVING VEHICLE ON HIGHWAY WITH SUSPENDED REGI...</td>\n",
       "      <td>8804 FLOWER AVE</td>\n",
       "      <td>NaN</td>\n",
       "      <td>NaN</td>\n",
       "      <td>No</td>\n",
       "      <td>No</td>\n",
       "      <td>...</td>\n",
       "      <td>13-401(h)</td>\n",
       "      <td>Transportation Article</td>\n",
       "      <td>No</td>\n",
       "      <td>BLACK</td>\n",
       "      <td>M</td>\n",
       "      <td>TAKOMA PARK</td>\n",
       "      <td>MD</td>\n",
       "      <td>MD</td>\n",
       "      <td>A - Marked Patrol</td>\n",
       "      <td>NaN</td>\n",
       "    </tr>\n",
       "    <tr>\n",
       "      <th>1</th>\n",
       "      <td>08/29/2017</td>\n",
       "      <td>10:19:00</td>\n",
       "      <td>MCP</td>\n",
       "      <td>2nd district, Bethesda</td>\n",
       "      <td>DRIVER FAILURE TO OBEY PROPERLY PLACED TRAFFIC...</td>\n",
       "      <td>WISCONSIN AVE@ ELM ST</td>\n",
       "      <td>38.981725</td>\n",
       "      <td>-77.092757</td>\n",
       "      <td>No</td>\n",
       "      <td>No</td>\n",
       "      <td>...</td>\n",
       "      <td>21-201(a1)</td>\n",
       "      <td>Transportation Article</td>\n",
       "      <td>No</td>\n",
       "      <td>WHITE</td>\n",
       "      <td>F</td>\n",
       "      <td>FAIRFAX STATION</td>\n",
       "      <td>VA</td>\n",
       "      <td>VA</td>\n",
       "      <td>A - Marked Patrol</td>\n",
       "      <td>(38.981725, -77.0927566666667)</td>\n",
       "    </tr>\n",
       "    <tr>\n",
       "      <th>2</th>\n",
       "      <td>12/01/2014</td>\n",
       "      <td>12:52:00</td>\n",
       "      <td>MCP</td>\n",
       "      <td>6th district, Gaithersburg / Montgomery Village</td>\n",
       "      <td>FAILURE STOP AND YIELD AT THRU HWY</td>\n",
       "      <td>CHRISTOPHER AVE/MONTGOMERY VILLAGE AVE</td>\n",
       "      <td>39.162888</td>\n",
       "      <td>-77.229088</td>\n",
       "      <td>No</td>\n",
       "      <td>No</td>\n",
       "      <td>...</td>\n",
       "      <td>21-403(b)</td>\n",
       "      <td>Transportation Article</td>\n",
       "      <td>No</td>\n",
       "      <td>BLACK</td>\n",
       "      <td>F</td>\n",
       "      <td>UPPER MARLBORO</td>\n",
       "      <td>MD</td>\n",
       "      <td>MD</td>\n",
       "      <td>A - Marked Patrol</td>\n",
       "      <td>(39.1628883333333, -77.2290883333333)</td>\n",
       "    </tr>\n",
       "    <tr>\n",
       "      <th>3</th>\n",
       "      <td>08/29/2017</td>\n",
       "      <td>09:22:00</td>\n",
       "      <td>MCP</td>\n",
       "      <td>3rd district, Silver Spring</td>\n",
       "      <td>FAILURE YIELD RIGHT OF WAY ON U TURN</td>\n",
       "      <td>CHERRY HILL RD./CALVERTON BLVD.</td>\n",
       "      <td>39.056975</td>\n",
       "      <td>-76.954633</td>\n",
       "      <td>No</td>\n",
       "      <td>No</td>\n",
       "      <td>...</td>\n",
       "      <td>21-402(b)</td>\n",
       "      <td>Transportation Article</td>\n",
       "      <td>No</td>\n",
       "      <td>BLACK</td>\n",
       "      <td>M</td>\n",
       "      <td>FORT WASHINGTON</td>\n",
       "      <td>MD</td>\n",
       "      <td>MD</td>\n",
       "      <td>A - Marked Patrol</td>\n",
       "      <td>(39.056975, -76.9546333333333)</td>\n",
       "    </tr>\n",
       "    <tr>\n",
       "      <th>4</th>\n",
       "      <td>08/28/2017</td>\n",
       "      <td>23:41:00</td>\n",
       "      <td>MCP</td>\n",
       "      <td>6th district, Gaithersburg / Montgomery Village</td>\n",
       "      <td>FAILURE OF DR. TO MAKE LANE CHANGE TO AVAIL. L...</td>\n",
       "      <td>355 @ SOUTH WESTLAND DRIVE</td>\n",
       "      <td>NaN</td>\n",
       "      <td>NaN</td>\n",
       "      <td>No</td>\n",
       "      <td>No</td>\n",
       "      <td>...</td>\n",
       "      <td>21-405(e1)</td>\n",
       "      <td>Transportation Article</td>\n",
       "      <td>No</td>\n",
       "      <td>WHITE</td>\n",
       "      <td>M</td>\n",
       "      <td>GAITHERSBURG</td>\n",
       "      <td>MD</td>\n",
       "      <td>MD</td>\n",
       "      <td>A - Marked Patrol</td>\n",
       "      <td>NaN</td>\n",
       "    </tr>\n",
       "  </tbody>\n",
       "</table>\n",
       "<p>5 rows × 35 columns</p>\n",
       "</div>"
      ],
      "text/plain": [
       "  Date Of Stop Time Of Stop Agency  \\\n",
       "0   09/24/2013     17:11:00    MCP   \n",
       "1   08/29/2017     10:19:00    MCP   \n",
       "2   12/01/2014     12:52:00    MCP   \n",
       "3   08/29/2017     09:22:00    MCP   \n",
       "4   08/28/2017     23:41:00    MCP   \n",
       "\n",
       "                                         SubAgency  \\\n",
       "0                      3rd district, Silver Spring   \n",
       "1                           2nd district, Bethesda   \n",
       "2  6th district, Gaithersburg / Montgomery Village   \n",
       "3                      3rd district, Silver Spring   \n",
       "4  6th district, Gaithersburg / Montgomery Village   \n",
       "\n",
       "                                         Description  \\\n",
       "0  DRIVING VEHICLE ON HIGHWAY WITH SUSPENDED REGI...   \n",
       "1  DRIVER FAILURE TO OBEY PROPERLY PLACED TRAFFIC...   \n",
       "2                 FAILURE STOP AND YIELD AT THRU HWY   \n",
       "3               FAILURE YIELD RIGHT OF WAY ON U TURN   \n",
       "4  FAILURE OF DR. TO MAKE LANE CHANGE TO AVAIL. L...   \n",
       "\n",
       "                                 Location   Latitude  Longitude Accident  \\\n",
       "0                         8804 FLOWER AVE        NaN        NaN       No   \n",
       "1                   WISCONSIN AVE@ ELM ST  38.981725 -77.092757       No   \n",
       "2  CHRISTOPHER AVE/MONTGOMERY VILLAGE AVE  39.162888 -77.229088       No   \n",
       "3         CHERRY HILL RD./CALVERTON BLVD.  39.056975 -76.954633       No   \n",
       "4              355 @ SOUTH WESTLAND DRIVE        NaN        NaN       No   \n",
       "\n",
       "  Belts  ...      Charge                 Article Contributed To Accident  \\\n",
       "0    No  ...   13-401(h)  Transportation Article                      No   \n",
       "1    No  ...  21-201(a1)  Transportation Article                      No   \n",
       "2    No  ...   21-403(b)  Transportation Article                      No   \n",
       "3    No  ...   21-402(b)  Transportation Article                      No   \n",
       "4    No  ...  21-405(e1)  Transportation Article                      No   \n",
       "\n",
       "    Race Gender      Driver City Driver State DL State        Arrest Type  \\\n",
       "0  BLACK      M      TAKOMA PARK           MD       MD  A - Marked Patrol   \n",
       "1  WHITE      F  FAIRFAX STATION           VA       VA  A - Marked Patrol   \n",
       "2  BLACK      F   UPPER MARLBORO           MD       MD  A - Marked Patrol   \n",
       "3  BLACK      M  FORT WASHINGTON           MD       MD  A - Marked Patrol   \n",
       "4  WHITE      M     GAITHERSBURG           MD       MD  A - Marked Patrol   \n",
       "\n",
       "                             Geolocation  \n",
       "0                                    NaN  \n",
       "1         (38.981725, -77.0927566666667)  \n",
       "2  (39.1628883333333, -77.2290883333333)  \n",
       "3         (39.056975, -76.9546333333333)  \n",
       "4                                    NaN  \n",
       "\n",
       "[5 rows x 35 columns]"
      ]
     },
     "execution_count": 5,
     "metadata": {},
     "output_type": "execute_result"
    }
   ],
   "source": [
    "# View first few rows of the dataset\n",
    "df.head()"
   ]
  },
  {
   "cell_type": "code",
   "execution_count": 6,
   "id": "53f1ac85-c24b-4f95-a4f5-04dbe5fae9a0",
   "metadata": {},
   "outputs": [
    {
     "data": {
      "text/plain": [
       "Index(['Date Of Stop', 'Time Of Stop', 'Agency', 'SubAgency', 'Description',\n",
       "       'Location', 'Latitude', 'Longitude', 'Accident', 'Belts',\n",
       "       'Personal Injury', 'Property Damage', 'Fatal', 'Commercial License',\n",
       "       'HAZMAT', 'Commercial Vehicle', 'Alcohol', 'Work Zone', 'State',\n",
       "       'VehicleType', 'Year', 'Make', 'Model', 'Color', 'Violation Type',\n",
       "       'Charge', 'Article', 'Contributed To Accident', 'Race', 'Gender',\n",
       "       'Driver City', 'Driver State', 'DL State', 'Arrest Type',\n",
       "       'Geolocation'],\n",
       "      dtype='object')"
      ]
     },
     "execution_count": 6,
     "metadata": {},
     "output_type": "execute_result"
    }
   ],
   "source": [
    "# View all columns\n",
    "df.columns"
   ]
  },
  {
   "cell_type": "code",
   "execution_count": 7,
   "id": "0b43381e-e02f-4c35-8213-47d8b3bfb2c2",
   "metadata": {},
   "outputs": [
    {
     "name": "stdout",
     "output_type": "stream",
     "text": [
      "<class 'pandas.core.frame.DataFrame'>\n",
      "RangeIndex: 1292399 entries, 0 to 1292398\n",
      "Data columns (total 35 columns):\n",
      " #   Column                   Non-Null Count    Dtype  \n",
      "---  ------                   --------------    -----  \n",
      " 0   Date Of Stop             1292399 non-null  object \n",
      " 1   Time Of Stop             1292399 non-null  object \n",
      " 2   Agency                   1292399 non-null  object \n",
      " 3   SubAgency                1292389 non-null  object \n",
      " 4   Description              1292390 non-null  object \n",
      " 5   Location                 1292397 non-null  object \n",
      " 6   Latitude                 1197045 non-null  float64\n",
      " 7   Longitude                1197045 non-null  float64\n",
      " 8   Accident                 1292399 non-null  object \n",
      " 9   Belts                    1292399 non-null  object \n",
      " 10  Personal Injury          1292399 non-null  object \n",
      " 11  Property Damage          1292399 non-null  object \n",
      " 12  Fatal                    1292399 non-null  object \n",
      " 13  Commercial License       1292399 non-null  object \n",
      " 14  HAZMAT                   1292399 non-null  object \n",
      " 15  Commercial Vehicle       1292399 non-null  object \n",
      " 16  Alcohol                  1292399 non-null  object \n",
      " 17  Work Zone                1292399 non-null  object \n",
      " 18  State                    1292340 non-null  object \n",
      " 19  VehicleType              1292399 non-null  object \n",
      " 20  Year                     1284325 non-null  float64\n",
      " 21  Make                     1292342 non-null  object \n",
      " 22  Model                    1292212 non-null  object \n",
      " 23  Color                    1276272 non-null  object \n",
      " 24  Violation Type           1292399 non-null  object \n",
      " 25  Charge                   1292399 non-null  object \n",
      " 26  Article                  1227230 non-null  object \n",
      " 27  Contributed To Accident  1292399 non-null  object \n",
      " 28  Race                     1292399 non-null  object \n",
      " 29  Gender                   1292399 non-null  object \n",
      " 30  Driver City              1292182 non-null  object \n",
      " 31  Driver State             1292388 non-null  object \n",
      " 32  DL State                 1291470 non-null  object \n",
      " 33  Arrest Type              1292399 non-null  object \n",
      " 34  Geolocation              1197045 non-null  object \n",
      "dtypes: float64(3), object(32)\n",
      "memory usage: 345.1+ MB\n"
     ]
    }
   ],
   "source": [
    "# information about the df\n",
    "df.info()"
   ]
  },
  {
   "cell_type": "code",
   "execution_count": 8,
   "id": "306bc481-c7d9-4750-9276-77cdacfbb7fd",
   "metadata": {},
   "outputs": [],
   "source": [
    "# Removing columns which having null value\n",
    "df.dropna(inplace=True)"
   ]
  },
  {
   "cell_type": "code",
   "execution_count": 9,
   "id": "223112c4-c8ec-4ddb-8901-ab171786a19e",
   "metadata": {},
   "outputs": [
    {
     "data": {
      "text/plain": [
       "(1120327, 35)"
      ]
     },
     "execution_count": 9,
     "metadata": {},
     "output_type": "execute_result"
    }
   ],
   "source": [
    "df.shape"
   ]
  },
  {
   "cell_type": "code",
   "execution_count": 10,
   "id": "dd87f778-62c9-416a-bdf7-7eeb70e93198",
   "metadata": {},
   "outputs": [
    {
     "data": {
      "text/plain": [
       "Date Of Stop               0\n",
       "Time Of Stop               0\n",
       "Agency                     0\n",
       "SubAgency                  0\n",
       "Description                0\n",
       "Location                   0\n",
       "Latitude                   0\n",
       "Longitude                  0\n",
       "Accident                   0\n",
       "Belts                      0\n",
       "Personal Injury            0\n",
       "Property Damage            0\n",
       "Fatal                      0\n",
       "Commercial License         0\n",
       "HAZMAT                     0\n",
       "Commercial Vehicle         0\n",
       "Alcohol                    0\n",
       "Work Zone                  0\n",
       "State                      0\n",
       "VehicleType                0\n",
       "Year                       0\n",
       "Make                       0\n",
       "Model                      0\n",
       "Color                      0\n",
       "Violation Type             0\n",
       "Charge                     0\n",
       "Article                    0\n",
       "Contributed To Accident    0\n",
       "Race                       0\n",
       "Gender                     0\n",
       "Driver City                0\n",
       "Driver State               0\n",
       "DL State                   0\n",
       "Arrest Type                0\n",
       "Geolocation                0\n",
       "dtype: int64"
      ]
     },
     "execution_count": 10,
     "metadata": {},
     "output_type": "execute_result"
    }
   ],
   "source": [
    "# After removing null value now we have aroung 1120327 observation with 35 features\n",
    "df.isnull().sum()"
   ]
  },
  {
   "cell_type": "code",
   "execution_count": 11,
   "id": "38ec00eb-8456-4cb5-bf0a-55dd2899cfbe",
   "metadata": {},
   "outputs": [],
   "source": [
    "# Feature selection:\n",
    "# We can drop featurs which doesn't contribute much on prediction such as date of stop, time of stop etc\n",
    "\n",
    "main_df = df.drop(columns=['Date Of Stop', 'Time Of Stop', 'Agency', 'SubAgency', 'Description',\n",
    "                           'Location', 'Latitude', 'Longitude',\n",
    "                           'Personal Injury', 'Property Damage', 'Fatal', 'Commercial License',\n",
    "                           'Commercial Vehicle', 'Work Zone', 'State','Accident',\n",
    "                           'VehicleType', 'Year', 'Make',\n",
    "                           'Charge', 'Article', 'Contributed To Accident',\n",
    "                           'Driver State', 'DL State',\n",
    "                           'Geolocation'])"
   ]
  },
  {
   "cell_type": "code",
   "execution_count": 12,
   "id": "a822677d-6d43-41b6-af95-8c216e9079d0",
   "metadata": {},
   "outputs": [
    {
     "data": {
      "text/plain": [
       "Index(['Belts', 'HAZMAT', 'Alcohol', 'Model', 'Color', 'Violation Type',\n",
       "       'Race', 'Gender', 'Driver City', 'Arrest Type'],\n",
       "      dtype='object')"
      ]
     },
     "execution_count": 12,
     "metadata": {},
     "output_type": "execute_result"
    }
   ],
   "source": [
    "main_df.columns"
   ]
  },
  {
   "cell_type": "code",
   "execution_count": 13,
   "id": "92971355-4809-49af-9696-d6e6f6616c7d",
   "metadata": {},
   "outputs": [
    {
     "data": {
      "text/plain": [
       "(1120327, 10)"
      ]
     },
     "execution_count": 13,
     "metadata": {},
     "output_type": "execute_result"
    }
   ],
   "source": [
    "main_df.shape"
   ]
  },
  {
   "cell_type": "code",
   "execution_count": 14,
   "id": "05837e9d-cf9a-41b7-80f9-6f08882e3742",
   "metadata": {},
   "outputs": [
    {
     "name": "stdout",
     "output_type": "stream",
     "text": [
      "<class 'pandas.core.frame.DataFrame'>\n",
      "Int64Index: 1120327 entries, 1 to 1291740\n",
      "Data columns (total 10 columns):\n",
      " #   Column          Non-Null Count    Dtype \n",
      "---  ------          --------------    ----- \n",
      " 0   Belts           1120327 non-null  object\n",
      " 1   HAZMAT          1120327 non-null  object\n",
      " 2   Alcohol         1120327 non-null  object\n",
      " 3   Model           1120327 non-null  object\n",
      " 4   Color           1120327 non-null  object\n",
      " 5   Violation Type  1120327 non-null  object\n",
      " 6   Race            1120327 non-null  object\n",
      " 7   Gender          1120327 non-null  object\n",
      " 8   Driver City     1120327 non-null  object\n",
      " 9   Arrest Type     1120327 non-null  object\n",
      "dtypes: object(10)\n",
      "memory usage: 94.0+ MB\n"
     ]
    }
   ],
   "source": [
    "# After drop the columns we have 17 features with 1120327 observation\n",
    "main_df.info()"
   ]
  },
  {
   "cell_type": "code",
   "execution_count": 15,
   "id": "b2eb0aca-3562-4233-bfe0-e99c2081b62e",
   "metadata": {},
   "outputs": [],
   "source": [
    "# Split values into X and y\n",
    "\n",
    "X = main_df.drop(columns=['Violation Type'])\n",
    "\n",
    "y = main_df['Violation Type']"
   ]
  },
  {
   "cell_type": "code",
   "execution_count": 16,
   "id": "5dee6907-e4a9-4eaa-85bd-78f68824c5c9",
   "metadata": {},
   "outputs": [],
   "source": [
    "# Further divide into subset for model building, here we are split ratio of 75-25\n",
    "X_train,X_test, y_train, y_test = train_test_split(X,y, test_size=0.25, random_state=246)"
   ]
  },
  {
   "cell_type": "code",
   "execution_count": 17,
   "id": "50e4e151-41a7-46b6-a4d8-bfd12d34c8f5",
   "metadata": {},
   "outputs": [
    {
     "data": {
      "text/plain": [
       "Belts          object\n",
       "HAZMAT         object\n",
       "Alcohol        object\n",
       "Model          object\n",
       "Color          object\n",
       "Race           object\n",
       "Gender         object\n",
       "Driver City    object\n",
       "Arrest Type    object\n",
       "dtype: object"
      ]
     },
     "execution_count": 17,
     "metadata": {},
     "output_type": "execute_result"
    }
   ],
   "source": [
    "X_train.dtypes"
   ]
  },
  {
   "cell_type": "code",
   "execution_count": 18,
   "id": "d064cf27-67b9-4205-8d66-4c217615c231",
   "metadata": {},
   "outputs": [],
   "source": [
    "# Encode categorical variables\n",
    "encoder = ce.OrdinalEncoder()"
   ]
  },
  {
   "cell_type": "code",
   "execution_count": 19,
   "id": "2f4dcf5b-9061-453f-b2c8-6fec328e0342",
   "metadata": {},
   "outputs": [],
   "source": [
    "# encode all features in training set.\n",
    "X_train = encoder.fit_transform(X_train)\n",
    "\n",
    "# Do the same, but for X_test\n",
    "X_test = encoder.transform(X_test)"
   ]
  },
  {
   "cell_type": "markdown",
   "id": "5654b839-52c3-4977-9c15-23e3e0591937",
   "metadata": {},
   "source": [
    "#### Entropy model - no_max_depth"
   ]
  },
  {
   "cell_type": "code",
   "execution_count": 23,
   "id": "72bebcc7-ff78-481a-98b4-d82c8cc4c82c",
   "metadata": {},
   "outputs": [
    {
     "data": {
      "text/plain": [
       "DecisionTreeClassifier(criterion='entropy')"
      ]
     },
     "execution_count": 23,
     "metadata": {},
     "output_type": "execute_result"
    }
   ],
   "source": [
    "entr_model = tree.DecisionTreeClassifier(criterion='entropy')\n",
    "\n",
    "# Call fit() on entr_model\n",
    "entr_model.fit(X_train, y_train)\n",
    "\n",
    "# Call predict() on entr_model with X_test passed to it, and assign the result to a variable y_pred \n",
    "y_pred = entr_model.predict(X_test)\n",
    "\n",
    "# Call Series on our y_pred variable \n",
    "pd.Series(y_pred)\n",
    "\n",
    "# Check out entr_model\n",
    "entr_model"
   ]
  },
  {
   "cell_type": "code",
   "execution_count": null,
   "id": "78c2cf2f-8e1d-43ea-bee1-5b8c9503ed7f",
   "metadata": {},
   "outputs": [],
   "source": [
    "tree.plot_tree(entr_model, class_names = [\"Warning\", \"Citation\", \"SERO\"], feature_names=X_train.columns, filled=True)"
   ]
  },
  {
   "cell_type": "code",
   "execution_count": 24,
   "id": "2abb2611-1fa3-4974-b774-bce82a00ba06",
   "metadata": {},
   "outputs": [
    {
     "name": "stdout",
     "output_type": "stream",
     "text": [
      "Model Entropy - no max depth\n",
      "Accuracy: 0.6581358316493027\n",
      "Balanced accuracy: 0.5055729194344707\n"
     ]
    }
   ],
   "source": [
    "# model evaluation metrics \n",
    "print(\"Model Entropy - no max depth\")\n",
    "print(\"Accuracy:\", metrics.accuracy_score(y_test,y_pred))\n",
    "print(\"Balanced accuracy:\", metrics.balanced_accuracy_score(y_test,y_pred))"
   ]
  },
  {
   "cell_type": "code",
   "execution_count": 27,
   "id": "203e0531-ac47-4995-a24c-2fe0723d26e4",
   "metadata": {},
   "outputs": [],
   "source": [
    "cm = confusion_matrix(y_test,y_pred)"
   ]
  },
  {
   "cell_type": "code",
   "execution_count": 28,
   "id": "231fe40a-3474-41b3-a3ab-34ba6cee6866",
   "metadata": {},
   "outputs": [
    {
     "data": {
      "text/plain": [
       "<AxesSubplot:>"
      ]
     },
     "execution_count": 28,
     "metadata": {},
     "output_type": "execute_result"
    },
    {
     "data": {
      "image/png": "[encoded data removed]",
      "text/plain": [
       "<Figure size 432x288 with 2 Axes>"
      ]
     },
     "metadata": {
      "needs_background": "light"
     },
     "output_type": "display_data"
    }
   ],
   "source": [
    "sns.heatmap(cm, annot=True)"
   ]
  },
  {
   "cell_type": "markdown",
   "id": "e8ba3be8-f330-4af1-9432-832f516e5257",
   "metadata": {},
   "source": [
    "##### Gini impurity Model - No Max depth"
   ]
  },
  {
   "cell_type": "code",
   "execution_count": 29,
   "id": "aa68c7d8-4b13-4ee6-a88d-04ffe2534bb3",
   "metadata": {},
   "outputs": [
    {
     "data": {
      "text/plain": [
       "DecisionTreeClassifier()"
      ]
     },
     "execution_count": 29,
     "metadata": {},
     "output_type": "execute_result"
    }
   ],
   "source": [
    "# criterion changed to 'gini'\n",
    "gini_model = tree.DecisionTreeClassifier(criterion='gini')\n",
    "\n",
    "# Call fit() on the gini_model as you did with the entr_model\n",
    "gini_model.fit(X_train, y_train)\n",
    "\n",
    "# Call predict() on the gini_model as you did with the entr_model \n",
    "y_pred = gini_model.predict(X_test)\n",
    "\n",
    "# Turn y_pred into a series, as before\n",
    "pd.Series(y_pred)\n",
    "\n",
    "# Check out gini_model\n",
    "gini_model"
   ]
  },
  {
   "cell_type": "code",
   "execution_count": null,
   "id": "e1312357-7c4b-44f3-ae2b-c0d6a1b5c58c",
   "metadata": {},
   "outputs": [],
   "source": [
    "tree.plot_tree(gini_model, class_names = [\"Warning\", \"Citation\", \"SERO\"],  feature_names=X_train.columns, filled=True)"
   ]
  },
  {
   "cell_type": "code",
   "execution_count": null,
   "id": "02964103-8ae4-4957-8661-9276bc400385",
   "metadata": {},
   "outputs": [],
   "source": [
    "# model evaluation metrics \n",
    "print(\"Model Entropy - no max depth\")\n",
    "print(\"Accuracy:\", metrics.accuracy_score(y_test,y_pred))\n",
    "print(\"Balanced accuracy:\", metrics.balanced_accuracy_score(y_test,y_pred))"
   ]
  },
  {
   "cell_type": "code",
   "execution_count": 31,
   "id": "e35c17a5-7cc5-4f01-a2b0-c89b464398ce",
   "metadata": {},
   "outputs": [],
   "source": [
    "cm = confusion_matrix(y_test,y_pred)"
   ]
  },
  {
   "cell_type": "code",
   "execution_count": 32,
   "id": "ae11ef44-4f75-4381-ba60-43341d970207",
   "metadata": {},
   "outputs": [
    {
     "data": {
      "text/plain": [
       "<AxesSubplot:>"
      ]
     },
     "execution_count": 32,
     "metadata": {},
     "output_type": "execute_result"
    },
    {
     "data": {
      "image/png": "[encoded data removed]",
      "text/plain": [
       "<Figure size 432x288 with 2 Axes>"
      ]
     },
     "metadata": {
      "needs_background": "light"
     },
     "output_type": "display_data"
    }
   ],
   "source": [
    "sns.heatmap(cm, annot=True)"
   ]
  },
  {
   "cell_type": "markdown",
   "id": "ee8e594f-e5aa-45b0-964e-ea720bbcc636",
   "metadata": {},
   "source": [
    "Looks like Both gini and entropy model performed moderately with 0.65 accuracy, we many do hyper parameter tuning to improve the results like max-depth etc."
   ]
  },
  {
   "cell_type": "code",
   "execution_count": null,
   "id": "90fc22a3-3060-4156-adca-7faf740d88fa",
   "metadata": {},
   "outputs": [],
   "source": []
  }
 ],
 "metadata": {
  "kernelspec": {
   "display_name": "Python 3 (ipykernel)",
   "language": "python",
   "name": "python3"
  },
  "language_info": {
   "codemirror_mode": {
    "name": "ipython",
    "version": 3
   },
   "file_extension": ".py",
   "mimetype": "text/x-python",
   "name": "python",
   "nbconvert_exporter": "python",
   "pygments_lexer": "ipython3",
   "version": "3.9.6"
  }
 },
 "nbformat": 4,
 "nbformat_minor": 5
}
