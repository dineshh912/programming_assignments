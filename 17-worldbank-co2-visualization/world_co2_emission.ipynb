{
 "cells": [
  {
   "cell_type": "markdown",
   "id": "fe11ab94-e368-447a-8eb9-47ee8900c7d3",
   "metadata": {},
   "source": [
    "# World C02 Emission over the year\n",
    "\n",
    "Data used in this visualization provided by worldbank.  \n",
    "\n",
    "### Dataset\n",
    "\n",
    "    http://data.worldbank.org/indicator/EN.ATM.CO2E.PC/\n"
   ]
  },
  {
   "cell_type": "code",
   "execution_count": 1,
   "id": "9bce2759-0845-4e43-96b5-1dc83a4aa5f3",
   "metadata": {},
   "outputs": [],
   "source": [
    "# Importing python packages\n",
    "import numpy as np\n",
    "import pandas as pd\n",
    "import matplotlib.pyplot as plt\n",
    "import seaborn as sns"
   ]
  },
  {
   "cell_type": "code",
   "execution_count": 2,
   "id": "a4c0511d-dcff-494f-9887-46405d0a84bd",
   "metadata": {},
   "outputs": [],
   "source": [
    "# Loding data set\n",
    "raw_df = pd.read_csv(\"data/data.csv\")"
   ]
  },
  {
   "cell_type": "code",
   "execution_count": 3,
   "id": "c2f92f3a-60f5-41bf-9442-a08ac8e614eb",
   "metadata": {},
   "outputs": [
    {
     "data": {
      "text/plain": [
       "(266, 65)"
      ]
     },
     "execution_count": 3,
     "metadata": {},
     "output_type": "execute_result"
    }
   ],
   "source": [
    "raw_df.shape"
   ]
  },
  {
   "cell_type": "code",
   "execution_count": 4,
   "id": "7a359a5b-467f-4fff-be7b-e855820f91c8",
   "metadata": {},
   "outputs": [
    {
     "data": {
      "text/plain": [
       "Index(['Country Name', 'Country Code', 'Indicator Name', 'Indicator Code',\n",
       "       '1960', '1961', '1962', '1963', '1964', '1965', '1966', '1967', '1968',\n",
       "       '1969', '1970', '1971', '1972', '1973', '1974', '1975', '1976', '1977',\n",
       "       '1978', '1979', '1980', '1981', '1982', '1983', '1984', '1985', '1986',\n",
       "       '1987', '1988', '1989', '1990', '1991', '1992', '1993', '1994', '1995',\n",
       "       '1996', '1997', '1998', '1999', '2000', '2001', '2002', '2003', '2004',\n",
       "       '2005', '2006', '2007', '2008', '2009', '2010', '2011', '2012', '2013',\n",
       "       '2014', '2015', '2016', '2017', '2018', '2019', '2020'],\n",
       "      dtype='object')"
      ]
     },
     "execution_count": 4,
     "metadata": {},
     "output_type": "execute_result"
    }
   ],
   "source": [
    "raw_df.columns"
   ]
  },
  {
   "cell_type": "code",
   "execution_count": 5,
   "id": "33ab597e-7fb8-4c28-b083-f1b3614411c1",
   "metadata": {},
   "outputs": [
    {
     "data": {
      "text/html": [
       "<div>\n",
       "<style scoped>\n",
       "    .dataframe tbody tr th:only-of-type {\n",
       "        vertical-align: middle;\n",
       "    }\n",
       "\n",
       "    .dataframe tbody tr th {\n",
       "        vertical-align: top;\n",
       "    }\n",
       "\n",
       "    .dataframe thead th {\n",
       "        text-align: right;\n",
       "    }\n",
       "</style>\n",
       "<table border=\"1\" class=\"dataframe\">\n",
       "  <thead>\n",
       "    <tr style=\"text-align: right;\">\n",
       "      <th></th>\n",
       "      <th>Country Name</th>\n",
       "      <th>Country Code</th>\n",
       "      <th>Indicator Name</th>\n",
       "      <th>Indicator Code</th>\n",
       "      <th>1960</th>\n",
       "      <th>1961</th>\n",
       "      <th>1962</th>\n",
       "      <th>1963</th>\n",
       "      <th>1964</th>\n",
       "      <th>1965</th>\n",
       "      <th>...</th>\n",
       "      <th>2011</th>\n",
       "      <th>2012</th>\n",
       "      <th>2013</th>\n",
       "      <th>2014</th>\n",
       "      <th>2015</th>\n",
       "      <th>2016</th>\n",
       "      <th>2017</th>\n",
       "      <th>2018</th>\n",
       "      <th>2019</th>\n",
       "      <th>2020</th>\n",
       "    </tr>\n",
       "  </thead>\n",
       "  <tbody>\n",
       "    <tr>\n",
       "      <th>0</th>\n",
       "      <td>Aruba</td>\n",
       "      <td>ABW</td>\n",
       "      <td>CO2 emissions (metric tons per capita)</td>\n",
       "      <td>EN.ATM.CO2E.PC</td>\n",
       "      <td>204.631696</td>\n",
       "      <td>208.837879</td>\n",
       "      <td>226.081890</td>\n",
       "      <td>214.785217</td>\n",
       "      <td>207.626699</td>\n",
       "      <td>185.213644</td>\n",
       "      <td>...</td>\n",
       "      <td>NaN</td>\n",
       "      <td>NaN</td>\n",
       "      <td>NaN</td>\n",
       "      <td>NaN</td>\n",
       "      <td>NaN</td>\n",
       "      <td>NaN</td>\n",
       "      <td>NaN</td>\n",
       "      <td>NaN</td>\n",
       "      <td>NaN</td>\n",
       "      <td>NaN</td>\n",
       "    </tr>\n",
       "    <tr>\n",
       "      <th>1</th>\n",
       "      <td>Africa Eastern and Southern</td>\n",
       "      <td>AFE</td>\n",
       "      <td>CO2 emissions (metric tons per capita)</td>\n",
       "      <td>EN.ATM.CO2E.PC</td>\n",
       "      <td>0.906060</td>\n",
       "      <td>0.922474</td>\n",
       "      <td>0.930816</td>\n",
       "      <td>0.940570</td>\n",
       "      <td>0.996033</td>\n",
       "      <td>1.047280</td>\n",
       "      <td>...</td>\n",
       "      <td>1.005338</td>\n",
       "      <td>1.021646</td>\n",
       "      <td>1.031833</td>\n",
       "      <td>1.041145</td>\n",
       "      <td>0.987393</td>\n",
       "      <td>0.971016</td>\n",
       "      <td>0.959978</td>\n",
       "      <td>0.933541</td>\n",
       "      <td>NaN</td>\n",
       "      <td>NaN</td>\n",
       "    </tr>\n",
       "    <tr>\n",
       "      <th>2</th>\n",
       "      <td>Afghanistan</td>\n",
       "      <td>AFG</td>\n",
       "      <td>CO2 emissions (metric tons per capita)</td>\n",
       "      <td>EN.ATM.CO2E.PC</td>\n",
       "      <td>0.046057</td>\n",
       "      <td>0.053589</td>\n",
       "      <td>0.073721</td>\n",
       "      <td>0.074161</td>\n",
       "      <td>0.086174</td>\n",
       "      <td>0.101285</td>\n",
       "      <td>...</td>\n",
       "      <td>0.407074</td>\n",
       "      <td>0.335351</td>\n",
       "      <td>0.263716</td>\n",
       "      <td>0.234037</td>\n",
       "      <td>0.232176</td>\n",
       "      <td>0.208857</td>\n",
       "      <td>0.203328</td>\n",
       "      <td>0.200151</td>\n",
       "      <td>NaN</td>\n",
       "      <td>NaN</td>\n",
       "    </tr>\n",
       "    <tr>\n",
       "      <th>3</th>\n",
       "      <td>Africa Western and Central</td>\n",
       "      <td>AFW</td>\n",
       "      <td>CO2 emissions (metric tons per capita)</td>\n",
       "      <td>EN.ATM.CO2E.PC</td>\n",
       "      <td>0.090880</td>\n",
       "      <td>0.095283</td>\n",
       "      <td>0.096612</td>\n",
       "      <td>0.112376</td>\n",
       "      <td>0.133258</td>\n",
       "      <td>0.184803</td>\n",
       "      <td>...</td>\n",
       "      <td>0.497023</td>\n",
       "      <td>0.490867</td>\n",
       "      <td>0.504655</td>\n",
       "      <td>0.507671</td>\n",
       "      <td>0.480743</td>\n",
       "      <td>0.472959</td>\n",
       "      <td>0.476438</td>\n",
       "      <td>0.515544</td>\n",
       "      <td>NaN</td>\n",
       "      <td>NaN</td>\n",
       "    </tr>\n",
       "    <tr>\n",
       "      <th>4</th>\n",
       "      <td>Angola</td>\n",
       "      <td>AGO</td>\n",
       "      <td>CO2 emissions (metric tons per capita)</td>\n",
       "      <td>EN.ATM.CO2E.PC</td>\n",
       "      <td>0.100835</td>\n",
       "      <td>0.082204</td>\n",
       "      <td>0.210533</td>\n",
       "      <td>0.202739</td>\n",
       "      <td>0.213562</td>\n",
       "      <td>0.205891</td>\n",
       "      <td>...</td>\n",
       "      <td>1.216317</td>\n",
       "      <td>1.204799</td>\n",
       "      <td>1.261542</td>\n",
       "      <td>1.285365</td>\n",
       "      <td>1.260921</td>\n",
       "      <td>1.227703</td>\n",
       "      <td>1.034317</td>\n",
       "      <td>0.887380</td>\n",
       "      <td>NaN</td>\n",
       "      <td>NaN</td>\n",
       "    </tr>\n",
       "  </tbody>\n",
       "</table>\n",
       "<p>5 rows × 65 columns</p>\n",
       "</div>"
      ],
      "text/plain": [
       "                  Country Name Country Code  \\\n",
       "0                        Aruba          ABW   \n",
       "1  Africa Eastern and Southern          AFE   \n",
       "2                  Afghanistan          AFG   \n",
       "3   Africa Western and Central          AFW   \n",
       "4                       Angola          AGO   \n",
       "\n",
       "                           Indicator Name  Indicator Code        1960  \\\n",
       "0  CO2 emissions (metric tons per capita)  EN.ATM.CO2E.PC  204.631696   \n",
       "1  CO2 emissions (metric tons per capita)  EN.ATM.CO2E.PC    0.906060   \n",
       "2  CO2 emissions (metric tons per capita)  EN.ATM.CO2E.PC    0.046057   \n",
       "3  CO2 emissions (metric tons per capita)  EN.ATM.CO2E.PC    0.090880   \n",
       "4  CO2 emissions (metric tons per capita)  EN.ATM.CO2E.PC    0.100835   \n",
       "\n",
       "         1961        1962        1963        1964        1965  ...      2011  \\\n",
       "0  208.837879  226.081890  214.785217  207.626699  185.213644  ...       NaN   \n",
       "1    0.922474    0.930816    0.940570    0.996033    1.047280  ...  1.005338   \n",
       "2    0.053589    0.073721    0.074161    0.086174    0.101285  ...  0.407074   \n",
       "3    0.095283    0.096612    0.112376    0.133258    0.184803  ...  0.497023   \n",
       "4    0.082204    0.210533    0.202739    0.213562    0.205891  ...  1.216317   \n",
       "\n",
       "       2012      2013      2014      2015      2016      2017      2018  2019  \\\n",
       "0       NaN       NaN       NaN       NaN       NaN       NaN       NaN   NaN   \n",
       "1  1.021646  1.031833  1.041145  0.987393  0.971016  0.959978  0.933541   NaN   \n",
       "2  0.335351  0.263716  0.234037  0.232176  0.208857  0.203328  0.200151   NaN   \n",
       "3  0.490867  0.504655  0.507671  0.480743  0.472959  0.476438  0.515544   NaN   \n",
       "4  1.204799  1.261542  1.285365  1.260921  1.227703  1.034317  0.887380   NaN   \n",
       "\n",
       "   2020  \n",
       "0   NaN  \n",
       "1   NaN  \n",
       "2   NaN  \n",
       "3   NaN  \n",
       "4   NaN  \n",
       "\n",
       "[5 rows x 65 columns]"
      ]
     },
     "execution_count": 5,
     "metadata": {},
     "output_type": "execute_result"
    }
   ],
   "source": [
    "raw_df.head()"
   ]
  },
  {
   "cell_type": "code",
   "execution_count": 6,
   "id": "569e79e7-7ea7-46a6-9e0a-bb7177e630c7",
   "metadata": {},
   "outputs": [],
   "source": [
    "# Merging all year columns into one\n",
    "id_vars = ['Country Name', 'Country Code', 'Indicator Name', 'Indicator Code']"
   ]
  },
  {
   "cell_type": "code",
   "execution_count": 7,
   "id": "5b38863f-4c22-48c9-8ff7-dd3e4892ca5b",
   "metadata": {},
   "outputs": [],
   "source": [
    "df = pd.melt(frame=raw_df,id_vars=id_vars, var_name=\"year\", value_name=\"value\")"
   ]
  },
  {
   "cell_type": "code",
   "execution_count": 8,
   "id": "8c9d20f3-fb3e-4416-9740-4875416c5287",
   "metadata": {},
   "outputs": [],
   "source": [
    "# Formatting \n",
    "df[\"year\"] = df[\"year\"].str.extract('(\\d+)', expand=False).astype(int)\n",
    "df[\"value\"] = df[\"value\"].astype(float)"
   ]
  },
  {
   "cell_type": "code",
   "execution_count": 9,
   "id": "b1e133a0-8333-4f47-b50d-72874b2f2932",
   "metadata": {},
   "outputs": [],
   "source": [
    "# Cleaning out unnecessary rows with empty values\n",
    "df = df.dropna()"
   ]
  },
  {
   "cell_type": "code",
   "execution_count": 10,
   "id": "14939232-fc20-4678-b150-9cc2d5d227a8",
   "metadata": {},
   "outputs": [
    {
     "data": {
      "text/plain": [
       "(13342, 6)"
      ]
     },
     "execution_count": 10,
     "metadata": {},
     "output_type": "execute_result"
    }
   ],
   "source": [
    "df.shape"
   ]
  },
  {
   "cell_type": "code",
   "execution_count": 11,
   "id": "514c6584-9f70-40a0-a610-854a1d4e5776",
   "metadata": {},
   "outputs": [
    {
     "data": {
      "text/html": [
       "<div>\n",
       "<style scoped>\n",
       "    .dataframe tbody tr th:only-of-type {\n",
       "        vertical-align: middle;\n",
       "    }\n",
       "\n",
       "    .dataframe tbody tr th {\n",
       "        vertical-align: top;\n",
       "    }\n",
       "\n",
       "    .dataframe thead th {\n",
       "        text-align: right;\n",
       "    }\n",
       "</style>\n",
       "<table border=\"1\" class=\"dataframe\">\n",
       "  <thead>\n",
       "    <tr style=\"text-align: right;\">\n",
       "      <th></th>\n",
       "      <th>year</th>\n",
       "      <th>value</th>\n",
       "    </tr>\n",
       "  </thead>\n",
       "  <tbody>\n",
       "    <tr>\n",
       "      <th>count</th>\n",
       "      <td>13342.000000</td>\n",
       "      <td>13342.000000</td>\n",
       "    </tr>\n",
       "    <tr>\n",
       "      <th>mean</th>\n",
       "      <td>1989.874681</td>\n",
       "      <td>4.508567</td>\n",
       "    </tr>\n",
       "    <tr>\n",
       "      <th>std</th>\n",
       "      <td>16.962019</td>\n",
       "      <td>11.384938</td>\n",
       "    </tr>\n",
       "    <tr>\n",
       "      <th>min</th>\n",
       "      <td>1960.000000</td>\n",
       "      <td>-0.020098</td>\n",
       "    </tr>\n",
       "    <tr>\n",
       "      <th>25%</th>\n",
       "      <td>1975.000000</td>\n",
       "      <td>0.472275</td>\n",
       "    </tr>\n",
       "    <tr>\n",
       "      <th>50%</th>\n",
       "      <td>1991.000000</td>\n",
       "      <td>1.757034</td>\n",
       "    </tr>\n",
       "    <tr>\n",
       "      <th>75%</th>\n",
       "      <td>2005.000000</td>\n",
       "      <td>5.831920</td>\n",
       "    </tr>\n",
       "    <tr>\n",
       "      <th>max</th>\n",
       "      <td>2018.000000</td>\n",
       "      <td>360.853233</td>\n",
       "    </tr>\n",
       "  </tbody>\n",
       "</table>\n",
       "</div>"
      ],
      "text/plain": [
       "               year         value\n",
       "count  13342.000000  13342.000000\n",
       "mean    1989.874681      4.508567\n",
       "std       16.962019     11.384938\n",
       "min     1960.000000     -0.020098\n",
       "25%     1975.000000      0.472275\n",
       "50%     1991.000000      1.757034\n",
       "75%     2005.000000      5.831920\n",
       "max     2018.000000    360.853233"
      ]
     },
     "execution_count": 11,
     "metadata": {},
     "output_type": "execute_result"
    }
   ],
   "source": [
    "df.describe()"
   ]
  },
  {
   "cell_type": "code",
   "execution_count": 12,
   "id": "70435fb9-5f7d-40c9-a559-ded595187b91",
   "metadata": {},
   "outputs": [
    {
     "name": "stdout",
     "output_type": "stream",
     "text": [
      "<class 'pandas.core.frame.DataFrame'>\n",
      "Int64Index: 13342 entries, 0 to 15693\n",
      "Data columns (total 6 columns):\n",
      " #   Column          Non-Null Count  Dtype  \n",
      "---  ------          --------------  -----  \n",
      " 0   Country Name    13342 non-null  object \n",
      " 1   Country Code    13342 non-null  object \n",
      " 2   Indicator Name  13342 non-null  object \n",
      " 3   Indicator Code  13342 non-null  object \n",
      " 4   year            13342 non-null  int32  \n",
      " 5   value           13342 non-null  float64\n",
      "dtypes: float64(1), int32(1), object(4)\n",
      "memory usage: 677.5+ KB\n"
     ]
    }
   ],
   "source": [
    "df.info()"
   ]
  },
  {
   "cell_type": "code",
   "execution_count": 13,
   "id": "cf0b782a-54ba-4494-9e2c-9a598b73d481",
   "metadata": {},
   "outputs": [
    {
     "data": {
      "text/html": [
       "<div>\n",
       "<style scoped>\n",
       "    .dataframe tbody tr th:only-of-type {\n",
       "        vertical-align: middle;\n",
       "    }\n",
       "\n",
       "    .dataframe tbody tr th {\n",
       "        vertical-align: top;\n",
       "    }\n",
       "\n",
       "    .dataframe thead th {\n",
       "        text-align: right;\n",
       "    }\n",
       "</style>\n",
       "<table border=\"1\" class=\"dataframe\">\n",
       "  <thead>\n",
       "    <tr style=\"text-align: right;\">\n",
       "      <th></th>\n",
       "      <th>Country Name</th>\n",
       "      <th>Country Code</th>\n",
       "      <th>Indicator Name</th>\n",
       "      <th>Indicator Code</th>\n",
       "      <th>year</th>\n",
       "      <th>value</th>\n",
       "    </tr>\n",
       "  </thead>\n",
       "  <tbody>\n",
       "    <tr>\n",
       "      <th>0</th>\n",
       "      <td>Aruba</td>\n",
       "      <td>ABW</td>\n",
       "      <td>CO2 emissions (metric tons per capita)</td>\n",
       "      <td>EN.ATM.CO2E.PC</td>\n",
       "      <td>1960</td>\n",
       "      <td>204.631696</td>\n",
       "    </tr>\n",
       "    <tr>\n",
       "      <th>1</th>\n",
       "      <td>Africa Eastern and Southern</td>\n",
       "      <td>AFE</td>\n",
       "      <td>CO2 emissions (metric tons per capita)</td>\n",
       "      <td>EN.ATM.CO2E.PC</td>\n",
       "      <td>1960</td>\n",
       "      <td>0.906060</td>\n",
       "    </tr>\n",
       "    <tr>\n",
       "      <th>2</th>\n",
       "      <td>Afghanistan</td>\n",
       "      <td>AFG</td>\n",
       "      <td>CO2 emissions (metric tons per capita)</td>\n",
       "      <td>EN.ATM.CO2E.PC</td>\n",
       "      <td>1960</td>\n",
       "      <td>0.046057</td>\n",
       "    </tr>\n",
       "    <tr>\n",
       "      <th>3</th>\n",
       "      <td>Africa Western and Central</td>\n",
       "      <td>AFW</td>\n",
       "      <td>CO2 emissions (metric tons per capita)</td>\n",
       "      <td>EN.ATM.CO2E.PC</td>\n",
       "      <td>1960</td>\n",
       "      <td>0.090880</td>\n",
       "    </tr>\n",
       "    <tr>\n",
       "      <th>4</th>\n",
       "      <td>Angola</td>\n",
       "      <td>AGO</td>\n",
       "      <td>CO2 emissions (metric tons per capita)</td>\n",
       "      <td>EN.ATM.CO2E.PC</td>\n",
       "      <td>1960</td>\n",
       "      <td>0.100835</td>\n",
       "    </tr>\n",
       "  </tbody>\n",
       "</table>\n",
       "</div>"
      ],
      "text/plain": [
       "                  Country Name Country Code  \\\n",
       "0                        Aruba          ABW   \n",
       "1  Africa Eastern and Southern          AFE   \n",
       "2                  Afghanistan          AFG   \n",
       "3   Africa Western and Central          AFW   \n",
       "4                       Angola          AGO   \n",
       "\n",
       "                           Indicator Name  Indicator Code  year       value  \n",
       "0  CO2 emissions (metric tons per capita)  EN.ATM.CO2E.PC  1960  204.631696  \n",
       "1  CO2 emissions (metric tons per capita)  EN.ATM.CO2E.PC  1960    0.906060  \n",
       "2  CO2 emissions (metric tons per capita)  EN.ATM.CO2E.PC  1960    0.046057  \n",
       "3  CO2 emissions (metric tons per capita)  EN.ATM.CO2E.PC  1960    0.090880  \n",
       "4  CO2 emissions (metric tons per capita)  EN.ATM.CO2E.PC  1960    0.100835  "
      ]
     },
     "execution_count": 13,
     "metadata": {},
     "output_type": "execute_result"
    }
   ],
   "source": [
    "df.head()"
   ]
  },
  {
   "cell_type": "code",
   "execution_count": 14,
   "id": "e1a14bf8-81df-4774-9b74-bcd20cc62d3b",
   "metadata": {},
   "outputs": [
    {
     "data": {
      "text/html": [
       "<div>\n",
       "<style scoped>\n",
       "    .dataframe tbody tr th:only-of-type {\n",
       "        vertical-align: middle;\n",
       "    }\n",
       "\n",
       "    .dataframe tbody tr th {\n",
       "        vertical-align: top;\n",
       "    }\n",
       "\n",
       "    .dataframe thead th {\n",
       "        text-align: right;\n",
       "    }\n",
       "</style>\n",
       "<table border=\"1\" class=\"dataframe\">\n",
       "  <thead>\n",
       "    <tr style=\"text-align: right;\">\n",
       "      <th></th>\n",
       "      <th>Country Name</th>\n",
       "      <th>Country Code</th>\n",
       "      <th>Indicator Name</th>\n",
       "      <th>Indicator Code</th>\n",
       "      <th>year</th>\n",
       "      <th>value</th>\n",
       "    </tr>\n",
       "  </thead>\n",
       "  <tbody>\n",
       "    <tr>\n",
       "      <th>35</th>\n",
       "      <td>Canada</td>\n",
       "      <td>CAN</td>\n",
       "      <td>CO2 emissions (metric tons per capita)</td>\n",
       "      <td>EN.ATM.CO2E.PC</td>\n",
       "      <td>1960</td>\n",
       "      <td>10.770847</td>\n",
       "    </tr>\n",
       "    <tr>\n",
       "      <th>301</th>\n",
       "      <td>Canada</td>\n",
       "      <td>CAN</td>\n",
       "      <td>CO2 emissions (metric tons per capita)</td>\n",
       "      <td>EN.ATM.CO2E.PC</td>\n",
       "      <td>1961</td>\n",
       "      <td>10.627898</td>\n",
       "    </tr>\n",
       "    <tr>\n",
       "      <th>567</th>\n",
       "      <td>Canada</td>\n",
       "      <td>CAN</td>\n",
       "      <td>CO2 emissions (metric tons per capita)</td>\n",
       "      <td>EN.ATM.CO2E.PC</td>\n",
       "      <td>1962</td>\n",
       "      <td>11.130627</td>\n",
       "    </tr>\n",
       "    <tr>\n",
       "      <th>833</th>\n",
       "      <td>Canada</td>\n",
       "      <td>CAN</td>\n",
       "      <td>CO2 emissions (metric tons per capita)</td>\n",
       "      <td>EN.ATM.CO2E.PC</td>\n",
       "      <td>1963</td>\n",
       "      <td>11.132102</td>\n",
       "    </tr>\n",
       "    <tr>\n",
       "      <th>1099</th>\n",
       "      <td>Canada</td>\n",
       "      <td>CAN</td>\n",
       "      <td>CO2 emissions (metric tons per capita)</td>\n",
       "      <td>EN.ATM.CO2E.PC</td>\n",
       "      <td>1964</td>\n",
       "      <td>12.305370</td>\n",
       "    </tr>\n",
       "    <tr>\n",
       "      <th>1365</th>\n",
       "      <td>Canada</td>\n",
       "      <td>CAN</td>\n",
       "      <td>CO2 emissions (metric tons per capita)</td>\n",
       "      <td>EN.ATM.CO2E.PC</td>\n",
       "      <td>1965</td>\n",
       "      <td>12.814001</td>\n",
       "    </tr>\n",
       "    <tr>\n",
       "      <th>1631</th>\n",
       "      <td>Canada</td>\n",
       "      <td>CAN</td>\n",
       "      <td>CO2 emissions (metric tons per capita)</td>\n",
       "      <td>EN.ATM.CO2E.PC</td>\n",
       "      <td>1966</td>\n",
       "      <td>12.934918</td>\n",
       "    </tr>\n",
       "    <tr>\n",
       "      <th>1897</th>\n",
       "      <td>Canada</td>\n",
       "      <td>CAN</td>\n",
       "      <td>CO2 emissions (metric tons per capita)</td>\n",
       "      <td>EN.ATM.CO2E.PC</td>\n",
       "      <td>1967</td>\n",
       "      <td>13.810355</td>\n",
       "    </tr>\n",
       "    <tr>\n",
       "      <th>2163</th>\n",
       "      <td>Canada</td>\n",
       "      <td>CAN</td>\n",
       "      <td>CO2 emissions (metric tons per capita)</td>\n",
       "      <td>EN.ATM.CO2E.PC</td>\n",
       "      <td>1968</td>\n",
       "      <td>14.632645</td>\n",
       "    </tr>\n",
       "    <tr>\n",
       "      <th>2429</th>\n",
       "      <td>Canada</td>\n",
       "      <td>CAN</td>\n",
       "      <td>CO2 emissions (metric tons per capita)</td>\n",
       "      <td>EN.ATM.CO2E.PC</td>\n",
       "      <td>1969</td>\n",
       "      <td>14.618649</td>\n",
       "    </tr>\n",
       "    <tr>\n",
       "      <th>2695</th>\n",
       "      <td>Canada</td>\n",
       "      <td>CAN</td>\n",
       "      <td>CO2 emissions (metric tons per capita)</td>\n",
       "      <td>EN.ATM.CO2E.PC</td>\n",
       "      <td>1970</td>\n",
       "      <td>16.014149</td>\n",
       "    </tr>\n",
       "    <tr>\n",
       "      <th>2961</th>\n",
       "      <td>Canada</td>\n",
       "      <td>CAN</td>\n",
       "      <td>CO2 emissions (metric tons per capita)</td>\n",
       "      <td>EN.ATM.CO2E.PC</td>\n",
       "      <td>1971</td>\n",
       "      <td>16.055332</td>\n",
       "    </tr>\n",
       "    <tr>\n",
       "      <th>3227</th>\n",
       "      <td>Canada</td>\n",
       "      <td>CAN</td>\n",
       "      <td>CO2 emissions (metric tons per capita)</td>\n",
       "      <td>EN.ATM.CO2E.PC</td>\n",
       "      <td>1972</td>\n",
       "      <td>17.154066</td>\n",
       "    </tr>\n",
       "    <tr>\n",
       "      <th>3493</th>\n",
       "      <td>Canada</td>\n",
       "      <td>CAN</td>\n",
       "      <td>CO2 emissions (metric tons per capita)</td>\n",
       "      <td>EN.ATM.CO2E.PC</td>\n",
       "      <td>1973</td>\n",
       "      <td>16.967135</td>\n",
       "    </tr>\n",
       "    <tr>\n",
       "      <th>3759</th>\n",
       "      <td>Canada</td>\n",
       "      <td>CAN</td>\n",
       "      <td>CO2 emissions (metric tons per capita)</td>\n",
       "      <td>EN.ATM.CO2E.PC</td>\n",
       "      <td>1974</td>\n",
       "      <td>17.098006</td>\n",
       "    </tr>\n",
       "    <tr>\n",
       "      <th>4025</th>\n",
       "      <td>Canada</td>\n",
       "      <td>CAN</td>\n",
       "      <td>CO2 emissions (metric tons per capita)</td>\n",
       "      <td>EN.ATM.CO2E.PC</td>\n",
       "      <td>1975</td>\n",
       "      <td>17.160209</td>\n",
       "    </tr>\n",
       "    <tr>\n",
       "      <th>4291</th>\n",
       "      <td>Canada</td>\n",
       "      <td>CAN</td>\n",
       "      <td>CO2 emissions (metric tons per capita)</td>\n",
       "      <td>EN.ATM.CO2E.PC</td>\n",
       "      <td>1976</td>\n",
       "      <td>17.028624</td>\n",
       "    </tr>\n",
       "    <tr>\n",
       "      <th>4557</th>\n",
       "      <td>Canada</td>\n",
       "      <td>CAN</td>\n",
       "      <td>CO2 emissions (metric tons per capita)</td>\n",
       "      <td>EN.ATM.CO2E.PC</td>\n",
       "      <td>1977</td>\n",
       "      <td>17.202835</td>\n",
       "    </tr>\n",
       "    <tr>\n",
       "      <th>4823</th>\n",
       "      <td>Canada</td>\n",
       "      <td>CAN</td>\n",
       "      <td>CO2 emissions (metric tons per capita)</td>\n",
       "      <td>EN.ATM.CO2E.PC</td>\n",
       "      <td>1978</td>\n",
       "      <td>17.355629</td>\n",
       "    </tr>\n",
       "    <tr>\n",
       "      <th>5089</th>\n",
       "      <td>Canada</td>\n",
       "      <td>CAN</td>\n",
       "      <td>CO2 emissions (metric tons per capita)</td>\n",
       "      <td>EN.ATM.CO2E.PC</td>\n",
       "      <td>1979</td>\n",
       "      <td>18.266101</td>\n",
       "    </tr>\n",
       "    <tr>\n",
       "      <th>5355</th>\n",
       "      <td>Canada</td>\n",
       "      <td>CAN</td>\n",
       "      <td>CO2 emissions (metric tons per capita)</td>\n",
       "      <td>EN.ATM.CO2E.PC</td>\n",
       "      <td>1980</td>\n",
       "      <td>18.079621</td>\n",
       "    </tr>\n",
       "    <tr>\n",
       "      <th>5621</th>\n",
       "      <td>Canada</td>\n",
       "      <td>CAN</td>\n",
       "      <td>CO2 emissions (metric tons per capita)</td>\n",
       "      <td>EN.ATM.CO2E.PC</td>\n",
       "      <td>1981</td>\n",
       "      <td>17.324935</td>\n",
       "    </tr>\n",
       "    <tr>\n",
       "      <th>5887</th>\n",
       "      <td>Canada</td>\n",
       "      <td>CAN</td>\n",
       "      <td>CO2 emissions (metric tons per capita)</td>\n",
       "      <td>EN.ATM.CO2E.PC</td>\n",
       "      <td>1982</td>\n",
       "      <td>16.515189</td>\n",
       "    </tr>\n",
       "    <tr>\n",
       "      <th>6153</th>\n",
       "      <td>Canada</td>\n",
       "      <td>CAN</td>\n",
       "      <td>CO2 emissions (metric tons per capita)</td>\n",
       "      <td>EN.ATM.CO2E.PC</td>\n",
       "      <td>1983</td>\n",
       "      <td>16.111326</td>\n",
       "    </tr>\n",
       "    <tr>\n",
       "      <th>6419</th>\n",
       "      <td>Canada</td>\n",
       "      <td>CAN</td>\n",
       "      <td>CO2 emissions (metric tons per capita)</td>\n",
       "      <td>EN.ATM.CO2E.PC</td>\n",
       "      <td>1984</td>\n",
       "      <td>16.620253</td>\n",
       "    </tr>\n",
       "    <tr>\n",
       "      <th>6685</th>\n",
       "      <td>Canada</td>\n",
       "      <td>CAN</td>\n",
       "      <td>CO2 emissions (metric tons per capita)</td>\n",
       "      <td>EN.ATM.CO2E.PC</td>\n",
       "      <td>1985</td>\n",
       "      <td>16.332990</td>\n",
       "    </tr>\n",
       "    <tr>\n",
       "      <th>6951</th>\n",
       "      <td>Canada</td>\n",
       "      <td>CAN</td>\n",
       "      <td>CO2 emissions (metric tons per capita)</td>\n",
       "      <td>EN.ATM.CO2E.PC</td>\n",
       "      <td>1986</td>\n",
       "      <td>15.519113</td>\n",
       "    </tr>\n",
       "    <tr>\n",
       "      <th>7217</th>\n",
       "      <td>Canada</td>\n",
       "      <td>CAN</td>\n",
       "      <td>CO2 emissions (metric tons per capita)</td>\n",
       "      <td>EN.ATM.CO2E.PC</td>\n",
       "      <td>1987</td>\n",
       "      <td>16.310195</td>\n",
       "    </tr>\n",
       "    <tr>\n",
       "      <th>7483</th>\n",
       "      <td>Canada</td>\n",
       "      <td>CAN</td>\n",
       "      <td>CO2 emissions (metric tons per capita)</td>\n",
       "      <td>EN.ATM.CO2E.PC</td>\n",
       "      <td>1988</td>\n",
       "      <td>17.022174</td>\n",
       "    </tr>\n",
       "    <tr>\n",
       "      <th>7749</th>\n",
       "      <td>Canada</td>\n",
       "      <td>CAN</td>\n",
       "      <td>CO2 emissions (metric tons per capita)</td>\n",
       "      <td>EN.ATM.CO2E.PC</td>\n",
       "      <td>1989</td>\n",
       "      <td>16.984193</td>\n",
       "    </tr>\n",
       "    <tr>\n",
       "      <th>8015</th>\n",
       "      <td>Canada</td>\n",
       "      <td>CAN</td>\n",
       "      <td>CO2 emissions (metric tons per capita)</td>\n",
       "      <td>EN.ATM.CO2E.PC</td>\n",
       "      <td>1990</td>\n",
       "      <td>15.135528</td>\n",
       "    </tr>\n",
       "    <tr>\n",
       "      <th>8281</th>\n",
       "      <td>Canada</td>\n",
       "      <td>CAN</td>\n",
       "      <td>CO2 emissions (metric tons per capita)</td>\n",
       "      <td>EN.ATM.CO2E.PC</td>\n",
       "      <td>1991</td>\n",
       "      <td>14.727817</td>\n",
       "    </tr>\n",
       "    <tr>\n",
       "      <th>8547</th>\n",
       "      <td>Canada</td>\n",
       "      <td>CAN</td>\n",
       "      <td>CO2 emissions (metric tons per capita)</td>\n",
       "      <td>EN.ATM.CO2E.PC</td>\n",
       "      <td>1992</td>\n",
       "      <td>15.015193</td>\n",
       "    </tr>\n",
       "    <tr>\n",
       "      <th>8813</th>\n",
       "      <td>Canada</td>\n",
       "      <td>CAN</td>\n",
       "      <td>CO2 emissions (metric tons per capita)</td>\n",
       "      <td>EN.ATM.CO2E.PC</td>\n",
       "      <td>1993</td>\n",
       "      <td>14.735349</td>\n",
       "    </tr>\n",
       "    <tr>\n",
       "      <th>9079</th>\n",
       "      <td>Canada</td>\n",
       "      <td>CAN</td>\n",
       "      <td>CO2 emissions (metric tons per capita)</td>\n",
       "      <td>EN.ATM.CO2E.PC</td>\n",
       "      <td>1994</td>\n",
       "      <td>15.131378</td>\n",
       "    </tr>\n",
       "    <tr>\n",
       "      <th>9345</th>\n",
       "      <td>Canada</td>\n",
       "      <td>CAN</td>\n",
       "      <td>CO2 emissions (metric tons per capita)</td>\n",
       "      <td>EN.ATM.CO2E.PC</td>\n",
       "      <td>1995</td>\n",
       "      <td>15.340087</td>\n",
       "    </tr>\n",
       "    <tr>\n",
       "      <th>9611</th>\n",
       "      <td>Canada</td>\n",
       "      <td>CAN</td>\n",
       "      <td>CO2 emissions (metric tons per capita)</td>\n",
       "      <td>EN.ATM.CO2E.PC</td>\n",
       "      <td>1996</td>\n",
       "      <td>15.641898</td>\n",
       "    </tr>\n",
       "    <tr>\n",
       "      <th>9877</th>\n",
       "      <td>Canada</td>\n",
       "      <td>CAN</td>\n",
       "      <td>CO2 emissions (metric tons per capita)</td>\n",
       "      <td>EN.ATM.CO2E.PC</td>\n",
       "      <td>1997</td>\n",
       "      <td>16.001165</td>\n",
       "    </tr>\n",
       "    <tr>\n",
       "      <th>10143</th>\n",
       "      <td>Canada</td>\n",
       "      <td>CAN</td>\n",
       "      <td>CO2 emissions (metric tons per capita)</td>\n",
       "      <td>EN.ATM.CO2E.PC</td>\n",
       "      <td>1998</td>\n",
       "      <td>16.141841</td>\n",
       "    </tr>\n",
       "    <tr>\n",
       "      <th>10409</th>\n",
       "      <td>Canada</td>\n",
       "      <td>CAN</td>\n",
       "      <td>CO2 emissions (metric tons per capita)</td>\n",
       "      <td>EN.ATM.CO2E.PC</td>\n",
       "      <td>1999</td>\n",
       "      <td>16.286811</td>\n",
       "    </tr>\n",
       "    <tr>\n",
       "      <th>10675</th>\n",
       "      <td>Canada</td>\n",
       "      <td>CAN</td>\n",
       "      <td>CO2 emissions (metric tons per capita)</td>\n",
       "      <td>EN.ATM.CO2E.PC</td>\n",
       "      <td>2000</td>\n",
       "      <td>16.783045</td>\n",
       "    </tr>\n",
       "    <tr>\n",
       "      <th>10941</th>\n",
       "      <td>Canada</td>\n",
       "      <td>CAN</td>\n",
       "      <td>CO2 emissions (metric tons per capita)</td>\n",
       "      <td>EN.ATM.CO2E.PC</td>\n",
       "      <td>2001</td>\n",
       "      <td>16.341885</td>\n",
       "    </tr>\n",
       "    <tr>\n",
       "      <th>11207</th>\n",
       "      <td>Canada</td>\n",
       "      <td>CAN</td>\n",
       "      <td>CO2 emissions (metric tons per capita)</td>\n",
       "      <td>EN.ATM.CO2E.PC</td>\n",
       "      <td>2002</td>\n",
       "      <td>16.756016</td>\n",
       "    </tr>\n",
       "    <tr>\n",
       "      <th>11473</th>\n",
       "      <td>Canada</td>\n",
       "      <td>CAN</td>\n",
       "      <td>CO2 emissions (metric tons per capita)</td>\n",
       "      <td>EN.ATM.CO2E.PC</td>\n",
       "      <td>2003</td>\n",
       "      <td>17.234216</td>\n",
       "    </tr>\n",
       "    <tr>\n",
       "      <th>11739</th>\n",
       "      <td>Canada</td>\n",
       "      <td>CAN</td>\n",
       "      <td>CO2 emissions (metric tons per capita)</td>\n",
       "      <td>EN.ATM.CO2E.PC</td>\n",
       "      <td>2004</td>\n",
       "      <td>16.820256</td>\n",
       "    </tr>\n",
       "    <tr>\n",
       "      <th>12005</th>\n",
       "      <td>Canada</td>\n",
       "      <td>CAN</td>\n",
       "      <td>CO2 emissions (metric tons per capita)</td>\n",
       "      <td>EN.ATM.CO2E.PC</td>\n",
       "      <td>2005</td>\n",
       "      <td>17.056637</td>\n",
       "    </tr>\n",
       "    <tr>\n",
       "      <th>12271</th>\n",
       "      <td>Canada</td>\n",
       "      <td>CAN</td>\n",
       "      <td>CO2 emissions (metric tons per capita)</td>\n",
       "      <td>EN.ATM.CO2E.PC</td>\n",
       "      <td>2006</td>\n",
       "      <td>16.611928</td>\n",
       "    </tr>\n",
       "    <tr>\n",
       "      <th>12537</th>\n",
       "      <td>Canada</td>\n",
       "      <td>CAN</td>\n",
       "      <td>CO2 emissions (metric tons per capita)</td>\n",
       "      <td>EN.ATM.CO2E.PC</td>\n",
       "      <td>2007</td>\n",
       "      <td>17.370840</td>\n",
       "    </tr>\n",
       "    <tr>\n",
       "      <th>12803</th>\n",
       "      <td>Canada</td>\n",
       "      <td>CAN</td>\n",
       "      <td>CO2 emissions (metric tons per capita)</td>\n",
       "      <td>EN.ATM.CO2E.PC</td>\n",
       "      <td>2008</td>\n",
       "      <td>16.548803</td>\n",
       "    </tr>\n",
       "    <tr>\n",
       "      <th>13069</th>\n",
       "      <td>Canada</td>\n",
       "      <td>CAN</td>\n",
       "      <td>CO2 emissions (metric tons per capita)</td>\n",
       "      <td>EN.ATM.CO2E.PC</td>\n",
       "      <td>2009</td>\n",
       "      <td>15.486682</td>\n",
       "    </tr>\n",
       "    <tr>\n",
       "      <th>13335</th>\n",
       "      <td>Canada</td>\n",
       "      <td>CAN</td>\n",
       "      <td>CO2 emissions (metric tons per capita)</td>\n",
       "      <td>EN.ATM.CO2E.PC</td>\n",
       "      <td>2010</td>\n",
       "      <td>15.733914</td>\n",
       "    </tr>\n",
       "    <tr>\n",
       "      <th>13601</th>\n",
       "      <td>Canada</td>\n",
       "      <td>CAN</td>\n",
       "      <td>CO2 emissions (metric tons per capita)</td>\n",
       "      <td>EN.ATM.CO2E.PC</td>\n",
       "      <td>2011</td>\n",
       "      <td>15.950225</td>\n",
       "    </tr>\n",
       "    <tr>\n",
       "      <th>13867</th>\n",
       "      <td>Canada</td>\n",
       "      <td>CAN</td>\n",
       "      <td>CO2 emissions (metric tons per capita)</td>\n",
       "      <td>EN.ATM.CO2E.PC</td>\n",
       "      <td>2012</td>\n",
       "      <td>15.761264</td>\n",
       "    </tr>\n",
       "    <tr>\n",
       "      <th>14133</th>\n",
       "      <td>Canada</td>\n",
       "      <td>CAN</td>\n",
       "      <td>CO2 emissions (metric tons per capita)</td>\n",
       "      <td>EN.ATM.CO2E.PC</td>\n",
       "      <td>2013</td>\n",
       "      <td>15.858129</td>\n",
       "    </tr>\n",
       "    <tr>\n",
       "      <th>14399</th>\n",
       "      <td>Canada</td>\n",
       "      <td>CAN</td>\n",
       "      <td>CO2 emissions (metric tons per capita)</td>\n",
       "      <td>EN.ATM.CO2E.PC</td>\n",
       "      <td>2014</td>\n",
       "      <td>15.854138</td>\n",
       "    </tr>\n",
       "    <tr>\n",
       "      <th>14665</th>\n",
       "      <td>Canada</td>\n",
       "      <td>CAN</td>\n",
       "      <td>CO2 emissions (metric tons per capita)</td>\n",
       "      <td>EN.ATM.CO2E.PC</td>\n",
       "      <td>2015</td>\n",
       "      <td>15.651386</td>\n",
       "    </tr>\n",
       "    <tr>\n",
       "      <th>14931</th>\n",
       "      <td>Canada</td>\n",
       "      <td>CAN</td>\n",
       "      <td>CO2 emissions (metric tons per capita)</td>\n",
       "      <td>EN.ATM.CO2E.PC</td>\n",
       "      <td>2016</td>\n",
       "      <td>15.244747</td>\n",
       "    </tr>\n",
       "    <tr>\n",
       "      <th>15197</th>\n",
       "      <td>Canada</td>\n",
       "      <td>CAN</td>\n",
       "      <td>CO2 emissions (metric tons per capita)</td>\n",
       "      <td>EN.ATM.CO2E.PC</td>\n",
       "      <td>2017</td>\n",
       "      <td>15.385291</td>\n",
       "    </tr>\n",
       "    <tr>\n",
       "      <th>15463</th>\n",
       "      <td>Canada</td>\n",
       "      <td>CAN</td>\n",
       "      <td>CO2 emissions (metric tons per capita)</td>\n",
       "      <td>EN.ATM.CO2E.PC</td>\n",
       "      <td>2018</td>\n",
       "      <td>15.497025</td>\n",
       "    </tr>\n",
       "  </tbody>\n",
       "</table>\n",
       "</div>"
      ],
      "text/plain": [
       "      Country Name Country Code                          Indicator Name  \\\n",
       "35          Canada          CAN  CO2 emissions (metric tons per capita)   \n",
       "301         Canada          CAN  CO2 emissions (metric tons per capita)   \n",
       "567         Canada          CAN  CO2 emissions (metric tons per capita)   \n",
       "833         Canada          CAN  CO2 emissions (metric tons per capita)   \n",
       "1099        Canada          CAN  CO2 emissions (metric tons per capita)   \n",
       "1365        Canada          CAN  CO2 emissions (metric tons per capita)   \n",
       "1631        Canada          CAN  CO2 emissions (metric tons per capita)   \n",
       "1897        Canada          CAN  CO2 emissions (metric tons per capita)   \n",
       "2163        Canada          CAN  CO2 emissions (metric tons per capita)   \n",
       "2429        Canada          CAN  CO2 emissions (metric tons per capita)   \n",
       "2695        Canada          CAN  CO2 emissions (metric tons per capita)   \n",
       "2961        Canada          CAN  CO2 emissions (metric tons per capita)   \n",
       "3227        Canada          CAN  CO2 emissions (metric tons per capita)   \n",
       "3493        Canada          CAN  CO2 emissions (metric tons per capita)   \n",
       "3759        Canada          CAN  CO2 emissions (metric tons per capita)   \n",
       "4025        Canada          CAN  CO2 emissions (metric tons per capita)   \n",
       "4291        Canada          CAN  CO2 emissions (metric tons per capita)   \n",
       "4557        Canada          CAN  CO2 emissions (metric tons per capita)   \n",
       "4823        Canada          CAN  CO2 emissions (metric tons per capita)   \n",
       "5089        Canada          CAN  CO2 emissions (metric tons per capita)   \n",
       "5355        Canada          CAN  CO2 emissions (metric tons per capita)   \n",
       "5621        Canada          CAN  CO2 emissions (metric tons per capita)   \n",
       "5887        Canada          CAN  CO2 emissions (metric tons per capita)   \n",
       "6153        Canada          CAN  CO2 emissions (metric tons per capita)   \n",
       "6419        Canada          CAN  CO2 emissions (metric tons per capita)   \n",
       "6685        Canada          CAN  CO2 emissions (metric tons per capita)   \n",
       "6951        Canada          CAN  CO2 emissions (metric tons per capita)   \n",
       "7217        Canada          CAN  CO2 emissions (metric tons per capita)   \n",
       "7483        Canada          CAN  CO2 emissions (metric tons per capita)   \n",
       "7749        Canada          CAN  CO2 emissions (metric tons per capita)   \n",
       "8015        Canada          CAN  CO2 emissions (metric tons per capita)   \n",
       "8281        Canada          CAN  CO2 emissions (metric tons per capita)   \n",
       "8547        Canada          CAN  CO2 emissions (metric tons per capita)   \n",
       "8813        Canada          CAN  CO2 emissions (metric tons per capita)   \n",
       "9079        Canada          CAN  CO2 emissions (metric tons per capita)   \n",
       "9345        Canada          CAN  CO2 emissions (metric tons per capita)   \n",
       "9611        Canada          CAN  CO2 emissions (metric tons per capita)   \n",
       "9877        Canada          CAN  CO2 emissions (metric tons per capita)   \n",
       "10143       Canada          CAN  CO2 emissions (metric tons per capita)   \n",
       "10409       Canada          CAN  CO2 emissions (metric tons per capita)   \n",
       "10675       Canada          CAN  CO2 emissions (metric tons per capita)   \n",
       "10941       Canada          CAN  CO2 emissions (metric tons per capita)   \n",
       "11207       Canada          CAN  CO2 emissions (metric tons per capita)   \n",
       "11473       Canada          CAN  CO2 emissions (metric tons per capita)   \n",
       "11739       Canada          CAN  CO2 emissions (metric tons per capita)   \n",
       "12005       Canada          CAN  CO2 emissions (metric tons per capita)   \n",
       "12271       Canada          CAN  CO2 emissions (metric tons per capita)   \n",
       "12537       Canada          CAN  CO2 emissions (metric tons per capita)   \n",
       "12803       Canada          CAN  CO2 emissions (metric tons per capita)   \n",
       "13069       Canada          CAN  CO2 emissions (metric tons per capita)   \n",
       "13335       Canada          CAN  CO2 emissions (metric tons per capita)   \n",
       "13601       Canada          CAN  CO2 emissions (metric tons per capita)   \n",
       "13867       Canada          CAN  CO2 emissions (metric tons per capita)   \n",
       "14133       Canada          CAN  CO2 emissions (metric tons per capita)   \n",
       "14399       Canada          CAN  CO2 emissions (metric tons per capita)   \n",
       "14665       Canada          CAN  CO2 emissions (metric tons per capita)   \n",
       "14931       Canada          CAN  CO2 emissions (metric tons per capita)   \n",
       "15197       Canada          CAN  CO2 emissions (metric tons per capita)   \n",
       "15463       Canada          CAN  CO2 emissions (metric tons per capita)   \n",
       "\n",
       "       Indicator Code  year      value  \n",
       "35     EN.ATM.CO2E.PC  1960  10.770847  \n",
       "301    EN.ATM.CO2E.PC  1961  10.627898  \n",
       "567    EN.ATM.CO2E.PC  1962  11.130627  \n",
       "833    EN.ATM.CO2E.PC  1963  11.132102  \n",
       "1099   EN.ATM.CO2E.PC  1964  12.305370  \n",
       "1365   EN.ATM.CO2E.PC  1965  12.814001  \n",
       "1631   EN.ATM.CO2E.PC  1966  12.934918  \n",
       "1897   EN.ATM.CO2E.PC  1967  13.810355  \n",
       "2163   EN.ATM.CO2E.PC  1968  14.632645  \n",
       "2429   EN.ATM.CO2E.PC  1969  14.618649  \n",
       "2695   EN.ATM.CO2E.PC  1970  16.014149  \n",
       "2961   EN.ATM.CO2E.PC  1971  16.055332  \n",
       "3227   EN.ATM.CO2E.PC  1972  17.154066  \n",
       "3493   EN.ATM.CO2E.PC  1973  16.967135  \n",
       "3759   EN.ATM.CO2E.PC  1974  17.098006  \n",
       "4025   EN.ATM.CO2E.PC  1975  17.160209  \n",
       "4291   EN.ATM.CO2E.PC  1976  17.028624  \n",
       "4557   EN.ATM.CO2E.PC  1977  17.202835  \n",
       "4823   EN.ATM.CO2E.PC  1978  17.355629  \n",
       "5089   EN.ATM.CO2E.PC  1979  18.266101  \n",
       "5355   EN.ATM.CO2E.PC  1980  18.079621  \n",
       "5621   EN.ATM.CO2E.PC  1981  17.324935  \n",
       "5887   EN.ATM.CO2E.PC  1982  16.515189  \n",
       "6153   EN.ATM.CO2E.PC  1983  16.111326  \n",
       "6419   EN.ATM.CO2E.PC  1984  16.620253  \n",
       "6685   EN.ATM.CO2E.PC  1985  16.332990  \n",
       "6951   EN.ATM.CO2E.PC  1986  15.519113  \n",
       "7217   EN.ATM.CO2E.PC  1987  16.310195  \n",
       "7483   EN.ATM.CO2E.PC  1988  17.022174  \n",
       "7749   EN.ATM.CO2E.PC  1989  16.984193  \n",
       "8015   EN.ATM.CO2E.PC  1990  15.135528  \n",
       "8281   EN.ATM.CO2E.PC  1991  14.727817  \n",
       "8547   EN.ATM.CO2E.PC  1992  15.015193  \n",
       "8813   EN.ATM.CO2E.PC  1993  14.735349  \n",
       "9079   EN.ATM.CO2E.PC  1994  15.131378  \n",
       "9345   EN.ATM.CO2E.PC  1995  15.340087  \n",
       "9611   EN.ATM.CO2E.PC  1996  15.641898  \n",
       "9877   EN.ATM.CO2E.PC  1997  16.001165  \n",
       "10143  EN.ATM.CO2E.PC  1998  16.141841  \n",
       "10409  EN.ATM.CO2E.PC  1999  16.286811  \n",
       "10675  EN.ATM.CO2E.PC  2000  16.783045  \n",
       "10941  EN.ATM.CO2E.PC  2001  16.341885  \n",
       "11207  EN.ATM.CO2E.PC  2002  16.756016  \n",
       "11473  EN.ATM.CO2E.PC  2003  17.234216  \n",
       "11739  EN.ATM.CO2E.PC  2004  16.820256  \n",
       "12005  EN.ATM.CO2E.PC  2005  17.056637  \n",
       "12271  EN.ATM.CO2E.PC  2006  16.611928  \n",
       "12537  EN.ATM.CO2E.PC  2007  17.370840  \n",
       "12803  EN.ATM.CO2E.PC  2008  16.548803  \n",
       "13069  EN.ATM.CO2E.PC  2009  15.486682  \n",
       "13335  EN.ATM.CO2E.PC  2010  15.733914  \n",
       "13601  EN.ATM.CO2E.PC  2011  15.950225  \n",
       "13867  EN.ATM.CO2E.PC  2012  15.761264  \n",
       "14133  EN.ATM.CO2E.PC  2013  15.858129  \n",
       "14399  EN.ATM.CO2E.PC  2014  15.854138  \n",
       "14665  EN.ATM.CO2E.PC  2015  15.651386  \n",
       "14931  EN.ATM.CO2E.PC  2016  15.244747  \n",
       "15197  EN.ATM.CO2E.PC  2017  15.385291  \n",
       "15463  EN.ATM.CO2E.PC  2018  15.497025  "
      ]
     },
     "execution_count": 14,
     "metadata": {},
     "output_type": "execute_result"
    }
   ],
   "source": [
    "df[df['Country Name']== 'Canada']"
   ]
  },
  {
   "cell_type": "code",
   "execution_count": 15,
   "id": "60fd3a7d-c26f-4685-894a-a6230446a308",
   "metadata": {},
   "outputs": [],
   "source": [
    "# importing country metadata\n",
    "country_meta =pd.read_csv(\"data/Metadata_Country_API_EN.ATM.CO2E.PC_DS2_en_csv_v2_3053008.csv\",encoding = \"utf-8\")"
   ]
  },
  {
   "cell_type": "code",
   "execution_count": 16,
   "id": "3f07d2f7-2d0c-4340-b575-e97773104f7b",
   "metadata": {},
   "outputs": [
    {
     "data": {
      "text/html": [
       "<div>\n",
       "<style scoped>\n",
       "    .dataframe tbody tr th:only-of-type {\n",
       "        vertical-align: middle;\n",
       "    }\n",
       "\n",
       "    .dataframe tbody tr th {\n",
       "        vertical-align: top;\n",
       "    }\n",
       "\n",
       "    .dataframe thead th {\n",
       "        text-align: right;\n",
       "    }\n",
       "</style>\n",
       "<table border=\"1\" class=\"dataframe\">\n",
       "  <thead>\n",
       "    <tr style=\"text-align: right;\">\n",
       "      <th></th>\n",
       "      <th>Country Code</th>\n",
       "      <th>Region</th>\n",
       "      <th>IncomeGroup</th>\n",
       "      <th>SpecialNotes</th>\n",
       "      <th>TableName</th>\n",
       "      <th>Unnamed: 5</th>\n",
       "    </tr>\n",
       "  </thead>\n",
       "  <tbody>\n",
       "    <tr>\n",
       "      <th>0</th>\n",
       "      <td>ABW</td>\n",
       "      <td>Latin America &amp; Caribbean</td>\n",
       "      <td>High income</td>\n",
       "      <td>NaN</td>\n",
       "      <td>Aruba</td>\n",
       "      <td>NaN</td>\n",
       "    </tr>\n",
       "    <tr>\n",
       "      <th>1</th>\n",
       "      <td>AFE</td>\n",
       "      <td>NaN</td>\n",
       "      <td>NaN</td>\n",
       "      <td>26 countries, stretching from the Red Sea in t...</td>\n",
       "      <td>Africa Eastern and Southern</td>\n",
       "      <td>NaN</td>\n",
       "    </tr>\n",
       "    <tr>\n",
       "      <th>2</th>\n",
       "      <td>AFG</td>\n",
       "      <td>South Asia</td>\n",
       "      <td>Low income</td>\n",
       "      <td>Fiscal year end: March 20; reporting period fo...</td>\n",
       "      <td>Afghanistan</td>\n",
       "      <td>NaN</td>\n",
       "    </tr>\n",
       "    <tr>\n",
       "      <th>3</th>\n",
       "      <td>AFW</td>\n",
       "      <td>NaN</td>\n",
       "      <td>NaN</td>\n",
       "      <td>22 countries, stretching from the westernmost ...</td>\n",
       "      <td>Africa Western and Central</td>\n",
       "      <td>NaN</td>\n",
       "    </tr>\n",
       "    <tr>\n",
       "      <th>4</th>\n",
       "      <td>AGO</td>\n",
       "      <td>Sub-Saharan Africa</td>\n",
       "      <td>Lower middle income</td>\n",
       "      <td>NaN</td>\n",
       "      <td>Angola</td>\n",
       "      <td>NaN</td>\n",
       "    </tr>\n",
       "  </tbody>\n",
       "</table>\n",
       "</div>"
      ],
      "text/plain": [
       "  Country Code                     Region          IncomeGroup  \\\n",
       "0          ABW  Latin America & Caribbean          High income   \n",
       "1          AFE                        NaN                  NaN   \n",
       "2          AFG                 South Asia           Low income   \n",
       "3          AFW                        NaN                  NaN   \n",
       "4          AGO         Sub-Saharan Africa  Lower middle income   \n",
       "\n",
       "                                        SpecialNotes  \\\n",
       "0                                                NaN   \n",
       "1  26 countries, stretching from the Red Sea in t...   \n",
       "2  Fiscal year end: March 20; reporting period fo...   \n",
       "3  22 countries, stretching from the westernmost ...   \n",
       "4                                                NaN   \n",
       "\n",
       "                     TableName  Unnamed: 5  \n",
       "0                        Aruba         NaN  \n",
       "1  Africa Eastern and Southern         NaN  \n",
       "2                  Afghanistan         NaN  \n",
       "3   Africa Western and Central         NaN  \n",
       "4                       Angola         NaN  "
      ]
     },
     "execution_count": 16,
     "metadata": {},
     "output_type": "execute_result"
    }
   ],
   "source": [
    "country_meta.head()"
   ]
  },
  {
   "cell_type": "code",
   "execution_count": 17,
   "id": "836e1f60-c7ef-48d8-a604-de164b2a3861",
   "metadata": {},
   "outputs": [],
   "source": [
    "# Merging country_meta based on country code\n",
    "\n",
    "merged_df = pd.merge(df,country_meta, on = \"Country Code\")"
   ]
  },
  {
   "cell_type": "code",
   "execution_count": 18,
   "id": "09a28b76-5108-4177-a2a8-053b416f54dc",
   "metadata": {},
   "outputs": [
    {
     "data": {
      "text/plain": [
       "(13342, 11)"
      ]
     },
     "execution_count": 18,
     "metadata": {},
     "output_type": "execute_result"
    }
   ],
   "source": [
    "merged_df.shape"
   ]
  },
  {
   "cell_type": "code",
   "execution_count": 19,
   "id": "2fc06960-4990-438d-8d80-e118c1abf67c",
   "metadata": {},
   "outputs": [
    {
     "data": {
      "text/html": [
       "<div>\n",
       "<style scoped>\n",
       "    .dataframe tbody tr th:only-of-type {\n",
       "        vertical-align: middle;\n",
       "    }\n",
       "\n",
       "    .dataframe tbody tr th {\n",
       "        vertical-align: top;\n",
       "    }\n",
       "\n",
       "    .dataframe thead th {\n",
       "        text-align: right;\n",
       "    }\n",
       "</style>\n",
       "<table border=\"1\" class=\"dataframe\">\n",
       "  <thead>\n",
       "    <tr style=\"text-align: right;\">\n",
       "      <th></th>\n",
       "      <th>Country Name</th>\n",
       "      <th>Country Code</th>\n",
       "      <th>Indicator Name</th>\n",
       "      <th>Indicator Code</th>\n",
       "      <th>year</th>\n",
       "      <th>value</th>\n",
       "      <th>Region</th>\n",
       "      <th>IncomeGroup</th>\n",
       "      <th>SpecialNotes</th>\n",
       "      <th>TableName</th>\n",
       "      <th>Unnamed: 5</th>\n",
       "    </tr>\n",
       "  </thead>\n",
       "  <tbody>\n",
       "    <tr>\n",
       "      <th>0</th>\n",
       "      <td>Aruba</td>\n",
       "      <td>ABW</td>\n",
       "      <td>CO2 emissions (metric tons per capita)</td>\n",
       "      <td>EN.ATM.CO2E.PC</td>\n",
       "      <td>1960</td>\n",
       "      <td>204.631696</td>\n",
       "      <td>Latin America &amp; Caribbean</td>\n",
       "      <td>High income</td>\n",
       "      <td>NaN</td>\n",
       "      <td>Aruba</td>\n",
       "      <td>NaN</td>\n",
       "    </tr>\n",
       "    <tr>\n",
       "      <th>1</th>\n",
       "      <td>Aruba</td>\n",
       "      <td>ABW</td>\n",
       "      <td>CO2 emissions (metric tons per capita)</td>\n",
       "      <td>EN.ATM.CO2E.PC</td>\n",
       "      <td>1961</td>\n",
       "      <td>208.837879</td>\n",
       "      <td>Latin America &amp; Caribbean</td>\n",
       "      <td>High income</td>\n",
       "      <td>NaN</td>\n",
       "      <td>Aruba</td>\n",
       "      <td>NaN</td>\n",
       "    </tr>\n",
       "    <tr>\n",
       "      <th>2</th>\n",
       "      <td>Aruba</td>\n",
       "      <td>ABW</td>\n",
       "      <td>CO2 emissions (metric tons per capita)</td>\n",
       "      <td>EN.ATM.CO2E.PC</td>\n",
       "      <td>1962</td>\n",
       "      <td>226.081890</td>\n",
       "      <td>Latin America &amp; Caribbean</td>\n",
       "      <td>High income</td>\n",
       "      <td>NaN</td>\n",
       "      <td>Aruba</td>\n",
       "      <td>NaN</td>\n",
       "    </tr>\n",
       "    <tr>\n",
       "      <th>3</th>\n",
       "      <td>Aruba</td>\n",
       "      <td>ABW</td>\n",
       "      <td>CO2 emissions (metric tons per capita)</td>\n",
       "      <td>EN.ATM.CO2E.PC</td>\n",
       "      <td>1963</td>\n",
       "      <td>214.785217</td>\n",
       "      <td>Latin America &amp; Caribbean</td>\n",
       "      <td>High income</td>\n",
       "      <td>NaN</td>\n",
       "      <td>Aruba</td>\n",
       "      <td>NaN</td>\n",
       "    </tr>\n",
       "    <tr>\n",
       "      <th>4</th>\n",
       "      <td>Aruba</td>\n",
       "      <td>ABW</td>\n",
       "      <td>CO2 emissions (metric tons per capita)</td>\n",
       "      <td>EN.ATM.CO2E.PC</td>\n",
       "      <td>1964</td>\n",
       "      <td>207.626699</td>\n",
       "      <td>Latin America &amp; Caribbean</td>\n",
       "      <td>High income</td>\n",
       "      <td>NaN</td>\n",
       "      <td>Aruba</td>\n",
       "      <td>NaN</td>\n",
       "    </tr>\n",
       "  </tbody>\n",
       "</table>\n",
       "</div>"
      ],
      "text/plain": [
       "  Country Name Country Code                          Indicator Name  \\\n",
       "0        Aruba          ABW  CO2 emissions (metric tons per capita)   \n",
       "1        Aruba          ABW  CO2 emissions (metric tons per capita)   \n",
       "2        Aruba          ABW  CO2 emissions (metric tons per capita)   \n",
       "3        Aruba          ABW  CO2 emissions (metric tons per capita)   \n",
       "4        Aruba          ABW  CO2 emissions (metric tons per capita)   \n",
       "\n",
       "   Indicator Code  year       value                     Region  IncomeGroup  \\\n",
       "0  EN.ATM.CO2E.PC  1960  204.631696  Latin America & Caribbean  High income   \n",
       "1  EN.ATM.CO2E.PC  1961  208.837879  Latin America & Caribbean  High income   \n",
       "2  EN.ATM.CO2E.PC  1962  226.081890  Latin America & Caribbean  High income   \n",
       "3  EN.ATM.CO2E.PC  1963  214.785217  Latin America & Caribbean  High income   \n",
       "4  EN.ATM.CO2E.PC  1964  207.626699  Latin America & Caribbean  High income   \n",
       "\n",
       "  SpecialNotes TableName  Unnamed: 5  \n",
       "0          NaN     Aruba         NaN  \n",
       "1          NaN     Aruba         NaN  \n",
       "2          NaN     Aruba         NaN  \n",
       "3          NaN     Aruba         NaN  \n",
       "4          NaN     Aruba         NaN  "
      ]
     },
     "execution_count": 19,
     "metadata": {},
     "output_type": "execute_result"
    }
   ],
   "source": [
    "merged_df.head()"
   ]
  },
  {
   "cell_type": "code",
   "execution_count": 20,
   "id": "f7b55385-7fc9-4573-833d-8b4f59e0db26",
   "metadata": {},
   "outputs": [],
   "source": [
    "# Droping unneccary column\n",
    "merged_df.drop(columns=[\"Unnamed: 5\"], inplace=True)"
   ]
  },
  {
   "cell_type": "code",
   "execution_count": 21,
   "id": "85f70379-f7e7-414f-8aa9-dcdcb26b77d6",
   "metadata": {},
   "outputs": [
    {
     "data": {
      "text/html": [
       "<div>\n",
       "<style scoped>\n",
       "    .dataframe tbody tr th:only-of-type {\n",
       "        vertical-align: middle;\n",
       "    }\n",
       "\n",
       "    .dataframe tbody tr th {\n",
       "        vertical-align: top;\n",
       "    }\n",
       "\n",
       "    .dataframe thead th {\n",
       "        text-align: right;\n",
       "    }\n",
       "</style>\n",
       "<table border=\"1\" class=\"dataframe\">\n",
       "  <thead>\n",
       "    <tr style=\"text-align: right;\">\n",
       "      <th></th>\n",
       "      <th>Country Name</th>\n",
       "      <th>Country Code</th>\n",
       "      <th>Indicator Name</th>\n",
       "      <th>Indicator Code</th>\n",
       "      <th>year</th>\n",
       "      <th>value</th>\n",
       "      <th>Region</th>\n",
       "      <th>IncomeGroup</th>\n",
       "      <th>SpecialNotes</th>\n",
       "      <th>TableName</th>\n",
       "    </tr>\n",
       "  </thead>\n",
       "  <tbody>\n",
       "    <tr>\n",
       "      <th>13337</th>\n",
       "      <td>Namibia</td>\n",
       "      <td>NAM</td>\n",
       "      <td>CO2 emissions (metric tons per capita)</td>\n",
       "      <td>EN.ATM.CO2E.PC</td>\n",
       "      <td>2014</td>\n",
       "      <td>1.759459</td>\n",
       "      <td>Sub-Saharan Africa</td>\n",
       "      <td>Upper middle income</td>\n",
       "      <td>Fiscal year end: March 31; reporting period fo...</td>\n",
       "      <td>Namibia</td>\n",
       "    </tr>\n",
       "    <tr>\n",
       "      <th>13338</th>\n",
       "      <td>Namibia</td>\n",
       "      <td>NAM</td>\n",
       "      <td>CO2 emissions (metric tons per capita)</td>\n",
       "      <td>EN.ATM.CO2E.PC</td>\n",
       "      <td>2015</td>\n",
       "      <td>1.844571</td>\n",
       "      <td>Sub-Saharan Africa</td>\n",
       "      <td>Upper middle income</td>\n",
       "      <td>Fiscal year end: March 31; reporting period fo...</td>\n",
       "      <td>Namibia</td>\n",
       "    </tr>\n",
       "    <tr>\n",
       "      <th>13339</th>\n",
       "      <td>Namibia</td>\n",
       "      <td>NAM</td>\n",
       "      <td>CO2 emissions (metric tons per capita)</td>\n",
       "      <td>EN.ATM.CO2E.PC</td>\n",
       "      <td>2016</td>\n",
       "      <td>1.848990</td>\n",
       "      <td>Sub-Saharan Africa</td>\n",
       "      <td>Upper middle income</td>\n",
       "      <td>Fiscal year end: March 31; reporting period fo...</td>\n",
       "      <td>Namibia</td>\n",
       "    </tr>\n",
       "    <tr>\n",
       "      <th>13340</th>\n",
       "      <td>Namibia</td>\n",
       "      <td>NAM</td>\n",
       "      <td>CO2 emissions (metric tons per capita)</td>\n",
       "      <td>EN.ATM.CO2E.PC</td>\n",
       "      <td>2017</td>\n",
       "      <td>1.802197</td>\n",
       "      <td>Sub-Saharan Africa</td>\n",
       "      <td>Upper middle income</td>\n",
       "      <td>Fiscal year end: March 31; reporting period fo...</td>\n",
       "      <td>Namibia</td>\n",
       "    </tr>\n",
       "    <tr>\n",
       "      <th>13341</th>\n",
       "      <td>Namibia</td>\n",
       "      <td>NAM</td>\n",
       "      <td>CO2 emissions (metric tons per capita)</td>\n",
       "      <td>EN.ATM.CO2E.PC</td>\n",
       "      <td>2018</td>\n",
       "      <td>1.735898</td>\n",
       "      <td>Sub-Saharan Africa</td>\n",
       "      <td>Upper middle income</td>\n",
       "      <td>Fiscal year end: March 31; reporting period fo...</td>\n",
       "      <td>Namibia</td>\n",
       "    </tr>\n",
       "  </tbody>\n",
       "</table>\n",
       "</div>"
      ],
      "text/plain": [
       "      Country Name Country Code                          Indicator Name  \\\n",
       "13337      Namibia          NAM  CO2 emissions (metric tons per capita)   \n",
       "13338      Namibia          NAM  CO2 emissions (metric tons per capita)   \n",
       "13339      Namibia          NAM  CO2 emissions (metric tons per capita)   \n",
       "13340      Namibia          NAM  CO2 emissions (metric tons per capita)   \n",
       "13341      Namibia          NAM  CO2 emissions (metric tons per capita)   \n",
       "\n",
       "       Indicator Code  year     value              Region  \\\n",
       "13337  EN.ATM.CO2E.PC  2014  1.759459  Sub-Saharan Africa   \n",
       "13338  EN.ATM.CO2E.PC  2015  1.844571  Sub-Saharan Africa   \n",
       "13339  EN.ATM.CO2E.PC  2016  1.848990  Sub-Saharan Africa   \n",
       "13340  EN.ATM.CO2E.PC  2017  1.802197  Sub-Saharan Africa   \n",
       "13341  EN.ATM.CO2E.PC  2018  1.735898  Sub-Saharan Africa   \n",
       "\n",
       "               IncomeGroup                                       SpecialNotes  \\\n",
       "13337  Upper middle income  Fiscal year end: March 31; reporting period fo...   \n",
       "13338  Upper middle income  Fiscal year end: March 31; reporting period fo...   \n",
       "13339  Upper middle income  Fiscal year end: March 31; reporting period fo...   \n",
       "13340  Upper middle income  Fiscal year end: March 31; reporting period fo...   \n",
       "13341  Upper middle income  Fiscal year end: March 31; reporting period fo...   \n",
       "\n",
       "      TableName  \n",
       "13337   Namibia  \n",
       "13338   Namibia  \n",
       "13339   Namibia  \n",
       "13340   Namibia  \n",
       "13341   Namibia  "
      ]
     },
     "execution_count": 21,
     "metadata": {},
     "output_type": "execute_result"
    }
   ],
   "source": [
    "merged_df.tail()"
   ]
  },
  {
   "cell_type": "markdown",
   "id": "e2df4523-6ee0-4e7e-b421-2f076d099fba",
   "metadata": {},
   "source": [
    "### Which countries have the highest CO2 emissions per capita in 2015?"
   ]
  },
  {
   "cell_type": "code",
   "execution_count": 22,
   "id": "0cfaa8bc-674b-4180-bda6-e35c73026062",
   "metadata": {},
   "outputs": [
    {
     "data": {
      "text/html": [
       "<div>\n",
       "<style scoped>\n",
       "    .dataframe tbody tr th:only-of-type {\n",
       "        vertical-align: middle;\n",
       "    }\n",
       "\n",
       "    .dataframe tbody tr th {\n",
       "        vertical-align: top;\n",
       "    }\n",
       "\n",
       "    .dataframe thead th {\n",
       "        text-align: right;\n",
       "    }\n",
       "</style>\n",
       "<table border=\"1\" class=\"dataframe\">\n",
       "  <thead>\n",
       "    <tr style=\"text-align: right;\">\n",
       "      <th></th>\n",
       "      <th>Country Name</th>\n",
       "      <th>Country Code</th>\n",
       "      <th>Indicator Name</th>\n",
       "      <th>Indicator Code</th>\n",
       "      <th>year</th>\n",
       "      <th>value</th>\n",
       "      <th>Region</th>\n",
       "      <th>IncomeGroup</th>\n",
       "      <th>SpecialNotes</th>\n",
       "      <th>TableName</th>\n",
       "    </tr>\n",
       "  </thead>\n",
       "  <tbody>\n",
       "    <tr>\n",
       "      <th>9025</th>\n",
       "      <td>Qatar</td>\n",
       "      <td>QAT</td>\n",
       "      <td>CO2 emissions (metric tons per capita)</td>\n",
       "      <td>EN.ATM.CO2E.PC</td>\n",
       "      <td>2015</td>\n",
       "      <td>32.470570</td>\n",
       "      <td>Middle East &amp; North Africa</td>\n",
       "      <td>High income</td>\n",
       "      <td>NaN</td>\n",
       "      <td>Qatar</td>\n",
       "    </tr>\n",
       "    <tr>\n",
       "      <th>5867</th>\n",
       "      <td>Kuwait</td>\n",
       "      <td>KWT</td>\n",
       "      <td>CO2 emissions (metric tons per capita)</td>\n",
       "      <td>EN.ATM.CO2E.PC</td>\n",
       "      <td>2015</td>\n",
       "      <td>22.953456</td>\n",
       "      <td>Middle East &amp; North Africa</td>\n",
       "      <td>High income</td>\n",
       "      <td>NaN</td>\n",
       "      <td>Kuwait</td>\n",
       "    </tr>\n",
       "    <tr>\n",
       "      <th>1029</th>\n",
       "      <td>Bahrain</td>\n",
       "      <td>BHR</td>\n",
       "      <td>CO2 emissions (metric tons per capita)</td>\n",
       "      <td>EN.ATM.CO2E.PC</td>\n",
       "      <td>2015</td>\n",
       "      <td>22.305597</td>\n",
       "      <td>Middle East &amp; North Africa</td>\n",
       "      <td>High income</td>\n",
       "      <td>NaN</td>\n",
       "      <td>Bahrain</td>\n",
       "    </tr>\n",
       "    <tr>\n",
       "      <th>439</th>\n",
       "      <td>United Arab Emirates</td>\n",
       "      <td>ARE</td>\n",
       "      <td>CO2 emissions (metric tons per capita)</td>\n",
       "      <td>EN.ATM.CO2E.PC</td>\n",
       "      <td>2015</td>\n",
       "      <td>20.948092</td>\n",
       "      <td>Middle East &amp; North Africa</td>\n",
       "      <td>High income</td>\n",
       "      <td>NaN</td>\n",
       "      <td>United Arab Emirates</td>\n",
       "    </tr>\n",
       "    <tr>\n",
       "      <th>9320</th>\n",
       "      <td>Saudi Arabia</td>\n",
       "      <td>SAU</td>\n",
       "      <td>CO2 emissions (metric tons per capita)</td>\n",
       "      <td>EN.ATM.CO2E.PC</td>\n",
       "      <td>2015</td>\n",
       "      <td>17.691712</td>\n",
       "      <td>Middle East &amp; North Africa</td>\n",
       "      <td>High income</td>\n",
       "      <td>NaN</td>\n",
       "      <td>Saudi Arabia</td>\n",
       "    </tr>\n",
       "  </tbody>\n",
       "</table>\n",
       "</div>"
      ],
      "text/plain": [
       "              Country Name Country Code  \\\n",
       "9025                 Qatar          QAT   \n",
       "5867                Kuwait          KWT   \n",
       "1029               Bahrain          BHR   \n",
       "439   United Arab Emirates          ARE   \n",
       "9320          Saudi Arabia          SAU   \n",
       "\n",
       "                              Indicator Name  Indicator Code  year      value  \\\n",
       "9025  CO2 emissions (metric tons per capita)  EN.ATM.CO2E.PC  2015  32.470570   \n",
       "5867  CO2 emissions (metric tons per capita)  EN.ATM.CO2E.PC  2015  22.953456   \n",
       "1029  CO2 emissions (metric tons per capita)  EN.ATM.CO2E.PC  2015  22.305597   \n",
       "439   CO2 emissions (metric tons per capita)  EN.ATM.CO2E.PC  2015  20.948092   \n",
       "9320  CO2 emissions (metric tons per capita)  EN.ATM.CO2E.PC  2015  17.691712   \n",
       "\n",
       "                          Region  IncomeGroup SpecialNotes  \\\n",
       "9025  Middle East & North Africa  High income          NaN   \n",
       "5867  Middle East & North Africa  High income          NaN   \n",
       "1029  Middle East & North Africa  High income          NaN   \n",
       "439   Middle East & North Africa  High income          NaN   \n",
       "9320  Middle East & North Africa  High income          NaN   \n",
       "\n",
       "                 TableName  \n",
       "9025                 Qatar  \n",
       "5867                Kuwait  \n",
       "1029               Bahrain  \n",
       "439   United Arab Emirates  \n",
       "9320          Saudi Arabia  "
      ]
     },
     "execution_count": 22,
     "metadata": {},
     "output_type": "execute_result"
    }
   ],
   "source": [
    "merged_df[merged_df['year']== 2015].sort_values('value',ascending=False).head()"
   ]
  },
  {
   "cell_type": "code",
   "execution_count": 28,
   "id": "d70047e9-c06e-44d9-8d77-176391305bb8",
   "metadata": {},
   "outputs": [],
   "source": [
    "highest_co2_emission_2015 = merged_df[merged_df['year']== 2015].sort_values('value',ascending=False)"
   ]
  },
  {
   "cell_type": "code",
   "execution_count": 34,
   "id": "c80b5543-7563-4f62-b51f-775f0743a6ff",
   "metadata": {},
   "outputs": [],
   "source": [
    "sns.set(rc={\"figure.figsize\":(13, 6)})"
   ]
  },
  {
   "cell_type": "code",
   "execution_count": 40,
   "id": "09523a7b-3546-417b-afe4-c8b73cd86bca",
   "metadata": {},
   "outputs": [
    {
     "data": {
      "text/plain": [
       "<AxesSubplot:xlabel='value', ylabel='Country Name'>"
      ]
     },
     "execution_count": 40,
     "metadata": {},
     "output_type": "execute_result"
    },
    {
     "data": {
      "image/png": "[encoded data removed]",
      "text/plain": [
       "<Figure size 936x432 with 1 Axes>"
      ]
     },
     "metadata": {},
     "output_type": "display_data"
    }
   ],
   "source": [
    "sns.barplot(y=\"Country Name\", x=\"value\", data = highest_co2_emission_2015[:10], orient=\"h\")"
   ]
  },
  {
   "cell_type": "markdown",
   "id": "6f04a10b-7eff-45fa-b419-68b1a8b13084",
   "metadata": {},
   "source": [
    "##### Qatar is highest co2 emission per capita in 2015 with value of 32.470570"
   ]
  },
  {
   "cell_type": "code",
   "execution_count": 38,
   "id": "8f12d521-2e09-416f-b451-5f5e33bf2878",
   "metadata": {},
   "outputs": [
    {
     "data": {
      "text/html": [
       "<div>\n",
       "<style scoped>\n",
       "    .dataframe tbody tr th:only-of-type {\n",
       "        vertical-align: middle;\n",
       "    }\n",
       "\n",
       "    .dataframe tbody tr th {\n",
       "        vertical-align: top;\n",
       "    }\n",
       "\n",
       "    .dataframe thead th {\n",
       "        text-align: right;\n",
       "    }\n",
       "</style>\n",
       "<table border=\"1\" class=\"dataframe\">\n",
       "  <thead>\n",
       "    <tr style=\"text-align: right;\">\n",
       "      <th></th>\n",
       "      <th>Country Name</th>\n",
       "      <th>Country Code</th>\n",
       "      <th>Indicator Name</th>\n",
       "      <th>Indicator Code</th>\n",
       "      <th>year</th>\n",
       "      <th>value</th>\n",
       "      <th>Region</th>\n",
       "      <th>IncomeGroup</th>\n",
       "      <th>SpecialNotes</th>\n",
       "      <th>TableName</th>\n",
       "    </tr>\n",
       "  </thead>\n",
       "  <tbody>\n",
       "    <tr>\n",
       "      <th>9028</th>\n",
       "      <td>Qatar</td>\n",
       "      <td>QAT</td>\n",
       "      <td>CO2 emissions (metric tons per capita)</td>\n",
       "      <td>EN.ATM.CO2E.PC</td>\n",
       "      <td>2018</td>\n",
       "      <td>32.415639</td>\n",
       "      <td>Middle East &amp; North Africa</td>\n",
       "      <td>High income</td>\n",
       "      <td>NaN</td>\n",
       "      <td>Qatar</td>\n",
       "    </tr>\n",
       "    <tr>\n",
       "      <th>5870</th>\n",
       "      <td>Kuwait</td>\n",
       "      <td>KWT</td>\n",
       "      <td>CO2 emissions (metric tons per capita)</td>\n",
       "      <td>EN.ATM.CO2E.PC</td>\n",
       "      <td>2018</td>\n",
       "      <td>21.622724</td>\n",
       "      <td>Middle East &amp; North Africa</td>\n",
       "      <td>High income</td>\n",
       "      <td>NaN</td>\n",
       "      <td>Kuwait</td>\n",
       "    </tr>\n",
       "    <tr>\n",
       "      <th>442</th>\n",
       "      <td>United Arab Emirates</td>\n",
       "      <td>ARE</td>\n",
       "      <td>CO2 emissions (metric tons per capita)</td>\n",
       "      <td>EN.ATM.CO2E.PC</td>\n",
       "      <td>2018</td>\n",
       "      <td>20.797498</td>\n",
       "      <td>Middle East &amp; North Africa</td>\n",
       "      <td>High income</td>\n",
       "      <td>NaN</td>\n",
       "      <td>United Arab Emirates</td>\n",
       "    </tr>\n",
       "    <tr>\n",
       "      <th>1032</th>\n",
       "      <td>Bahrain</td>\n",
       "      <td>BHR</td>\n",
       "      <td>CO2 emissions (metric tons per capita)</td>\n",
       "      <td>EN.ATM.CO2E.PC</td>\n",
       "      <td>2018</td>\n",
       "      <td>19.592976</td>\n",
       "      <td>Middle East &amp; North Africa</td>\n",
       "      <td>High income</td>\n",
       "      <td>NaN</td>\n",
       "      <td>Bahrain</td>\n",
       "    </tr>\n",
       "    <tr>\n",
       "      <th>1416</th>\n",
       "      <td>Brunei Darussalam</td>\n",
       "      <td>BRN</td>\n",
       "      <td>CO2 emissions (metric tons per capita)</td>\n",
       "      <td>EN.ATM.CO2E.PC</td>\n",
       "      <td>2018</td>\n",
       "      <td>16.644909</td>\n",
       "      <td>East Asia &amp; Pacific</td>\n",
       "      <td>High income</td>\n",
       "      <td>NaN</td>\n",
       "      <td>Brunei Darussalam</td>\n",
       "    </tr>\n",
       "  </tbody>\n",
       "</table>\n",
       "</div>"
      ],
      "text/plain": [
       "              Country Name Country Code  \\\n",
       "9028                 Qatar          QAT   \n",
       "5870                Kuwait          KWT   \n",
       "442   United Arab Emirates          ARE   \n",
       "1032               Bahrain          BHR   \n",
       "1416     Brunei Darussalam          BRN   \n",
       "\n",
       "                              Indicator Name  Indicator Code  year      value  \\\n",
       "9028  CO2 emissions (metric tons per capita)  EN.ATM.CO2E.PC  2018  32.415639   \n",
       "5870  CO2 emissions (metric tons per capita)  EN.ATM.CO2E.PC  2018  21.622724   \n",
       "442   CO2 emissions (metric tons per capita)  EN.ATM.CO2E.PC  2018  20.797498   \n",
       "1032  CO2 emissions (metric tons per capita)  EN.ATM.CO2E.PC  2018  19.592976   \n",
       "1416  CO2 emissions (metric tons per capita)  EN.ATM.CO2E.PC  2018  16.644909   \n",
       "\n",
       "                          Region  IncomeGroup SpecialNotes  \\\n",
       "9028  Middle East & North Africa  High income          NaN   \n",
       "5870  Middle East & North Africa  High income          NaN   \n",
       "442   Middle East & North Africa  High income          NaN   \n",
       "1032  Middle East & North Africa  High income          NaN   \n",
       "1416         East Asia & Pacific  High income          NaN   \n",
       "\n",
       "                 TableName  \n",
       "9028                 Qatar  \n",
       "5870                Kuwait  \n",
       "442   United Arab Emirates  \n",
       "1032               Bahrain  \n",
       "1416     Brunei Darussalam  "
      ]
     },
     "execution_count": 38,
     "metadata": {},
     "output_type": "execute_result"
    }
   ],
   "source": [
    "merged_df[merged_df['year']== 2018].sort_values('value',ascending=False).head()"
   ]
  },
  {
   "cell_type": "code",
   "execution_count": 41,
   "id": "b3557860-ef7f-4278-9b16-d5a2ea6d7259",
   "metadata": {},
   "outputs": [
    {
     "data": {
      "text/plain": [
       "<AxesSubplot:xlabel='value', ylabel='Country Name'>"
      ]
     },
     "execution_count": 41,
     "metadata": {},
     "output_type": "execute_result"
    },
    {
     "data": {
      "image/png": "[encoded data removed]",
      "text/plain": [
       "<Figure size 936x432 with 1 Axes>"
      ]
     },
     "metadata": {},
     "output_type": "display_data"
    }
   ],
   "source": [
    "highest_co2_emission_2018 = merged_df[merged_df['year']== 2015].sort_values('value',ascending=False)\n",
    "sns.barplot(y=\"Country Name\", x=\"value\", data = highest_co2_emission_2018[:10], orient=\"h\")"
   ]
  },
  {
   "cell_type": "markdown",
   "id": "a01a4268-082c-45d0-bcc7-bc0d1b5da977",
   "metadata": {},
   "source": [
    "##### In 2018 also qatar is highest co2 emission per capita"
   ]
  },
  {
   "cell_type": "markdown",
   "id": "9e05f02e-fac9-4967-b6d3-f8685f8e2994",
   "metadata": {},
   "source": [
    "### Which countries have the Lowest CO2 emissions per capita in 2015?"
   ]
  },
  {
   "cell_type": "code",
   "execution_count": 40,
   "id": "1717c8c2-59b6-4f9d-969e-5581ca03af6a",
   "metadata": {},
   "outputs": [
    {
     "data": {
      "text/html": [
       "<div>\n",
       "<style scoped>\n",
       "    .dataframe tbody tr th:only-of-type {\n",
       "        vertical-align: middle;\n",
       "    }\n",
       "\n",
       "    .dataframe tbody tr th {\n",
       "        vertical-align: top;\n",
       "    }\n",
       "\n",
       "    .dataframe thead th {\n",
       "        text-align: right;\n",
       "    }\n",
       "</style>\n",
       "<table border=\"1\" class=\"dataframe\">\n",
       "  <thead>\n",
       "    <tr style=\"text-align: right;\">\n",
       "      <th></th>\n",
       "      <th>Country Name</th>\n",
       "      <th>Country Code</th>\n",
       "      <th>Indicator Name</th>\n",
       "      <th>Indicator Code</th>\n",
       "      <th>year</th>\n",
       "      <th>value</th>\n",
       "      <th>Region</th>\n",
       "      <th>IncomeGroup</th>\n",
       "      <th>SpecialNotes</th>\n",
       "      <th>TableName</th>\n",
       "    </tr>\n",
       "  </thead>\n",
       "  <tbody>\n",
       "    <tr>\n",
       "      <th>1944</th>\n",
       "      <td>Congo, Dem. Rep.</td>\n",
       "      <td>COD</td>\n",
       "      <td>CO2 emissions (metric tons per capita)</td>\n",
       "      <td>EN.ATM.CO2E.PC</td>\n",
       "      <td>2015</td>\n",
       "      <td>0.037904</td>\n",
       "      <td>Sub-Saharan Africa</td>\n",
       "      <td>Low income</td>\n",
       "      <td>NaN</td>\n",
       "      <td>Congo, Dem. Rep.</td>\n",
       "    </tr>\n",
       "    <tr>\n",
       "      <th>11793</th>\n",
       "      <td>Burundi</td>\n",
       "      <td>BDI</td>\n",
       "      <td>CO2 emissions (metric tons per capita)</td>\n",
       "      <td>EN.ATM.CO2E.PC</td>\n",
       "      <td>2015</td>\n",
       "      <td>0.040354</td>\n",
       "      <td>Sub-Saharan Africa</td>\n",
       "      <td>Low income</td>\n",
       "      <td>NaN</td>\n",
       "      <td>Burundi</td>\n",
       "    </tr>\n",
       "    <tr>\n",
       "      <th>9733</th>\n",
       "      <td>Somalia</td>\n",
       "      <td>SOM</td>\n",
       "      <td>CO2 emissions (metric tons per capita)</td>\n",
       "      <td>EN.ATM.CO2E.PC</td>\n",
       "      <td>2015</td>\n",
       "      <td>0.047111</td>\n",
       "      <td>Sub-Saharan Africa</td>\n",
       "      <td>Low income</td>\n",
       "      <td>NaN</td>\n",
       "      <td>Somalia</td>\n",
       "    </tr>\n",
       "    <tr>\n",
       "      <th>10262</th>\n",
       "      <td>Chad</td>\n",
       "      <td>TCD</td>\n",
       "      <td>CO2 emissions (metric tons per capita)</td>\n",
       "      <td>EN.ATM.CO2E.PC</td>\n",
       "      <td>2015</td>\n",
       "      <td>0.068741</td>\n",
       "      <td>Sub-Saharan Africa</td>\n",
       "      <td>Low income</td>\n",
       "      <td>NaN</td>\n",
       "      <td>Chad</td>\n",
       "    </tr>\n",
       "    <tr>\n",
       "      <th>1472</th>\n",
       "      <td>Central African Republic</td>\n",
       "      <td>CAF</td>\n",
       "      <td>CO2 emissions (metric tons per capita)</td>\n",
       "      <td>EN.ATM.CO2E.PC</td>\n",
       "      <td>2015</td>\n",
       "      <td>0.068994</td>\n",
       "      <td>Sub-Saharan Africa</td>\n",
       "      <td>Low income</td>\n",
       "      <td>NaN</td>\n",
       "      <td>Central African Republic</td>\n",
       "    </tr>\n",
       "  </tbody>\n",
       "</table>\n",
       "</div>"
      ],
      "text/plain": [
       "                   Country Name Country Code  \\\n",
       "1944           Congo, Dem. Rep.          COD   \n",
       "11793                   Burundi          BDI   \n",
       "9733                    Somalia          SOM   \n",
       "10262                      Chad          TCD   \n",
       "1472   Central African Republic          CAF   \n",
       "\n",
       "                               Indicator Name  Indicator Code  year     value  \\\n",
       "1944   CO2 emissions (metric tons per capita)  EN.ATM.CO2E.PC  2015  0.037904   \n",
       "11793  CO2 emissions (metric tons per capita)  EN.ATM.CO2E.PC  2015  0.040354   \n",
       "9733   CO2 emissions (metric tons per capita)  EN.ATM.CO2E.PC  2015  0.047111   \n",
       "10262  CO2 emissions (metric tons per capita)  EN.ATM.CO2E.PC  2015  0.068741   \n",
       "1472   CO2 emissions (metric tons per capita)  EN.ATM.CO2E.PC  2015  0.068994   \n",
       "\n",
       "                   Region IncomeGroup SpecialNotes                 TableName  \n",
       "1944   Sub-Saharan Africa  Low income          NaN          Congo, Dem. Rep.  \n",
       "11793  Sub-Saharan Africa  Low income          NaN                   Burundi  \n",
       "9733   Sub-Saharan Africa  Low income          NaN                   Somalia  \n",
       "10262  Sub-Saharan Africa  Low income          NaN                      Chad  \n",
       "1472   Sub-Saharan Africa  Low income          NaN  Central African Republic  "
      ]
     },
     "execution_count": 40,
     "metadata": {},
     "output_type": "execute_result"
    }
   ],
   "source": [
    "merged_df[merged_df['year']== 2015].sort_values('value',ascending=True).head()"
   ]
  },
  {
   "cell_type": "code",
   "execution_count": 42,
   "id": "31b7ea8d-ebfc-4a96-aae3-68e6a922bc26",
   "metadata": {},
   "outputs": [
    {
     "data": {
      "text/plain": [
       "<AxesSubplot:xlabel='value', ylabel='Country Name'>"
      ]
     },
     "execution_count": 42,
     "metadata": {},
     "output_type": "execute_result"
    },
    {
     "data": {
      "image/png": "[encoded data removed]",
      "text/plain": [
       "<Figure size 936x432 with 1 Axes>"
      ]
     },
     "metadata": {},
     "output_type": "display_data"
    }
   ],
   "source": [
    "lowest_co2_emission_2015 = merged_df[merged_df['year']== 2015].sort_values('value',ascending=True)\n",
    "sns.barplot(y=\"Country Name\", x=\"value\", data = lowest_co2_emission_2015[:10], orient=\"h\")"
   ]
  },
  {
   "cell_type": "markdown",
   "id": "ac56134a-858b-4b95-ae7e-79649acc8f15",
   "metadata": {},
   "source": [
    "##### Congo is lowest co2 emission per capita in 2015 with value of 0.037"
   ]
  },
  {
   "cell_type": "code",
   "execution_count": 43,
   "id": "d921f5dc-3423-438f-9113-4ddaaf952144",
   "metadata": {},
   "outputs": [
    {
     "data": {
      "text/plain": [
       "<AxesSubplot:xlabel='value', ylabel='Country Name'>"
      ]
     },
     "execution_count": 43,
     "metadata": {},
     "output_type": "execute_result"
    },
    {
     "data": {
      "image/png": "[encoded data removed]",
      "text/plain": [
       "<Figure size 936x432 with 1 Axes>"
      ]
     },
     "metadata": {},
     "output_type": "display_data"
    }
   ],
   "source": [
    "lowest_co2_emission_2018 = merged_df[merged_df['year']== 2018].sort_values('value',ascending=True)\n",
    "sns.barplot(y=\"Country Name\", x=\"value\", data = lowest_co2_emission_2018[:10], orient=\"h\")"
   ]
  },
  {
   "cell_type": "markdown",
   "id": "329a986d-7303-4830-b845-2c2eecc66134",
   "metadata": {},
   "source": [
    "## How co2 emission chaged over years across all countries"
   ]
  },
  {
   "cell_type": "code",
   "execution_count": 44,
   "id": "6f5e201f-5b37-436b-b66b-2b0b1284c2cc",
   "metadata": {},
   "outputs": [],
   "source": [
    "groupby_year = merged_df.groupby(by=\"year\").sum()"
   ]
  },
  {
   "cell_type": "code",
   "execution_count": 46,
   "id": "0a72e015-0b2f-47ac-aa68-cac5ab595c64",
   "metadata": {},
   "outputs": [
    {
     "data": {
      "text/html": [
       "<div>\n",
       "<style scoped>\n",
       "    .dataframe tbody tr th:only-of-type {\n",
       "        vertical-align: middle;\n",
       "    }\n",
       "\n",
       "    .dataframe tbody tr th {\n",
       "        vertical-align: top;\n",
       "    }\n",
       "\n",
       "    .dataframe thead th {\n",
       "        text-align: right;\n",
       "    }\n",
       "</style>\n",
       "<table border=\"1\" class=\"dataframe\">\n",
       "  <thead>\n",
       "    <tr style=\"text-align: right;\">\n",
       "      <th></th>\n",
       "      <th>value</th>\n",
       "    </tr>\n",
       "    <tr>\n",
       "      <th>year</th>\n",
       "      <th></th>\n",
       "    </tr>\n",
       "  </thead>\n",
       "  <tbody>\n",
       "    <tr>\n",
       "      <th>1960</th>\n",
       "      <td>641.524584</td>\n",
       "    </tr>\n",
       "    <tr>\n",
       "      <th>1961</th>\n",
       "      <td>671.637032</td>\n",
       "    </tr>\n",
       "    <tr>\n",
       "      <th>1962</th>\n",
       "      <td>713.182461</td>\n",
       "    </tr>\n",
       "    <tr>\n",
       "      <th>1963</th>\n",
       "      <td>808.543175</td>\n",
       "    </tr>\n",
       "    <tr>\n",
       "      <th>1964</th>\n",
       "      <td>853.498221</td>\n",
       "    </tr>\n",
       "  </tbody>\n",
       "</table>\n",
       "</div>"
      ],
      "text/plain": [
       "           value\n",
       "year            \n",
       "1960  641.524584\n",
       "1961  671.637032\n",
       "1962  713.182461\n",
       "1963  808.543175\n",
       "1964  853.498221"
      ]
     },
     "execution_count": 46,
     "metadata": {},
     "output_type": "execute_result"
    }
   ],
   "source": [
    "groupby_year.head()"
   ]
  },
  {
   "cell_type": "code",
   "execution_count": 51,
   "id": "4b9560e7-5e14-4209-99dd-f8ff4fa2322c",
   "metadata": {},
   "outputs": [],
   "source": [
    "groupby_year.reset_index(inplace=True)"
   ]
  },
  {
   "cell_type": "code",
   "execution_count": 54,
   "id": "887363af-839b-426f-90b4-d0c471067853",
   "metadata": {},
   "outputs": [
    {
     "data": {
      "text/plain": [
       "<AxesSubplot:xlabel='year', ylabel='value'>"
      ]
     },
     "execution_count": 54,
     "metadata": {},
     "output_type": "execute_result"
    },
    {
     "data": {
      "image/png": "[encoded data removed]",
      "text/plain": [
       "<Figure size 936x432 with 1 Axes>"
      ]
     },
     "metadata": {},
     "output_type": "display_data"
    }
   ],
   "source": [
    "sns.lineplot(x=\"year\", y=\"value\", data = groupby_year)"
   ]
  },
  {
   "cell_type": "markdown",
   "id": "f945c681-a305-4d22-b88d-211253a5f9f2",
   "metadata": {},
   "source": [
    "There is huge spike on co2 emisison during the year 1970's"
   ]
  },
  {
   "cell_type": "markdown",
   "id": "775e726d-c497-49fc-8090-e883dfd31e0e",
   "metadata": {},
   "source": [
    "## How co2 emission occured based on region"
   ]
  },
  {
   "cell_type": "code",
   "execution_count": 56,
   "id": "0d12b838-dc48-498a-956b-425e8d9f915d",
   "metadata": {},
   "outputs": [],
   "source": [
    "groupby_region = merged_df.groupby(by=\"Region\").mean()"
   ]
  },
  {
   "cell_type": "code",
   "execution_count": 57,
   "id": "133840c0-670a-4b28-9886-386166ebe5b9",
   "metadata": {},
   "outputs": [],
   "source": [
    "groupby_region.reset_index(inplace=True)"
   ]
  },
  {
   "cell_type": "code",
   "execution_count": 59,
   "id": "3e1bbe8b-82a3-45b3-91bc-5b4f6df12dee",
   "metadata": {},
   "outputs": [
    {
     "data": {
      "text/plain": [
       "<AxesSubplot:xlabel='Region', ylabel='value'>"
      ]
     },
     "execution_count": 59,
     "metadata": {},
     "output_type": "execute_result"
    },
    {
     "data": {
      "image/png": "[encoded data removed]",
      "text/plain": [
       "<Figure size 936x432 with 1 Axes>"
      ]
     },
     "metadata": {},
     "output_type": "display_data"
    }
   ],
   "source": [
    "sns.barplot(x=\"Region\", y=\"value\", data = groupby_region)"
   ]
  },
  {
   "cell_type": "markdown",
   "id": "30c9ad9d-3611-4e18-bc81-271e4793b45f",
   "metadata": {},
   "source": [
    "##### North america released more co2 than any other region(with all the years combined)"
   ]
  },
  {
   "cell_type": "markdown",
   "id": "2193a2fb-c287-40eb-8203-fad7d987966c",
   "metadata": {},
   "source": [
    "## How co2 emission occured based on region and year"
   ]
  },
  {
   "cell_type": "code",
   "execution_count": 62,
   "id": "5e504b9c-78a2-4d2a-a5c6-a15a47099069",
   "metadata": {},
   "outputs": [],
   "source": [
    "groupby_region_year = merged_df.groupby(by=[\"Region\",\"year\"]).mean()"
   ]
  },
  {
   "cell_type": "code",
   "execution_count": 65,
   "id": "4431b972-1852-4a3b-a85d-fb9e9ca8ca22",
   "metadata": {},
   "outputs": [],
   "source": [
    "groupby_region_year.reset_index(inplace=True)"
   ]
  },
  {
   "cell_type": "code",
   "execution_count": 66,
   "id": "b0970a8d-774c-4a47-8027-5c3d3d91fdde",
   "metadata": {},
   "outputs": [
    {
     "data": {
      "text/html": [
       "<div>\n",
       "<style scoped>\n",
       "    .dataframe tbody tr th:only-of-type {\n",
       "        vertical-align: middle;\n",
       "    }\n",
       "\n",
       "    .dataframe tbody tr th {\n",
       "        vertical-align: top;\n",
       "    }\n",
       "\n",
       "    .dataframe thead th {\n",
       "        text-align: right;\n",
       "    }\n",
       "</style>\n",
       "<table border=\"1\" class=\"dataframe\">\n",
       "  <thead>\n",
       "    <tr style=\"text-align: right;\">\n",
       "      <th></th>\n",
       "      <th>Region</th>\n",
       "      <th>year</th>\n",
       "      <th>value</th>\n",
       "    </tr>\n",
       "  </thead>\n",
       "  <tbody>\n",
       "    <tr>\n",
       "      <th>0</th>\n",
       "      <td>East Asia &amp; Pacific</td>\n",
       "      <td>1960</td>\n",
       "      <td>1.579130</td>\n",
       "    </tr>\n",
       "    <tr>\n",
       "      <th>1</th>\n",
       "      <td>East Asia &amp; Pacific</td>\n",
       "      <td>1961</td>\n",
       "      <td>1.692558</td>\n",
       "    </tr>\n",
       "    <tr>\n",
       "      <th>2</th>\n",
       "      <td>East Asia &amp; Pacific</td>\n",
       "      <td>1962</td>\n",
       "      <td>1.569295</td>\n",
       "    </tr>\n",
       "    <tr>\n",
       "      <th>3</th>\n",
       "      <td>East Asia &amp; Pacific</td>\n",
       "      <td>1963</td>\n",
       "      <td>1.643264</td>\n",
       "    </tr>\n",
       "    <tr>\n",
       "      <th>4</th>\n",
       "      <td>East Asia &amp; Pacific</td>\n",
       "      <td>1964</td>\n",
       "      <td>2.030266</td>\n",
       "    </tr>\n",
       "  </tbody>\n",
       "</table>\n",
       "</div>"
      ],
      "text/plain": [
       "                Region  year     value\n",
       "0  East Asia & Pacific  1960  1.579130\n",
       "1  East Asia & Pacific  1961  1.692558\n",
       "2  East Asia & Pacific  1962  1.569295\n",
       "3  East Asia & Pacific  1963  1.643264\n",
       "4  East Asia & Pacific  1964  2.030266"
      ]
     },
     "execution_count": 66,
     "metadata": {},
     "output_type": "execute_result"
    }
   ],
   "source": [
    "groupby_region_year.head()"
   ]
  },
  {
   "cell_type": "code",
   "execution_count": 71,
   "id": "5423259d-cfb6-40a7-a079-d9be5611f4f1",
   "metadata": {},
   "outputs": [
    {
     "data": {
      "text/plain": [
       "East Asia & Pacific           59\n",
       "Europe & Central Asia         59\n",
       "Latin America & Caribbean     59\n",
       "Middle East & North Africa    59\n",
       "North America                 59\n",
       "South Asia                    59\n",
       "Sub-Saharan Africa            59\n",
       "Name: Region, dtype: int64"
      ]
     },
     "execution_count": 71,
     "metadata": {},
     "output_type": "execute_result"
    }
   ],
   "source": [
    "groupby_region_year[\"Region\"].value_counts()"
   ]
  },
  {
   "cell_type": "code",
   "execution_count": 70,
   "id": "a4332800-414e-4193-9031-c1bc6ca8c1af",
   "metadata": {},
   "outputs": [
    {
     "data": {
      "text/plain": [
       "<AxesSubplot:xlabel='year', ylabel='value'>"
      ]
     },
     "execution_count": 70,
     "metadata": {},
     "output_type": "execute_result"
    },
    {
     "data": {
      "image/png": "[encoded data removed]",
      "text/plain": [
       "<Figure size 936x432 with 1 Axes>"
      ]
     },
     "metadata": {},
     "output_type": "display_data"
    }
   ],
   "source": [
    "# Yearly co2 emission from East asia & pacific\n",
    "sns.lineplot(y=\"value\", x=\"year\", data = groupby_region_year[groupby_region_year[\"Region\"] == \"East Asia & Pacific\"])"
   ]
  },
  {
   "cell_type": "code",
   "execution_count": 72,
   "id": "d5212cea-9856-4a09-8ca5-06244c5b1ffc",
   "metadata": {},
   "outputs": [
    {
     "data": {
      "text/plain": [
       "<AxesSubplot:xlabel='year', ylabel='value'>"
      ]
     },
     "execution_count": 72,
     "metadata": {},
     "output_type": "execute_result"
    },
    {
     "data": {
      "image/png": "[encoded data removed]",
      "text/plain": [
       "<Figure size 936x432 with 1 Axes>"
      ]
     },
     "metadata": {},
     "output_type": "display_data"
    }
   ],
   "source": [
    "# Yearly co2 emission from South Asia\n",
    "sns.lineplot(y=\"value\", x=\"year\", data = groupby_region_year[groupby_region_year[\"Region\"] == \"South Asia\"])"
   ]
  },
  {
   "cell_type": "code",
   "execution_count": 73,
   "id": "20ff54d1-1da1-4bad-9ed9-eae2b9a54d09",
   "metadata": {},
   "outputs": [
    {
     "data": {
      "text/plain": [
       "<AxesSubplot:xlabel='year', ylabel='value'>"
      ]
     },
     "execution_count": 73,
     "metadata": {},
     "output_type": "execute_result"
    },
    {
     "data": {
      "image/png": "[encoded data removed]",
      "text/plain": [
       "<Figure size 936x432 with 1 Axes>"
      ]
     },
     "metadata": {},
     "output_type": "display_data"
    }
   ],
   "source": [
    "# Yearly co2 emission from Europe & Central Asia\n",
    "sns.lineplot(y=\"value\", x=\"year\", data = groupby_region_year[groupby_region_year[\"Region\"] == \"Europe & Central Asia\"])"
   ]
  },
  {
   "cell_type": "markdown",
   "id": "6a7703dc-9c54-4c44-9c48-cd67e6d726a3",
   "metadata": {},
   "source": [
    "#### Based on above two plots europen coutries emission stared to reduce and south asian coutries co2 emision increased gradually at the same time."
   ]
  },
  {
   "cell_type": "markdown",
   "id": "cfbbd6b8-714e-4ae0-851b-f63bbdc3e94a",
   "metadata": {},
   "source": [
    "## Grouo by country"
   ]
  },
  {
   "cell_type": "code",
   "execution_count": 78,
   "id": "e115fc45-6cca-4afe-94d2-eb25c0eb8d54",
   "metadata": {},
   "outputs": [],
   "source": [
    "groupby_country = merged_df.groupby(by=[\"Country Name\", \"year\"]).mean()"
   ]
  },
  {
   "cell_type": "code",
   "execution_count": 79,
   "id": "90e6d5ec-8206-4d82-8c9f-e2823b3d8674",
   "metadata": {},
   "outputs": [],
   "source": [
    "groupby_country.reset_index(inplace=True)"
   ]
  },
  {
   "cell_type": "code",
   "execution_count": 80,
   "id": "9696054c-54d1-4481-89fa-a18764a4cde4",
   "metadata": {},
   "outputs": [
    {
     "data": {
      "text/html": [
       "<div>\n",
       "<style scoped>\n",
       "    .dataframe tbody tr th:only-of-type {\n",
       "        vertical-align: middle;\n",
       "    }\n",
       "\n",
       "    .dataframe tbody tr th {\n",
       "        vertical-align: top;\n",
       "    }\n",
       "\n",
       "    .dataframe thead th {\n",
       "        text-align: right;\n",
       "    }\n",
       "</style>\n",
       "<table border=\"1\" class=\"dataframe\">\n",
       "  <thead>\n",
       "    <tr style=\"text-align: right;\">\n",
       "      <th></th>\n",
       "      <th>Country Name</th>\n",
       "      <th>year</th>\n",
       "      <th>value</th>\n",
       "    </tr>\n",
       "  </thead>\n",
       "  <tbody>\n",
       "    <tr>\n",
       "      <th>0</th>\n",
       "      <td>Afghanistan</td>\n",
       "      <td>1960</td>\n",
       "      <td>0.046057</td>\n",
       "    </tr>\n",
       "    <tr>\n",
       "      <th>1</th>\n",
       "      <td>Afghanistan</td>\n",
       "      <td>1961</td>\n",
       "      <td>0.053589</td>\n",
       "    </tr>\n",
       "    <tr>\n",
       "      <th>2</th>\n",
       "      <td>Afghanistan</td>\n",
       "      <td>1962</td>\n",
       "      <td>0.073721</td>\n",
       "    </tr>\n",
       "    <tr>\n",
       "      <th>3</th>\n",
       "      <td>Afghanistan</td>\n",
       "      <td>1963</td>\n",
       "      <td>0.074161</td>\n",
       "    </tr>\n",
       "    <tr>\n",
       "      <th>4</th>\n",
       "      <td>Afghanistan</td>\n",
       "      <td>1964</td>\n",
       "      <td>0.086174</td>\n",
       "    </tr>\n",
       "  </tbody>\n",
       "</table>\n",
       "</div>"
      ],
      "text/plain": [
       "  Country Name  year     value\n",
       "0  Afghanistan  1960  0.046057\n",
       "1  Afghanistan  1961  0.053589\n",
       "2  Afghanistan  1962  0.073721\n",
       "3  Afghanistan  1963  0.074161\n",
       "4  Afghanistan  1964  0.086174"
      ]
     },
     "execution_count": 80,
     "metadata": {},
     "output_type": "execute_result"
    }
   ],
   "source": [
    "groupby_country.head()"
   ]
  },
  {
   "cell_type": "code",
   "execution_count": 83,
   "id": "508c33e7-f867-4a14-9b91-16f0f8da6fa0",
   "metadata": {},
   "outputs": [],
   "source": [
    "def progress_over_year(country):\n",
    "    return sns.lineplot(y=\"value\", x=\"year\", data = groupby_country[groupby_country[\"Country Name\"] == country])"
   ]
  },
  {
   "cell_type": "code",
   "execution_count": 85,
   "id": "1fa2656a-454d-4cdb-a684-0af3a14c670f",
   "metadata": {},
   "outputs": [
    {
     "data": {
      "text/plain": [
       "<AxesSubplot:xlabel='year', ylabel='value'>"
      ]
     },
     "execution_count": 85,
     "metadata": {},
     "output_type": "execute_result"
    },
    {
     "data": {
      "image/png": "[encoded data removed]",
      "text/plain": [
       "<Figure size 936x432 with 1 Axes>"
      ]
     },
     "metadata": {},
     "output_type": "display_data"
    }
   ],
   "source": [
    "progress_over_year(\"Australia\")"
   ]
  },
  {
   "cell_type": "code",
   "execution_count": 86,
   "id": "3546ff94-1655-4fa9-bcfc-688a78a11838",
   "metadata": {},
   "outputs": [
    {
     "data": {
      "text/plain": [
       "<AxesSubplot:xlabel='year', ylabel='value'>"
      ]
     },
     "execution_count": 86,
     "metadata": {},
     "output_type": "execute_result"
    },
    {
     "data": {
      "image/png": "[encoded data removed]",
      "text/plain": [
       "<Figure size 936x432 with 1 Axes>"
      ]
     },
     "metadata": {},
     "output_type": "display_data"
    }
   ],
   "source": [
    "progress_over_year(\"Germany\")"
   ]
  },
  {
   "cell_type": "code",
   "execution_count": 87,
   "id": "f985c8f7-148a-4131-abe2-0ac14d675226",
   "metadata": {},
   "outputs": [
    {
     "data": {
      "text/plain": [
       "<AxesSubplot:xlabel='year', ylabel='value'>"
      ]
     },
     "execution_count": 87,
     "metadata": {},
     "output_type": "execute_result"
    },
    {
     "data": {
      "image/png": "[encoded data removed]",
      "text/plain": [
       "<Figure size 936x432 with 1 Axes>"
      ]
     },
     "metadata": {},
     "output_type": "display_data"
    }
   ],
   "source": [
    "progress_over_year(\"Italy\")"
   ]
  },
  {
   "cell_type": "code",
   "execution_count": 88,
   "id": "f61395df-c3b9-4910-b69c-08b294e7f88f",
   "metadata": {},
   "outputs": [
    {
     "data": {
      "text/plain": [
       "<AxesSubplot:xlabel='year', ylabel='value'>"
      ]
     },
     "execution_count": 88,
     "metadata": {},
     "output_type": "execute_result"
    },
    {
     "data": {
      "image/png": "[encoded data removed]",
      "text/plain": [
       "<Figure size 936x432 with 1 Axes>"
      ]
     },
     "metadata": {},
     "output_type": "display_data"
    }
   ],
   "source": [
    "progress_over_year(\"China\")"
   ]
  },
  {
   "cell_type": "markdown",
   "id": "e5903bee-799b-4bd0-9ebc-40ebcdc6f465",
   "metadata": {},
   "source": []
  }
 ],
 "metadata": {
  "kernelspec": {
   "display_name": "Python 3 (ipykernel)",
   "language": "python",
   "name": "python3"
  },
  "language_info": {
   "codemirror_mode": {
    "name": "ipython",
    "version": 3
   },
   "file_extension": ".py",
   "mimetype": "text/x-python",
   "name": "python",
   "nbconvert_exporter": "python",
   "pygments_lexer": "ipython3",
   "version": "3.9.6"
  }
 },
 "nbformat": 4,
 "nbformat_minor": 5
}
