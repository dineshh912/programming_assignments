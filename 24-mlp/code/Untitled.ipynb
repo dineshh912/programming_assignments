{
 "cells": [
  {
   "cell_type": "code",
   "execution_count": 37,
   "id": "39f45afc-25c9-481f-8290-5bacc155633f",
   "metadata": {},
   "outputs": [],
   "source": [
    "import numpy as np\n",
    "import math\n",
    "from sklearn import datasets"
   ]
  },
  {
   "cell_type": "code",
   "execution_count": 38,
   "id": "51169482-dc4c-4673-af3b-13f83aea644e",
   "metadata": {},
   "outputs": [],
   "source": [
    "class Softmax():\n",
    "    def __call__(self, x):\n",
    "        e_x = np.exp(x - np.max(x, axis=-1, keepdims=True))\n",
    "        return e_x / np.sum(e_x, axis=-1, keepdims=True)\n",
    "\n",
    "    def gradient(self, x):\n",
    "        p = self.__call__(x)\n",
    "        return p * (1 - p)\n",
    "\n",
    "class TanH():\n",
    "    def __call__(self, x):\n",
    "        return 2 / (1 + np.exp(-2*x)) - 1\n",
    "\n",
    "    def gradient(self, x):\n",
    "        return 1 - np.power(self.__call__(x), 2)"
   ]
  },
  {
   "cell_type": "code",
   "execution_count": 17,
   "id": "858ed0cd-c158-40ef-be2c-b4d08e074ffc",
   "metadata": {},
   "outputs": [],
   "source": [
    "def train_test_split(X, y, test_size=0.5, shuffle=True, seed=None):\n",
    "    \"\"\" Split the data into train and test sets \"\"\"\n",
    "    if shuffle:\n",
    "        X, y = shuffle_data(X, y, seed)\n",
    "    # Split the training data from test data in the ratio specified in\n",
    "    # test_size\n",
    "    split_i = len(y) - int(len(y) // (1 / test_size))\n",
    "    X_train, X_test = X[:split_i], X[split_i:]\n",
    "    y_train, y_test = y[:split_i], y[split_i:]\n",
    "\n",
    "    return X_train, X_test, y_train, y_test"
   ]
  },
  {
   "cell_type": "code",
   "execution_count": 18,
   "id": "592c7202-74f0-49a6-9f88-7d454d1d279c",
   "metadata": {},
   "outputs": [],
   "source": [
    "def to_categorical(x, n_col=None):\n",
    "    \"\"\" One-hot encoding of nominal values \"\"\"\n",
    "    if not n_col:\n",
    "        n_col = np.amax(x) + 1\n",
    "    one_hot = np.zeros((x.shape[0], n_col))\n",
    "    one_hot[np.arange(x.shape[0]), x] = 1\n",
    "    return one_hot"
   ]
  },
  {
   "cell_type": "code",
   "execution_count": 19,
   "id": "1d9a3606-f66a-4805-98de-153767bf662e",
   "metadata": {},
   "outputs": [],
   "source": [
    "def normalize(X, axis=-1, order=2):\n",
    "    \"\"\" Normalize the dataset X \"\"\"\n",
    "    l2 = np.atleast_1d(np.linalg.norm(X, order, axis))\n",
    "    l2[l2 == 0] = 1\n",
    "    return X / np.expand_dims(l2, axis)"
   ]
  },
  {
   "cell_type": "code",
   "execution_count": 20,
   "id": "0ef815e2-db5e-49ec-9edd-1f877150b1c3",
   "metadata": {},
   "outputs": [],
   "source": [
    "def accuracy_score(y_true, y_pred):\n",
    "    \"\"\" Compare y_true to y_pred and return the accuracy \"\"\"\n",
    "    accuracy = np.sum(y_true == y_pred, axis=0) / len(y_true)\n",
    "    return accuracy"
   ]
  },
  {
   "cell_type": "code",
   "execution_count": 26,
   "id": "37c9e768-b6f9-4074-b027-f4a557419b27",
   "metadata": {},
   "outputs": [],
   "source": [
    "def shuffle_data(X, y, seed=None):\n",
    "    \"\"\" Random shuffle of the samples in X and y \"\"\"\n",
    "    if seed:\n",
    "        np.random.seed(seed)\n",
    "    idx = np.arange(X.shape[0])\n",
    "    np.random.shuffle(idx)\n",
    "    return X[idx], y[idx]"
   ]
  },
  {
   "cell_type": "code",
   "execution_count": 71,
   "id": "97bcbef2-3daa-4e6d-a0ba-d6cae57d2409",
   "metadata": {},
   "outputs": [],
   "source": [
    "class CrossEntropy():\n",
    "    def __init__(self): pass\n",
    "\n",
    "    def loss(self, y, p):\n",
    "        # Avoid division by zero\n",
    "        p = np.clip(p, 1e-15, 1 - 1e-15)\n",
    "        return - y * np.log(p) - (1 - y) * np.log(1 - p)\n",
    "\n",
    "    def acc(self, y, p):\n",
    "        return accuracy_score(np.argmax(y, axis=1), np.argmax(p, axis=1))\n",
    "\n",
    "    def gradient(self, y, p):\n",
    "        # Avoid division by zero\n",
    "        p = np.clip(p, 1e-15, 1 - 1e-15)\n",
    "        return - (y / p) + (1 - y) / (1 - p)"
   ]
  },
  {
   "cell_type": "code",
   "execution_count": 35,
   "id": "86524d56-23f8-4bc3-9c79-c5bd4f2502e1",
   "metadata": {},
   "outputs": [],
   "source": [
    "class MLP():\n",
    "    def __init__(self, n_hidden, n_iterations=3000, learning_rate=0.01):\n",
    "        self.n_hidden = n_hidden\n",
    "        self.n_iterations = n_iterations\n",
    "        self.learning_rate = learning_rate\n",
    "        self.hidden_activation = TanH()\n",
    "        self.output_activation = Softmax()\n",
    "        self.loss = CrossEntropy()\n",
    "\n",
    "    def _initialize_weights(self, X, y):\n",
    "        n_samples, n_features = X.shape\n",
    "        _, n_outputs = y.shape\n",
    "        # Hidden layer\n",
    "        limit   = 1 / math.sqrt(n_features)\n",
    "        self.W  = np.random.uniform(-limit, limit, (n_features, self.n_hidden))\n",
    "        self.w0 = np.zeros((1, self.n_hidden))\n",
    "        # Output layer\n",
    "        limit   = 1 / math.sqrt(self.n_hidden)\n",
    "        self.V  = np.random.uniform(-limit, limit, (self.n_hidden, n_outputs))\n",
    "        self.v0 = np.zeros((1, n_outputs))\n",
    "\n",
    "    def fit(self, X, y):\n",
    "\n",
    "        self._initialize_weights(X, y)\n",
    "\n",
    "        for i in range(self.n_iterations):\n",
    "\n",
    "            # ..............\n",
    "            #  Forward Pass\n",
    "            # ..............\n",
    "\n",
    "            # HIDDEN LAYER\n",
    "            hidden_input = X.dot(self.W) + self.w0\n",
    "            hidden_output = self.hidden_activation(hidden_input)\n",
    "            # OUTPUT LAYER\n",
    "            output_layer_input = hidden_output.dot(self.V) + self.v0\n",
    "            y_pred = self.output_activation(output_layer_input)\n",
    "\n",
    "            # ...............\n",
    "            #  Backward Pass\n",
    "            # ...............\n",
    "\n",
    "            # OUTPUT LAYER\n",
    "            # Grad. w.r.t input of output layer\n",
    "            grad_wrt_out_l_input = self.loss.gradient(y, y_pred) * self.output_activation.gradient(output_layer_input)\n",
    "            grad_v = hidden_output.T.dot(grad_wrt_out_l_input)\n",
    "            grad_v0 = np.sum(grad_wrt_out_l_input, axis=0, keepdims=True)\n",
    "            # HIDDEN LAYER\n",
    "            # Grad. w.r.t input of hidden layer\n",
    "            grad_wrt_hidden_l_input = grad_wrt_out_l_input.dot(self.V.T) * self.hidden_activation.gradient(hidden_input)\n",
    "            grad_w = X.T.dot(grad_wrt_hidden_l_input)\n",
    "            grad_w0 = np.sum(grad_wrt_hidden_l_input, axis=0, keepdims=True)\n",
    "\n",
    "            # Update weights (by gradient descent)\n",
    "            # Move against the gradient to minimize loss\n",
    "            self.V  -= self.learning_rate * grad_v\n",
    "            self.v0 -= self.learning_rate * grad_v0\n",
    "            self.W  -= self.learning_rate * grad_w\n",
    "            self.w0 -= self.learning_rate * grad_w0\n",
    "\n",
    "    # Use the trained model to predict labels of X\n",
    "    def predict(self, X):\n",
    "        # Forward pass:\n",
    "        hidden_input = X.dot(self.W) + self.w0\n",
    "        hidden_output = self.hidden_activation(hidden_input)\n",
    "        output_layer_input = hidden_output.dot(self.V) + self.v0\n",
    "        y_pred = self.output_activation(output_layer_input)\n",
    "        return y_pred\n",
    "    "
   ]
  },
  {
   "cell_type": "code",
   "execution_count": 44,
   "id": "8929d64f-8dd5-4a25-90ed-faa51fec595b",
   "metadata": {},
   "outputs": [],
   "source": [
    "train_data = np.genfromtxt(\"optdigits_train.txt\",delimiter=\",\")\n",
    "train_x = train_data[:,:-1]\n",
    "train_y = train_data[:,-1].astype('int')\n",
    "\n",
    "# test data\n",
    "test_data = np.genfromtxt(\"optdigits_test.txt\",delimiter=\",\")\n",
    "test_x = test_data[:,:-1]\n",
    "test_y = test_data[:,-1].astype('int')"
   ]
  },
  {
   "cell_type": "code",
   "execution_count": 46,
   "id": "c1e5296c-b41a-47b6-a551-94b861e24d33",
   "metadata": {},
   "outputs": [],
   "source": [
    "train_x = normalize(train_x)"
   ]
  },
  {
   "cell_type": "code",
   "execution_count": 48,
   "id": "89ed7b83-e6fa-45a7-a1f8-cf112b63bd7c",
   "metadata": {},
   "outputs": [],
   "source": [
    "test_x = normalize(test_x)"
   ]
  },
  {
   "cell_type": "code",
   "execution_count": 45,
   "id": "98f9aa6d-299c-426e-95ed-579278d107f2",
   "metadata": {},
   "outputs": [],
   "source": [
    "train_y = to_categorical(train_y)"
   ]
  },
  {
   "cell_type": "code",
   "execution_count": 39,
   "id": "6de3bff7-b19e-4de8-b79a-a5c6bd744669",
   "metadata": {},
   "outputs": [],
   "source": [
    "data = datasets.load_digits()\n",
    "X = normalize(data.data)\n",
    "y = data.target\n",
    "\n",
    "# Convert the nominal y values to binary\n",
    "y = to_categorical(y)\n",
    "\n",
    "X_train, X_test, y_train, y_test = train_test_split(X, y, test_size=0.4, seed=1)"
   ]
  },
  {
   "cell_type": "code",
   "execution_count": 49,
   "id": "ee6640a8-d524-4dce-9fea-8fa60c4a2822",
   "metadata": {},
   "outputs": [],
   "source": [
    " # MLP\n",
    "clf = MLP(n_hidden=16,\n",
    "        n_iterations=1000,\n",
    "        learning_rate=0.01)"
   ]
  },
  {
   "cell_type": "code",
   "execution_count": 51,
   "id": "4660f81a-66d0-4c44-9af9-1e059769ca94",
   "metadata": {},
   "outputs": [],
   "source": [
    "test_y = to_categorical(test_y)"
   ]
  },
  {
   "cell_type": "code",
   "execution_count": 52,
   "id": "14b05290-e647-4c1d-95ec-b5f4e29696b1",
   "metadata": {},
   "outputs": [
    {
     "name": "stdout",
     "output_type": "stream",
     "text": [
      "Accuracy: 0.0\n"
     ]
    },
    {
     "name": "stderr",
     "output_type": "stream",
     "text": [
      "C:\\Users\\DINESH~1.AVM\\AppData\\Local\\Temp/ipykernel_13132/2012757759.py:3: DeprecationWarning: elementwise comparison failed; this will raise an error in the future.\n",
      "  accuracy = np.sum(y_true == y_pred, axis=0) / len(y_true)\n"
     ]
    }
   ],
   "source": [
    "clf.fit(train_x, train_y)\n",
    "y_pred = np.argmax(clf.predict(test_x), axis=1)\n",
    "y_test = np.argmax(test_y, axis=1)\n",
    "accuracy = accuracy_score(test_y, y_pred)\n",
    "print (\"Accuracy:\", accuracy)"
   ]
  },
  {
   "cell_type": "code",
   "execution_count": null,
   "id": "39ed1abc-ed65-4930-bf4e-2b7fc5b4d7a5",
   "metadata": {},
   "outputs": [],
   "source": []
  },
  {
   "cell_type": "code",
   "execution_count": null,
   "id": "c74363f6-dacd-4152-b397-d04579677d9d",
   "metadata": {},
   "outputs": [],
   "source": []
  },
  {
   "cell_type": "code",
   "execution_count": 72,
   "id": "149c35d4-8ceb-441d-ad6f-b9b3a286522d",
   "metadata": {},
   "outputs": [],
   "source": [
    "import numpy as np\n",
    "\n",
    "def process_data(data,mean=None,std=None):\n",
    "    # normalize the data to have zero mean and unit variance (add 1e-15 to std to avoid numerical issue)\n",
    "    if mean is not None:\n",
    "        # directly use the mean and std precomputed from the training data\n",
    "        data = (data - mean) / (std + 1e-15)\n",
    "        return data\n",
    "    else:\n",
    "        # compute the mean and std based on the training data\n",
    "        mean, std = np.mean(data, axis=0), np.std(data, axis=0) # placeholder\n",
    "        data = (data - mean) / (std + 1e-15)\n",
    "        return data, mean, std\n",
    "\n",
    "def process_label(label):\n",
    "    # convert the labels into one-hot vector for training\n",
    "    one_hot = np.zeros([len(label),10])\n",
    "\n",
    "    for i in range(len(label)):\n",
    "        one_hot[i][label[i]] = 1\n",
    "\n",
    "    return one_hot\n",
    "\n",
    "def tanh(x):\n",
    "    # implement the hyperbolic tangent activation function for hidden layer\n",
    "    # You may receive some warning messages from Numpy. No worries, they should not affect your final results\n",
    "    ''' f(x) = (e^x - e^-x) / (e^x + e^-x); derivative of tanh: f'(x) = (1-g(x^2)'''\n",
    "    # (np.exp(x) - np.exp(-x))/(np.exp(x) + np.exp(-x))\n",
    "    # 1 - tanh(x) * tanh(x) ; 1- np.power(tanh(x), 2)\n",
    "    f_x = 2 / (1 + np.exp(-2*x)) - 1\n",
    "    return f_x\n",
    "\n",
    "def dtanh(x):\n",
    "    return 1- np.power(tanh(x), 2)\n",
    "\n",
    "\n",
    "def softmax(x):\n",
    "    # implement the softmax activation function for output layer\n",
    "    f_x = np.exp(x)/np.sum(np.exp(x)) \n",
    "    return f_x\n",
    "\n",
    "class CrossEntropy():\n",
    "    def __init__(self): pass\n",
    "\n",
    "    def loss(self, y, p):\n",
    "        # Avoiding divison by zero\n",
    "        p = np.clip(p, 1e-15, 1 - 1e-15)\n",
    "        return - y * np.log(p) - (1 - y) * np.log(1 - p)\n",
    "    \n",
    "    def gradient(self, y, p):\n",
    "        # Avoid division by zero\n",
    "        p = np.clip(p, 1e-15, 1 - 1e-15)\n",
    "        return - (y / p) + (1 - y) / (1 - p)\n",
    "\n",
    "\n",
    "class MLP:\n",
    "    def __init__(self,num_hid):\n",
    "        # initialize the weights\n",
    "        self.weight_1 = np.random.random([64,num_hid])\n",
    "        self.bias_1 = np.random.random([1,num_hid])\n",
    "        self.weight_2 = np.random.random([num_hid,10])\n",
    "        self.bias_2 = np.random.random([1,10])\n",
    "        self.hum_hid = num_hid\n",
    "        self.loss = CrossEntropy()\n",
    "\n",
    "\n",
    "    def fit(self,train_x, train_y, valid_x, valid_y):\n",
    "        # learning rate\n",
    "        lr = 5e-3\n",
    "        # counter for recording the number of epochs without improvement\n",
    "        count = 0\n",
    "        best_valid_acc = 0\n",
    "\n",
    "        \"\"\"\n",
    "        Stop the training if there is no improvment over the best validation accuracy for more than 50 iterations\n",
    "        \"\"\"\n",
    "        while count<=50:\n",
    "            # training with all samples (full-batch gradient descents)\n",
    "            # implement the forward pass (from inputs to predictions)\n",
    "            # hidden Layer\n",
    "            hidden_input = train_x.dot(self.weight_1) + self.bias_1\n",
    "            hidden_ouput = tanh(hidden_input)\n",
    "            # Output layer\n",
    "            output_layer_input = hidden_ouput.dot(self.weight_2) + self.bias_2\n",
    "            y_pred = softmax(output_layer_input)\n",
    "\n",
    "            # implement the backward pass (backpropagation)\n",
    "            # compute the gradients w.r.t. different parameters\n",
    "            grad_wrt_out_1_input = self.loss.gradient(train_y, y_pred) * softmax(output_layer_input)\n",
    "            grad_v = hidden_input.T.dot(grad_wrt_out_1_input)\n",
    "            grad_v0 = np.sum(grad_wrt_out_1_input, axis=0, keepdims=True)\n",
    "            \n",
    "            grad_wrt_hidden_1_input = grad_wrt_out_1_input.dot(self.weight_2.T)* dtanh(hidden_input)\n",
    "            grad_w = train_x.T.dot(grad_wrt_hidden_1_input)\n",
    "            grad_w0 = np.sum(grad_wrt_hidden_1_input, axis=0, keepdims=True)\n",
    "\n",
    "            #update the parameters based on sum of gradients for all training samples\n",
    "            self.weight_1 -= lr * grad_v\n",
    "            self.bias_1 -= lr * grad_v0\n",
    "            self.weight_2 -= lr * grad_w\n",
    "            self.bias_2 -= lr * grad_w0\n",
    "        '''\n",
    "            # evaluate on validation data\n",
    "            predictions = self.predict(valid_x)\n",
    "            valid_acc = np.count_nonzero(predictions.reshape(-1)==valid_y.reshape(-1))/len(valid_x)\n",
    "\n",
    "            # compare the current validation accuracy with the best one\n",
    "            if valid_acc>best_valid_acc:\n",
    "                best_valid_acc = valid_acc\n",
    "                count = 0\n",
    "            else:\n",
    "                count += 1\n",
    "        '''\n",
    "\n",
    "    def predict(self,x):\n",
    "        # generate the predicted probability of different classes\n",
    "        hidden_input = x.dot(self.weight_2) + self.bias_1\n",
    "        hideen_output = tanh(hidden_input)\n",
    "        output_layer_input = hideen_output.dot(self.weight_2) + self.bias_2\n",
    "\n",
    "        y_pred = softmax(output_layer_input)\n",
    "        # convert class probability to predicted labels\n",
    "\n",
    "        # y = np.zeros([len(x),]).astype('int') # placeholder\n",
    "\n",
    "        return y_pred\n",
    "\n",
    "    def get_hidden(self,x):\n",
    "        # extract the intermediate features computed at the hidden layers (after applying activation function)\n",
    "        z = x # placeholder\n",
    "\n",
    "        return z\n",
    "\n",
    "    def params(self):\n",
    "        return self.weight_1, self.bias_1, self.weight_2, self.bias_2\n"
   ]
  },
  {
   "cell_type": "code",
   "execution_count": 61,
   "id": "13126507-12cc-4fd3-ac53-4942bd1f83e0",
   "metadata": {},
   "outputs": [],
   "source": [
    "train_data = np.genfromtxt(\"optdigits_train.txt\",delimiter=\",\")\n",
    "train_x = train_data[:,:-1]\n",
    "train_y = train_data[:,-1].astype('int')\n",
    "\n",
    "test_data = np.genfromtxt(\"optdigits_test.txt\",delimiter=\",\")\n",
    "test_x = test_data[:,:-1]\n",
    "test_y = test_data[:,-1].astype('int')\n",
    "\n",
    "valid_data = np.genfromtxt(\"optdigits_valid.txt\",delimiter=\",\")\n",
    "valid_x = valid_data[:,:-1]\n",
    "valid_y = valid_data[:,-1].astype('int')\n"
   ]
  },
  {
   "cell_type": "code",
   "execution_count": 62,
   "id": "cbdabe66-1c1c-44bc-ab0c-434d2f0a2c39",
   "metadata": {},
   "outputs": [],
   "source": [
    "train_x, mean, std = process_data(train_x)"
   ]
  },
  {
   "cell_type": "code",
   "execution_count": 63,
   "id": "0d21c175-532f-47d7-8fd9-e28edb61d99b",
   "metadata": {},
   "outputs": [],
   "source": [
    "test_x = process_data(test_x, mean, std)\n",
    "valid_x = process_data(valid_x, mean, std)"
   ]
  },
  {
   "cell_type": "code",
   "execution_count": 64,
   "id": "f5543c62-9eb6-42f5-9741-cfc59020415b",
   "metadata": {},
   "outputs": [],
   "source": [
    "train_y = process_label(train_y)"
   ]
  },
  {
   "cell_type": "code",
   "execution_count": 65,
   "id": "8ebdd22e-b490-4634-9283-67dcd6cfbef7",
   "metadata": {},
   "outputs": [],
   "source": [
    "clf = MLP(num_hid=4)"
   ]
  },
  {
   "cell_type": "code",
   "execution_count": 73,
   "id": "b4d1d188-2589-40bd-9868-1438ee9cd2be",
   "metadata": {},
   "outputs": [
    {
     "ename": "AttributeError",
     "evalue": "'NoneType' object has no attribute 'gradient'",
     "output_type": "error",
     "traceback": [
      "\u001b[1;31m---------------------------------------------------------------------------\u001b[0m",
      "\u001b[1;31mAttributeError\u001b[0m                            Traceback (most recent call last)",
      "\u001b[1;32mC:\\Users\\DINESH~1.AVM\\AppData\\Local\\Temp/ipykernel_13132/3377944444.py\u001b[0m in \u001b[0;36m<module>\u001b[1;34m\u001b[0m\n\u001b[1;32m----> 1\u001b[1;33m \u001b[0mclf\u001b[0m\u001b[1;33m.\u001b[0m\u001b[0mfit\u001b[0m\u001b[1;33m(\u001b[0m\u001b[0mtrain_x\u001b[0m\u001b[1;33m,\u001b[0m\u001b[0mtrain_y\u001b[0m\u001b[1;33m,\u001b[0m\u001b[0mvalid_x\u001b[0m\u001b[1;33m,\u001b[0m\u001b[0mvalid_y\u001b[0m\u001b[1;33m)\u001b[0m\u001b[1;33m\u001b[0m\u001b[1;33m\u001b[0m\u001b[0m\n\u001b[0m",
      "\u001b[1;32mC:\\Users\\DINESH~1.AVM\\AppData\\Local\\Temp/ipykernel_13132/3302044632.py\u001b[0m in \u001b[0;36mfit\u001b[1;34m(self, train_x, train_y, valid_x, valid_y)\u001b[0m\n\u001b[0;32m     87\u001b[0m             \u001b[1;31m# implement the backward pass (backpropagation)\u001b[0m\u001b[1;33m\u001b[0m\u001b[1;33m\u001b[0m\u001b[1;33m\u001b[0m\u001b[0m\n\u001b[0;32m     88\u001b[0m             \u001b[1;31m# compute the gradients w.r.t. different parameters\u001b[0m\u001b[1;33m\u001b[0m\u001b[1;33m\u001b[0m\u001b[1;33m\u001b[0m\u001b[0m\n\u001b[1;32m---> 89\u001b[1;33m             \u001b[0mgrad_wrt_out_1_input\u001b[0m \u001b[1;33m=\u001b[0m \u001b[0mself\u001b[0m\u001b[1;33m.\u001b[0m\u001b[0mloss\u001b[0m\u001b[1;33m.\u001b[0m\u001b[0mgradient\u001b[0m\u001b[1;33m(\u001b[0m\u001b[0mtrain_y\u001b[0m\u001b[1;33m,\u001b[0m \u001b[0my_pred\u001b[0m\u001b[1;33m)\u001b[0m \u001b[1;33m*\u001b[0m \u001b[0msoftmax\u001b[0m\u001b[1;33m(\u001b[0m\u001b[0moutput_layer_input\u001b[0m\u001b[1;33m)\u001b[0m\u001b[1;33m\u001b[0m\u001b[1;33m\u001b[0m\u001b[0m\n\u001b[0m\u001b[0;32m     90\u001b[0m             \u001b[0mgrad_v\u001b[0m \u001b[1;33m=\u001b[0m \u001b[0mhidden_input\u001b[0m\u001b[1;33m.\u001b[0m\u001b[0mT\u001b[0m\u001b[1;33m.\u001b[0m\u001b[0mdot\u001b[0m\u001b[1;33m(\u001b[0m\u001b[0mgrad_wrt_out_1_input\u001b[0m\u001b[1;33m)\u001b[0m\u001b[1;33m\u001b[0m\u001b[1;33m\u001b[0m\u001b[0m\n\u001b[0;32m     91\u001b[0m             \u001b[0mgrad_v0\u001b[0m \u001b[1;33m=\u001b[0m \u001b[0mnp\u001b[0m\u001b[1;33m.\u001b[0m\u001b[0msum\u001b[0m\u001b[1;33m(\u001b[0m\u001b[0mgrad_wrt_out_1_input\u001b[0m\u001b[1;33m,\u001b[0m \u001b[0maxis\u001b[0m\u001b[1;33m=\u001b[0m\u001b[1;36m0\u001b[0m\u001b[1;33m,\u001b[0m \u001b[0mkeepdims\u001b[0m\u001b[1;33m=\u001b[0m\u001b[1;32mTrue\u001b[0m\u001b[1;33m)\u001b[0m\u001b[1;33m\u001b[0m\u001b[1;33m\u001b[0m\u001b[0m\n",
      "\u001b[1;31mAttributeError\u001b[0m: 'NoneType' object has no attribute 'gradient'"
     ]
    }
   ],
   "source": [
    "clf.fit(train_x,train_y,valid_x,valid_y)"
   ]
  },
  {
   "cell_type": "code",
   "execution_count": null,
   "id": "3985d697-0fe8-434f-80ec-1f106b18bbe5",
   "metadata": {},
   "outputs": [],
   "source": [
    "clf.fit(train_x, train_y)\n",
    "y_pred = np.argmax(clf.predict(test_x), axis=1)\n",
    "y_test = np.argmax(test_y, axis=1)\n",
    "accuracy = accuracy_score(test_y, y_pred)\n",
    "print (\"Accuracy:\", accuracy)"
   ]
  },
  {
   "cell_type": "code",
   "execution_count": null,
   "id": "c73be5fb-f2c1-4a3d-9c67-66b0c7a2e610",
   "metadata": {},
   "outputs": [],
   "source": []
  },
  {
   "cell_type": "code",
   "execution_count": 78,
   "id": "c50e0bd2-174f-4699-b3ec-255b7396bfff",
   "metadata": {},
   "outputs": [],
   "source": [
    "weight_1 = np.random.random([64,4])\n",
    "bias_1 = np.random.random([1,4])"
   ]
  },
  {
   "cell_type": "code",
   "execution_count": 79,
   "id": "e0848c38-319e-4fc7-9eb9-b446b6fb34c4",
   "metadata": {},
   "outputs": [],
   "source": [
    "t = train_x.dot(weight_1) + bias_1"
   ]
  },
  {
   "cell_type": "code",
   "execution_count": 80,
   "id": "3a29fba8-5936-44cf-90e1-0602548056ed",
   "metadata": {},
   "outputs": [],
   "source": [
    "t2 = np.dot(train_x, weight_1) + bias_1"
   ]
  },
  {
   "cell_type": "code",
   "execution_count": 81,
   "id": "62901e35-b78c-442e-90f1-0e45162c651e",
   "metadata": {},
   "outputs": [
    {
     "data": {
      "text/plain": [
       "array([[ True,  True,  True,  True],\n",
       "       [ True,  True,  True,  True],\n",
       "       [ True,  True,  True,  True],\n",
       "       ...,\n",
       "       [ True,  True,  True,  True],\n",
       "       [ True,  True,  True,  True],\n",
       "       [ True,  True,  True,  True]])"
      ]
     },
     "execution_count": 81,
     "metadata": {},
     "output_type": "execute_result"
    }
   ],
   "source": [
    "t == t2"
   ]
  },
  {
   "cell_type": "code",
   "execution_count": 82,
   "id": "3c9b4900-4076-4796-9bd9-09f348300b13",
   "metadata": {},
   "outputs": [
    {
     "data": {
      "text/plain": [
       "array([[ 4.57714071,  1.85671739,  6.48423009,  0.9145729 ],\n",
       "       [ 5.10921049,  3.07194676,  7.44671229,  3.95453715],\n",
       "       [ 2.69568816,  1.55653054,  4.0450871 ,  3.77621473],\n",
       "       ...,\n",
       "       [-0.58281044, -0.33740145,  4.09014969, -0.95568017],\n",
       "       [-4.19672313, -6.32370116, -3.3862002 , -6.54878695],\n",
       "       [ 1.084485  ,  3.06805542,  0.37764725,  1.46038028]])"
      ]
     },
     "execution_count": 82,
     "metadata": {},
     "output_type": "execute_result"
    }
   ],
   "source": [
    "t2"
   ]
  },
  {
   "cell_type": "code",
   "execution_count": 84,
   "id": "018c64b5-cf0e-4836-855d-d62d65456c20",
   "metadata": {},
   "outputs": [
    {
     "data": {
      "text/plain": [
       "array([[ 4.57714071,  1.85671739,  6.48423009,  0.9145729 ],\n",
       "       [ 5.10921049,  3.07194676,  7.44671229,  3.95453715],\n",
       "       [ 2.69568816,  1.55653054,  4.0450871 ,  3.77621473],\n",
       "       ...,\n",
       "       [-0.58281044, -0.33740145,  4.09014969, -0.95568017],\n",
       "       [-4.19672313, -6.32370116, -3.3862002 , -6.54878695],\n",
       "       [ 1.084485  ,  3.06805542,  0.37764725,  1.46038028]])"
      ]
     },
     "execution_count": 84,
     "metadata": {},
     "output_type": "execute_result"
    }
   ],
   "source": [
    "t"
   ]
  },
  {
   "cell_type": "code",
   "execution_count": null,
   "id": "00ea848f-5e54-48ca-ba42-33f5abe78ad9",
   "metadata": {},
   "outputs": [],
   "source": []
  }
 ],
 "metadata": {
  "kernelspec": {
   "display_name": "Python 3 (ipykernel)",
   "language": "python",
   "name": "python3"
  },
  "language_info": {
   "codemirror_mode": {
    "name": "ipython",
    "version": 3
   },
   "file_extension": ".py",
   "mimetype": "text/x-python",
   "name": "python",
   "nbconvert_exporter": "python",
   "pygments_lexer": "ipython3",
   "version": "3.9.6"
  }
 },
 "nbformat": 4,
 "nbformat_minor": 5
}
