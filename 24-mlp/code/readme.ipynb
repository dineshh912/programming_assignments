{
 "cells": [
  {
   "cell_type": "code",
   "execution_count": 1,
   "id": "39f45afc-25c9-481f-8290-5bacc155633f",
   "metadata": {},
   "outputs": [],
   "source": [
    "import numpy as np"
   ]
  },
  {
   "cell_type": "code",
   "execution_count": 2,
   "id": "51169482-dc4c-4673-af3b-13f83aea644e",
   "metadata": {},
   "outputs": [],
   "source": [
    "def process_data(data,mean=None,std=None):\n",
    "    # normalize the data to have zero mean and unit variance (add 1e-15 to std to avoid numerical issue)\n",
    "    if mean is not None:\n",
    "        # directly use the mean and std precomputed from the training data\n",
    "        data = (data - mean) / (std + 1e-15)\n",
    "        return data\n",
    "    else:\n",
    "        # compute the mean and std based on the training data\n",
    "        mean, std = np.mean(data, axis=0), np.std(data, axis=0) # placeholder\n",
    "        data = (data - mean) / (std + 1e-15)\n",
    "        return data, mean, std"
   ]
  },
  {
   "cell_type": "code",
   "execution_count": 3,
   "id": "858ed0cd-c158-40ef-be2c-b4d08e074ffc",
   "metadata": {},
   "outputs": [],
   "source": [
    "def process_label(label):\n",
    "    # convert the labels into one-hot vector for training\n",
    "    one_hot = np.zeros([len(label),10])\n",
    "\n",
    "    for i in range(len(label)):\n",
    "        one_hot[i][label[i]] = 1\n",
    "\n",
    "    return one_hot"
   ]
  },
  {
   "cell_type": "code",
   "execution_count": 4,
   "id": "592c7202-74f0-49a6-9f88-7d454d1d279c",
   "metadata": {},
   "outputs": [],
   "source": [
    "def tanh(x):\n",
    "    # implement the hyperbolic tangent activation function for hidden layer\n",
    "    # You may receive some warning messages from Numpy. No worries, they should not affect your final results\n",
    "    ''' f(x) = (e^x - e^-x) / (e^x + e^-x); derivative of tanh: f'(x) = (1-g(x^2)'''\n",
    "    # (np.exp(x) - np.exp(-x))/(np.exp(x) + np.exp(-x))\n",
    "    # 1 - tanh(x) * tanh(x) ; 1- np.power(tanh(x), 2)\n",
    "    f_x = 2 / (1 + np.exp(-2 * x)) - 1\n",
    "    return f_x"
   ]
  },
  {
   "cell_type": "code",
   "execution_count": 5,
   "id": "1d9a3606-f66a-4805-98de-153767bf662e",
   "metadata": {},
   "outputs": [],
   "source": [
    "def softmax(x):\n",
    "    # implement the softmax activation function for output layer\n",
    "    f_x = np.exp(x) / np.sum(np.exp(x)) \n",
    "    return f_x"
   ]
  },
  {
   "cell_type": "code",
   "execution_count": 6,
   "id": "0ef815e2-db5e-49ec-9edd-1f877150b1c3",
   "metadata": {},
   "outputs": [],
   "source": [
    "def cross_entropy_loss(y, yhat):\n",
    "    '''\n",
    "        yHat  = predicted value\n",
    "        y =  actual label\n",
    "    '''\n",
    "    if y == 1:\n",
    "        return -np.log(yhat)\n",
    "    else:\n",
    "        return -np.log(1 - yhat)"
   ]
  },
  {
   "cell_type": "markdown",
   "id": "e12a9881-8e8b-4562-8cfa-a9d17afa00b3",
   "metadata": {},
   "source": [
    "# Tanh Activation Function"
   ]
  },
  {
   "cell_type": "code",
   "execution_count": 7,
   "id": "37c9e768-b6f9-4074-b027-f4a557419b27",
   "metadata": {},
   "outputs": [],
   "source": [
    "class MLP:\n",
    "    def __init__(self,num_hid):\n",
    "        # initialize the weights\n",
    "        self.weight_1 = np.random.random([64,num_hid])\n",
    "        self.bias_1 = np.random.random([1,num_hid])\n",
    "        self.weight_2 = np.random.random([num_hid,10])\n",
    "        self.bias_2 = np.random.random([1,10])\n",
    "\n",
    "    def fit(self,train_x, train_y, valid_x, valid_y):\n",
    "        # learning rate\n",
    "        lr = 5e-3\n",
    "        # counter for recording the number of epochs without improvement\n",
    "        count = 0\n",
    "        best_valid_acc = 0\n",
    "\n",
    "        \"\"\"\n",
    "        Stop the training if there is no improvment over the best validation accuracy for more than 50 iterations\n",
    "        \"\"\"\n",
    "        while count<=50:\n",
    "            # training with all samples (full-batch gradient descents)\n",
    "            # implement the forward pass (from inputs to predictions)\n",
    "            # hidden Layer\n",
    "            hidden_output = self.get_hidden(train_x)\n",
    "            y_pred = self.predict(train_x)\n",
    "            y_label = process_label(y_pred)\n",
    "\n",
    "            # implement the backward pass (backpropagation)\n",
    "            # compute the gradients w.r.t. different parameters\n",
    "            label_diff = train_y - y_label\n",
    "\n",
    "            update_weight_2 = lr * np.dot(hidden_output.T, label_diff)\n",
    "            update_bias_2 = lr * np.sum(label_diff, axis=0)\n",
    "\n",
    "            inner = (np.dot(label_diff, self.weight_2.T))\n",
    "            dz = (hidden_output * (1 - hidden_output)) \n",
    "            coeffs = (inner * dz)\n",
    "\n",
    "            update_weight_1 = lr * np.dot(train_x.T, coeffs)\n",
    "            update_bias_1 = lr * np.sum(coeffs, axis=0)\n",
    "\n",
    "            #update the parameters based on sum of gradients for all training samples\n",
    "            self.weight_1 += update_weight_1\n",
    "            self.bias_1 += update_bias_1\n",
    "            self.weight_2 += update_weight_2\n",
    "            self.bias_2 += update_bias_2\n",
    "\n",
    "            # evaluate on validation data\n",
    "            predictions = self.predict(valid_x)\n",
    "            valid_acc = np.count_nonzero(predictions.reshape(-1)==valid_y.reshape(-1))/len(valid_x)\n",
    "\n",
    "            # compare the current validation accuracy with the best one\n",
    "            if valid_acc>best_valid_acc:\n",
    "                best_valid_acc = valid_acc\n",
    "                count = 0\n",
    "            else:\n",
    "                count += 1\n",
    "\n",
    "        return best_valid_acc\n",
    "\n",
    "    def predict(self,x):\n",
    "        # generate the predicted probability of different classes\n",
    "        hidden_op = self.get_hidden(x)\n",
    "\n",
    "        # convert class probability to predicted labels\n",
    "        y = softmax(np.dot(hidden_op, self.weight_2) + self.bias_2)\n",
    "        y_max = np.argmax(y, axis=1)\n",
    "        # y = np.zeros([len(x),]).astype('int') # placeholder\n",
    "\n",
    "        return y_max\n",
    "\n",
    "    def get_hidden(self,x):\n",
    "        # extract the intermediate features computed at the hidden layers (after applying activation function)\n",
    "        '''\n",
    "            hidden_input = x.dot(self.weight_1) + self.bias_1\n",
    "            hidden_ouput = tanh(hidden_input)\n",
    "        '''\n",
    "        z = tanh(np.dot(x, self.weight_1) + self.bias_1)\n",
    "        return z\n",
    "\n",
    "    def params(self):\n",
    "        return self.weight_1, self.bias_1, self.weight_2, self.bias_2"
   ]
  },
  {
   "cell_type": "code",
   "execution_count": 8,
   "id": "8929d64f-8dd5-4a25-90ed-faa51fec595b",
   "metadata": {},
   "outputs": [],
   "source": [
    "# read in data.\n",
    "# training data\n",
    "train_data = np.genfromtxt(\"optdigits_train.txt\",delimiter=\",\")\n",
    "train_x = train_data[:,:-1]\n",
    "train_y = train_data[:,-1].astype('int')\n",
    "\n",
    "# validation data\n",
    "valid_data = np.genfromtxt(\"optdigits_valid.txt\",delimiter=\",\")\n",
    "valid_x = valid_data[:,:-1]\n",
    "valid_y = valid_data[:,-1].astype('int')\n",
    "\n",
    "# test data\n",
    "test_data = np.genfromtxt(\"optdigits_test.txt\",delimiter=\",\")\n",
    "test_x = test_data[:,:-1]\n",
    "test_y = test_data[:,-1].astype('int')"
   ]
  },
  {
   "cell_type": "code",
   "execution_count": 9,
   "id": "c1e5296c-b41a-47b6-a551-94b861e24d33",
   "metadata": {},
   "outputs": [],
   "source": [
    "# normalize the data\n",
    "train_x, mean, std = process_data(train_x)\n",
    "valid_x = process_data(valid_x, mean, std)\n",
    "test_x = process_data(test_x, mean, std)"
   ]
  },
  {
   "cell_type": "code",
   "execution_count": 10,
   "id": "89ed7b83-e6fa-45a7-a1f8-cf112b63bd7c",
   "metadata": {},
   "outputs": [],
   "source": [
    "# process training labels into one-hot vectors\n",
    "train_y = process_label(train_y)"
   ]
  },
  {
   "cell_type": "code",
   "execution_count": 11,
   "id": "98f9aa6d-299c-426e-95ed-579278d107f2",
   "metadata": {},
   "outputs": [
    {
     "name": "stderr",
     "output_type": "stream",
     "text": [
      "C:\\Users\\dines\\AppData\\Local\\Temp/ipykernel_15348/3633839990.py:7: RuntimeWarning: overflow encountered in exp\n",
      "  f_x = 2 / (1 + np.exp(-2 * x)) - 1\n"
     ]
    },
    {
     "name": "stdout",
     "output_type": "stream",
     "text": [
      "Validation accuracy for 4 hidden units is 0.223\n",
      "Validation accuracy for 8 hidden units is 0.216\n",
      "Validation accuracy for 16 hidden units is 0.227\n",
      "Validation accuracy for 20 hidden units is 0.259\n",
      "Validation accuracy for 24 hidden units is 0.219\n"
     ]
    }
   ],
   "source": [
    "# experiment with different numbers of hidden units\n",
    "candidate_num_hid = [4,8,16,20,24]\n",
    "valid_accuracy = []\n",
    "for i, num_hid in enumerate(candidate_num_hid):\n",
    "    # initialize the model\n",
    "    clf = MLP(num_hid=num_hid)\n",
    "    # update the model based on training data, and record the best validation accuracy\n",
    "    cur_valid_accuracy = clf.fit(train_x,train_y,valid_x,valid_y)\n",
    "    valid_accuracy.append(cur_valid_accuracy)\n",
    "    print('Validation accuracy for %d hidden units is %.3f' %(candidate_num_hid[i],cur_valid_accuracy))\n"
   ]
  },
  {
   "cell_type": "code",
   "execution_count": 12,
   "id": "39ed1abc-ed65-4930-bf4e-2b7fc5b4d7a5",
   "metadata": {},
   "outputs": [
    {
     "name": "stderr",
     "output_type": "stream",
     "text": [
      "C:\\Users\\dines\\AppData\\Local\\Temp/ipykernel_15348/3633839990.py:7: RuntimeWarning: overflow encountered in exp\n",
      "  f_x = 2 / (1 + np.exp(-2 * x)) - 1\n"
     ]
    },
    {
     "name": "stdout",
     "output_type": "stream",
     "text": [
      "Test accuracy with 20 hidden units is 0.184\n"
     ]
    }
   ],
   "source": [
    "# select the best number of hidden unit and use it to train the model\n",
    "best_num_hid = candidate_num_hid[np.argmax(valid_accuracy)]\n",
    "clf = MLP(num_hid=best_num_hid)\n",
    "_ = clf.fit(train_x,train_y,valid_x,valid_y)\n",
    "\n",
    "# evaluate on test data\n",
    "predictions = clf.predict(test_x)\n",
    "accuracy = np.count_nonzero(predictions.reshape(-1)==test_y.reshape(-1))/len(test_x)\n",
    "\n",
    "print('Test accuracy with %d hidden units is %.3f' %(best_num_hid,accuracy))\n"
   ]
  },
  {
   "cell_type": "markdown",
   "id": "76a9996f-d6b3-4d44-9c26-72931ed28902",
   "metadata": {},
   "source": [
    "# USING Sigmoid activation function"
   ]
  },
  {
   "cell_type": "code",
   "execution_count": 13,
   "id": "c62ca707-19c6-4462-a844-503ad120f8a7",
   "metadata": {},
   "outputs": [],
   "source": [
    "def sigmoid(x):\n",
    "    # implement the sigmoid activation function for hidden layer\n",
    "    f_x = 1.0/(1.0 + np.exp(-x)) # placeholder  \n",
    "    return f_x"
   ]
  },
  {
   "cell_type": "code",
   "execution_count": null,
   "id": "01dd6405-8c9a-42df-a331-15a2c3e21f2b",
   "metadata": {},
   "outputs": [],
   "source": [
    "class MLP:\n",
    "    def __init__(self,num_hid):\n",
    "        # initialize the weights\n",
    "        self.weight_1 = np.random.random([64,num_hid])\n",
    "        self.bias_1 = np.random.random([1,num_hid])\n",
    "        self.weight_2 = np.random.random([num_hid,10])\n",
    "        self.bias_2 = np.random.random([1,10])\n",
    "\n",
    "    def fit(self,train_x, train_y, valid_x, valid_y):\n",
    "        # learning rate\n",
    "        lr = 5e-3\n",
    "        # counter for recording the number of epochs without improvement\n",
    "        count = 0\n",
    "        best_valid_acc = 0\n",
    "\n",
    "        \"\"\"\n",
    "        Stop the training if there is no improvment over the best validation accuracy for more than 50 iterations\n",
    "        \"\"\"\n",
    "        while count<=50:\n",
    "            # training with all samples (full-batch gradient descents)\n",
    "            # implement the forward pass (from inputs to predictions)\n",
    "            # hidden Layer\n",
    "            hidden_output = self.get_hidden(train_x)\n",
    "            y_pred = self.predict(train_x)\n",
    "            y_label = process_label(y_pred)\n",
    "\n",
    "            # implement the backward pass (backpropagation)\n",
    "            # compute the gradients w.r.t. different parameters\n",
    "            label_diff = train_y - y_label\n",
    "\n",
    "            update_weight_2 = lr * np.dot(hidden_output.T, label_diff)\n",
    "            update_bias_2 = lr * np.sum(label_diff, axis=0)\n",
    "\n",
    "            inner = (np.dot(label_diff, self.weight_2.T))\n",
    "            dz = (hidden_output * (1 - hidden_output)) \n",
    "            coeffs = (inner * dz)\n",
    "\n",
    "            update_weight_1 = lr * np.dot(train_x.T, coeffs)\n",
    "            update_bias_1 = lr * np.sum(coeffs, axis=0)\n",
    "\n",
    "            #update the parameters based on sum of gradients for all training samples\n",
    "            self.weight_1 += update_weight_1\n",
    "            self.bias_1 += update_bias_1\n",
    "            self.weight_2 += update_weight_2\n",
    "            self.bias_2 += update_bias_2\n",
    "\n",
    "            # evaluate on validation data\n",
    "            predictions = self.predict(valid_x)\n",
    "            valid_acc = np.count_nonzero(predictions.reshape(-1)==valid_y.reshape(-1))/len(valid_x)\n",
    "\n",
    "            # compare the current validation accuracy with the best one\n",
    "            if valid_acc>best_valid_acc:\n",
    "                best_valid_acc = valid_acc\n",
    "                count = 0\n",
    "            else:\n",
    "                count += 1\n",
    "\n",
    "        return best_valid_acc\n",
    "\n",
    "    def predict(self,x):\n",
    "        # generate the predicted probability of different classes\n",
    "        hidden_op = self.get_hidden(x)\n",
    "\n",
    "        # convert class probability to predicted labels\n",
    "        y = softmax(np.dot(hidden_op, self.weight_2) + self.bias_2)\n",
    "        y_max = np.argmax(y, axis=1)\n",
    "        # y = np.zeros([len(x),]).astype('int') # placeholder\n",
    "\n",
    "        return y_max\n",
    "\n",
    "    def get_hidden(self,x):\n",
    "        # extract the intermediate features computed at the hidden layers (after applying activation function)\n",
    "        z = sigmoid(np.dot(x, self.weight_1) + self.bias_1)\n",
    "        return z\n",
    "\n",
    "    def params(self):\n",
    "        return self.weight_1, self.bias_1, self.weight_2, self.bias_2"
   ]
  },
  {
   "cell_type": "code",
   "execution_count": null,
   "id": "102f8e5a-16f8-4111-abfe-f1532f7e9cfb",
   "metadata": {},
   "outputs": [],
   "source": []
  },
  {
   "cell_type": "code",
   "execution_count": null,
   "id": "c74363f6-dacd-4152-b397-d04579677d9d",
   "metadata": {},
   "outputs": [],
   "source": []
  },
  {
   "cell_type": "code",
   "execution_count": 72,
   "id": "149c35d4-8ceb-441d-ad6f-b9b3a286522d",
   "metadata": {},
   "outputs": [],
   "source": [
    "class MLP:\n",
    "    def __init__(self,num_hid):\n",
    "        # initialize the weights\n",
    "        self.weight_1 = np.random.random([64,num_hid])\n",
    "        self.bias_1 = np.random.random([1,num_hid])\n",
    "        self.weight_2 = np.random.random([num_hid,10])\n",
    "        self.bias_2 = np.random.random([1,10])\n",
    "\n",
    "\n",
    "    def fit(self,train_x, train_y, valid_x, valid_y):\n",
    "        # learning rate\n",
    "        lr = 5e-3\n",
    "        # counter for recording the number of epochs without improvement\n",
    "        count = 0\n",
    "        best_valid_acc = 0\n",
    "\n",
    "        \"\"\"\n",
    "        Stop the training if there is no improvment over the best validation accuracy for more than 50 iterations\n",
    "        \"\"\"\n",
    "        while count<=50:\n",
    "            # training with all samples (full-batch gradient descents)\n",
    "            # implement the forward pass (from inputs to predictions)\n",
    "            # hidden Layer\n",
    "            hidden_input = train_x.dot(self.weight_1) + self.bias_1\n",
    "            hidden_ouput = tanh(hidden_input)\n",
    "            # Output layer\n",
    "            output_layer_input = hidden_ouput.dot(self.weight_2) + self.bias_2\n",
    "            y_pred = softmax(output_layer_input)\n",
    "\n",
    "            # implement the backward pass (backpropagation)\n",
    "            # compute the gradients w.r.t. different parameters\n",
    "            grad_wrt_out_1_input = cross_entropy_loss(train_y, y_pred) * softmax(output_layer_input)\n",
    "            grad_v = hidden_input.T.dot(grad_wrt_out_1_input)\n",
    "            grad_v0 = np.sum(grad_wrt_out_1_input, axis=0, keepdims=True)\n",
    "            \n",
    "            grad_wrt_hidden_1_input = grad_wrt_out_1_input.dot(self.weight_2.T)* dtanh(hidden_input)\n",
    "            grad_w = train_x.T.dot(grad_wrt_hidden_1_input)\n",
    "            grad_w0 = np.sum(grad_wrt_hidden_1_input, axis=0, keepdims=True)\n",
    "\n",
    "            #update the parameters based on sum of gradients for all training samples\n",
    "            self.weight_1 -= lr * grad_v\n",
    "            self.bias_1 -= lr * grad_v0\n",
    "            self.weight_2 -= lr * grad_w\n",
    "            self.bias_2 -= lr * grad_w0\n",
    "        '''\n",
    "            # evaluate on validation data\n",
    "            predictions = self.predict(valid_x)\n",
    "            valid_acc = np.count_nonzero(predictions.reshape(-1)==valid_y.reshape(-1))/len(valid_x)\n",
    "\n",
    "            # compare the current validation accuracy with the best one\n",
    "            if valid_acc>best_valid_acc:\n",
    "                best_valid_acc = valid_acc\n",
    "                count = 0\n",
    "            else:\n",
    "                count += 1\n",
    "        '''\n",
    "\n",
    "    def predict(self,x):\n",
    "        # generate the predicted probability of different classes\n",
    "        hidden_input = x.dot(self.weight_2) + self.bias_1\n",
    "        hideen_output = tanh(hidden_input)\n",
    "        output_layer_input = hideen_output.dot(self.weight_2) + self.bias_2\n",
    "\n",
    "        y_pred = softmax(output_layer_input)\n",
    "        # convert class probability to predicted labels\n",
    "\n",
    "        # y = np.zeros([len(x),]).astype('int') # placeholder\n",
    "\n",
    "        return y_pred\n",
    "\n",
    "    def get_hidden(self,x):\n",
    "        # extract the intermediate features computed at the hidden layers (after applying activation function)\n",
    "        z = x # placeholder\n",
    "\n",
    "        return z\n",
    "\n",
    "    def params(self):\n",
    "        return self.weight_1, self.bias_1, self.weight_2, self.bias_2\n"
   ]
  },
  {
   "cell_type": "code",
   "execution_count": 61,
   "id": "13126507-12cc-4fd3-ac53-4942bd1f83e0",
   "metadata": {},
   "outputs": [],
   "source": [
    "train_data = np.genfromtxt(\"optdigits_train.txt\",delimiter=\",\")\n",
    "train_x = train_data[:,:-1]\n",
    "train_y = train_data[:,-1].astype('int')\n",
    "\n",
    "test_data = np.genfromtxt(\"optdigits_test.txt\",delimiter=\",\")\n",
    "test_x = test_data[:,:-1]\n",
    "test_y = test_data[:,-1].astype('int')\n",
    "\n",
    "valid_data = np.genfromtxt(\"optdigits_valid.txt\",delimiter=\",\")\n",
    "valid_x = valid_data[:,:-1]\n",
    "valid_y = valid_data[:,-1].astype('int')\n"
   ]
  },
  {
   "cell_type": "code",
   "execution_count": 62,
   "id": "cbdabe66-1c1c-44bc-ab0c-434d2f0a2c39",
   "metadata": {},
   "outputs": [],
   "source": [
    "train_x, mean, std = process_data(train_x)"
   ]
  },
  {
   "cell_type": "code",
   "execution_count": 63,
   "id": "0d21c175-532f-47d7-8fd9-e28edb61d99b",
   "metadata": {},
   "outputs": [],
   "source": [
    "test_x = process_data(test_x, mean, std)\n",
    "valid_x = process_data(valid_x, mean, std)"
   ]
  },
  {
   "cell_type": "code",
   "execution_count": 64,
   "id": "f5543c62-9eb6-42f5-9741-cfc59020415b",
   "metadata": {},
   "outputs": [],
   "source": [
    "train_y = process_label(train_y)"
   ]
  },
  {
   "cell_type": "code",
   "execution_count": 65,
   "id": "8ebdd22e-b490-4634-9283-67dcd6cfbef7",
   "metadata": {},
   "outputs": [],
   "source": [
    "clf = MLP(num_hid=4)"
   ]
  },
  {
   "cell_type": "code",
   "execution_count": 73,
   "id": "b4d1d188-2589-40bd-9868-1438ee9cd2be",
   "metadata": {},
   "outputs": [
    {
     "ename": "AttributeError",
     "evalue": "'NoneType' object has no attribute 'gradient'",
     "output_type": "error",
     "traceback": [
      "\u001b[1;31m---------------------------------------------------------------------------\u001b[0m",
      "\u001b[1;31mAttributeError\u001b[0m                            Traceback (most recent call last)",
      "\u001b[1;32mC:\\Users\\DINESH~1.AVM\\AppData\\Local\\Temp/ipykernel_13132/3377944444.py\u001b[0m in \u001b[0;36m<module>\u001b[1;34m\u001b[0m\n\u001b[1;32m----> 1\u001b[1;33m \u001b[0mclf\u001b[0m\u001b[1;33m.\u001b[0m\u001b[0mfit\u001b[0m\u001b[1;33m(\u001b[0m\u001b[0mtrain_x\u001b[0m\u001b[1;33m,\u001b[0m\u001b[0mtrain_y\u001b[0m\u001b[1;33m,\u001b[0m\u001b[0mvalid_x\u001b[0m\u001b[1;33m,\u001b[0m\u001b[0mvalid_y\u001b[0m\u001b[1;33m)\u001b[0m\u001b[1;33m\u001b[0m\u001b[1;33m\u001b[0m\u001b[0m\n\u001b[0m",
      "\u001b[1;32mC:\\Users\\DINESH~1.AVM\\AppData\\Local\\Temp/ipykernel_13132/3302044632.py\u001b[0m in \u001b[0;36mfit\u001b[1;34m(self, train_x, train_y, valid_x, valid_y)\u001b[0m\n\u001b[0;32m     87\u001b[0m             \u001b[1;31m# implement the backward pass (backpropagation)\u001b[0m\u001b[1;33m\u001b[0m\u001b[1;33m\u001b[0m\u001b[1;33m\u001b[0m\u001b[0m\n\u001b[0;32m     88\u001b[0m             \u001b[1;31m# compute the gradients w.r.t. different parameters\u001b[0m\u001b[1;33m\u001b[0m\u001b[1;33m\u001b[0m\u001b[1;33m\u001b[0m\u001b[0m\n\u001b[1;32m---> 89\u001b[1;33m             \u001b[0mgrad_wrt_out_1_input\u001b[0m \u001b[1;33m=\u001b[0m \u001b[0mself\u001b[0m\u001b[1;33m.\u001b[0m\u001b[0mloss\u001b[0m\u001b[1;33m.\u001b[0m\u001b[0mgradient\u001b[0m\u001b[1;33m(\u001b[0m\u001b[0mtrain_y\u001b[0m\u001b[1;33m,\u001b[0m \u001b[0my_pred\u001b[0m\u001b[1;33m)\u001b[0m \u001b[1;33m*\u001b[0m \u001b[0msoftmax\u001b[0m\u001b[1;33m(\u001b[0m\u001b[0moutput_layer_input\u001b[0m\u001b[1;33m)\u001b[0m\u001b[1;33m\u001b[0m\u001b[1;33m\u001b[0m\u001b[0m\n\u001b[0m\u001b[0;32m     90\u001b[0m             \u001b[0mgrad_v\u001b[0m \u001b[1;33m=\u001b[0m \u001b[0mhidden_input\u001b[0m\u001b[1;33m.\u001b[0m\u001b[0mT\u001b[0m\u001b[1;33m.\u001b[0m\u001b[0mdot\u001b[0m\u001b[1;33m(\u001b[0m\u001b[0mgrad_wrt_out_1_input\u001b[0m\u001b[1;33m)\u001b[0m\u001b[1;33m\u001b[0m\u001b[1;33m\u001b[0m\u001b[0m\n\u001b[0;32m     91\u001b[0m             \u001b[0mgrad_v0\u001b[0m \u001b[1;33m=\u001b[0m \u001b[0mnp\u001b[0m\u001b[1;33m.\u001b[0m\u001b[0msum\u001b[0m\u001b[1;33m(\u001b[0m\u001b[0mgrad_wrt_out_1_input\u001b[0m\u001b[1;33m,\u001b[0m \u001b[0maxis\u001b[0m\u001b[1;33m=\u001b[0m\u001b[1;36m0\u001b[0m\u001b[1;33m,\u001b[0m \u001b[0mkeepdims\u001b[0m\u001b[1;33m=\u001b[0m\u001b[1;32mTrue\u001b[0m\u001b[1;33m)\u001b[0m\u001b[1;33m\u001b[0m\u001b[1;33m\u001b[0m\u001b[0m\n",
      "\u001b[1;31mAttributeError\u001b[0m: 'NoneType' object has no attribute 'gradient'"
     ]
    }
   ],
   "source": [
    "clf.fit(train_x,train_y,valid_x,valid_y)"
   ]
  },
  {
   "cell_type": "code",
   "execution_count": null,
   "id": "3985d697-0fe8-434f-80ec-1f106b18bbe5",
   "metadata": {},
   "outputs": [],
   "source": [
    "clf.fit(train_x, train_y)\n",
    "y_pred = np.argmax(clf.predict(test_x), axis=1)\n",
    "y_test = np.argmax(test_y, axis=1)\n",
    "accuracy = accuracy_score(test_y, y_pred)\n",
    "print (\"Accuracy:\", accuracy)"
   ]
  },
  {
   "cell_type": "code",
   "execution_count": null,
   "id": "c73be5fb-f2c1-4a3d-9c67-66b0c7a2e610",
   "metadata": {},
   "outputs": [],
   "source": []
  },
  {
   "cell_type": "code",
   "execution_count": null,
   "id": "00ea848f-5e54-48ca-ba42-33f5abe78ad9",
   "metadata": {},
   "outputs": [],
   "source": []
  }
 ],
 "metadata": {
  "kernelspec": {
   "display_name": "Python 3 (ipykernel)",
   "language": "python",
   "name": "python3"
  },
  "language_info": {
   "codemirror_mode": {
    "name": "ipython",
    "version": 3
   },
   "file_extension": ".py",
   "mimetype": "text/x-python",
   "name": "python",
   "nbconvert_exporter": "python",
   "pygments_lexer": "ipython3",
   "version": "3.8.5"
  }
 },
 "nbformat": 4,
 "nbformat_minor": 5
}
