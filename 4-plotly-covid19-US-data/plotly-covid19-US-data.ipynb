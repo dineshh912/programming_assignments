{
 "cells": [
  {
   "cell_type": "markdown",
   "id": "f22df480-5030-49d0-8d32-91ae936b2658",
   "metadata": {},
   "source": [
    "Create an animated choropleth plot using plotly that analyzes a seven-day moving average of cases for some geographic unit and sub-unit (e.g. USA and states)\n",
    "\n",
    "Create a second, non-animated, choropleth plot that shows cumulative cases or vaccinations per 100,000 people for the most recent date in the data file.Important: Your decision: Analyze either cases or vaccinations, depending on your data source.\n",
    "\n",
    "Requirements:\n",
    "\n",
    "* Find appropriate data source that includes new COVID-19 cases per day for the geographic region. (Use a direct link, not downloaded file.)\n",
    "\n",
    "* Find a data source that estimates the population for the geographic region. (Direct link not downloaded file)\n",
    "\n",
    "* Load both to a pandas dataframe\n",
    "\n",
    "* Calculate cumulative cases per 100,000 population for the sub-region (i.e., state)\n",
    "\n",
    "* Calculate 7-day moving average of new cases. (You might need to research methods in pandas.)\n",
    "\n",
    "* PLOT 1: Plot 7-day moving average of cases on Plotly plot and animate by day (older dates on left of slider)\n",
    "\n",
    "* PLOT 2: Create a separate plot of cumulative cases per 100,000 population. This should be for the maximum date in the dataframe and should not be animated.\n",
    "\n",
    "* Plots will include relevant title and hover text.\n",
    "\n",
    "* Colors will be continous scale of your choice."
   ]
  },
  {
   "cell_type": "code",
   "execution_count": null,
   "id": "b1dc193e-0b32-4f1e-bc43-0abf3dbdf23a",
   "metadata": {},
   "outputs": [],
   "source": [
    "# installing necessary packages\n",
    "#! pip install pandas\n",
    "#! pip install plotly"
   ]
  },
  {
   "cell_type": "code",
   "execution_count": 5,
   "id": "feac02e2-d019-4fdd-a31a-d428d71dd56e",
   "metadata": {},
   "outputs": [],
   "source": [
    "# import necessary python packages\n",
    "import pandas as pd\n",
    "import plotly.express as px"
   ]
  },
  {
   "cell_type": "code",
   "execution_count": 41,
   "id": "a347a446-c171-412d-a7da-79c6118c5603",
   "metadata": {},
   "outputs": [],
   "source": [
    "# Load Covid data \n",
    "# Data set is from https://github.com/nytimes/covid-19-data\n",
    "\n",
    "covid_cases_df = pd.read_csv('https://raw.githubusercontent.com/nytimes/covid-19-data/master/us-states.csv')\n",
    "\n",
    "population_df = pd.read_csv('https://github.com/thePortus/wikidata-historic-state-populations/raw/master/data_files/2_wikidata_processed_results.csv')"
   ]
  },
  {
   "cell_type": "code",
   "execution_count": 34,
   "id": "ae6f39c3-ba57-4b9f-8fef-7dd81e5afb61",
   "metadata": {},
   "outputs": [
    {
     "data": {
      "text/html": [
       "<div>\n",
       "<style scoped>\n",
       "    .dataframe tbody tr th:only-of-type {\n",
       "        vertical-align: middle;\n",
       "    }\n",
       "\n",
       "    .dataframe tbody tr th {\n",
       "        vertical-align: top;\n",
       "    }\n",
       "\n",
       "    .dataframe thead th {\n",
       "        text-align: right;\n",
       "    }\n",
       "</style>\n",
       "<table border=\"1\" class=\"dataframe\">\n",
       "  <thead>\n",
       "    <tr style=\"text-align: right;\">\n",
       "      <th></th>\n",
       "      <th>date</th>\n",
       "      <th>state</th>\n",
       "      <th>fips</th>\n",
       "      <th>cases</th>\n",
       "      <th>deaths</th>\n",
       "    </tr>\n",
       "  </thead>\n",
       "  <tbody>\n",
       "    <tr>\n",
       "      <th>0</th>\n",
       "      <td>2020-01-21</td>\n",
       "      <td>Washington</td>\n",
       "      <td>53</td>\n",
       "      <td>1</td>\n",
       "      <td>0</td>\n",
       "    </tr>\n",
       "    <tr>\n",
       "      <th>1</th>\n",
       "      <td>2020-01-22</td>\n",
       "      <td>Washington</td>\n",
       "      <td>53</td>\n",
       "      <td>1</td>\n",
       "      <td>0</td>\n",
       "    </tr>\n",
       "    <tr>\n",
       "      <th>2</th>\n",
       "      <td>2020-01-23</td>\n",
       "      <td>Washington</td>\n",
       "      <td>53</td>\n",
       "      <td>1</td>\n",
       "      <td>0</td>\n",
       "    </tr>\n",
       "    <tr>\n",
       "      <th>3</th>\n",
       "      <td>2020-01-24</td>\n",
       "      <td>Illinois</td>\n",
       "      <td>17</td>\n",
       "      <td>1</td>\n",
       "      <td>0</td>\n",
       "    </tr>\n",
       "    <tr>\n",
       "      <th>4</th>\n",
       "      <td>2020-01-24</td>\n",
       "      <td>Washington</td>\n",
       "      <td>53</td>\n",
       "      <td>1</td>\n",
       "      <td>0</td>\n",
       "    </tr>\n",
       "  </tbody>\n",
       "</table>\n",
       "</div>"
      ],
      "text/plain": [
       "         date       state  fips  cases  deaths\n",
       "0  2020-01-21  Washington    53      1       0\n",
       "1  2020-01-22  Washington    53      1       0\n",
       "2  2020-01-23  Washington    53      1       0\n",
       "3  2020-01-24    Illinois    17      1       0\n",
       "4  2020-01-24  Washington    53      1       0"
      ]
     },
     "execution_count": 34,
     "metadata": {},
     "output_type": "execute_result"
    }
   ],
   "source": [
    "covid_cases_df.head()"
   ]
  },
  {
   "cell_type": "code",
   "execution_count": 43,
   "id": "41f838a7-1693-4048-bcf1-6584464edb43",
   "metadata": {},
   "outputs": [],
   "source": [
    "population_df = population_df.loc[population_df['Year'] == 2018]"
   ]
  },
  {
   "cell_type": "code",
   "execution_count": 45,
   "id": "8e2aa834-ae20-4fa7-80f1-8ad2e05d2fbb",
   "metadata": {},
   "outputs": [
    {
     "data": {
      "text/plain": [
       "(50, 5)"
      ]
     },
     "execution_count": 45,
     "metadata": {},
     "output_type": "execute_result"
    }
   ],
   "source": [
    "population_df.shape"
   ]
  },
  {
   "cell_type": "code",
   "execution_count": 59,
   "id": "c919c525-71f4-4d4e-aa6e-9acda1ed92f4",
   "metadata": {},
   "outputs": [
    {
     "data": {
      "text/html": [
       "<div>\n",
       "<style scoped>\n",
       "    .dataframe tbody tr th:only-of-type {\n",
       "        vertical-align: middle;\n",
       "    }\n",
       "\n",
       "    .dataframe tbody tr th {\n",
       "        vertical-align: top;\n",
       "    }\n",
       "\n",
       "    .dataframe thead th {\n",
       "        text-align: right;\n",
       "    }\n",
       "</style>\n",
       "<table border=\"1\" class=\"dataframe\">\n",
       "  <thead>\n",
       "    <tr style=\"text-align: right;\">\n",
       "      <th></th>\n",
       "      <th>date</th>\n",
       "      <th>state</th>\n",
       "      <th>fips</th>\n",
       "      <th>cases</th>\n",
       "      <th>deaths</th>\n",
       "    </tr>\n",
       "  </thead>\n",
       "  <tbody>\n",
       "    <tr>\n",
       "      <th>0</th>\n",
       "      <td>2020-01-21</td>\n",
       "      <td>Washington</td>\n",
       "      <td>53</td>\n",
       "      <td>1</td>\n",
       "      <td>0</td>\n",
       "    </tr>\n",
       "    <tr>\n",
       "      <th>1</th>\n",
       "      <td>2020-01-22</td>\n",
       "      <td>Washington</td>\n",
       "      <td>53</td>\n",
       "      <td>1</td>\n",
       "      <td>0</td>\n",
       "    </tr>\n",
       "    <tr>\n",
       "      <th>2</th>\n",
       "      <td>2020-01-23</td>\n",
       "      <td>Washington</td>\n",
       "      <td>53</td>\n",
       "      <td>1</td>\n",
       "      <td>0</td>\n",
       "    </tr>\n",
       "    <tr>\n",
       "      <th>3</th>\n",
       "      <td>2020-01-24</td>\n",
       "      <td>Illinois</td>\n",
       "      <td>17</td>\n",
       "      <td>1</td>\n",
       "      <td>0</td>\n",
       "    </tr>\n",
       "    <tr>\n",
       "      <th>4</th>\n",
       "      <td>2020-01-24</td>\n",
       "      <td>Washington</td>\n",
       "      <td>53</td>\n",
       "      <td>1</td>\n",
       "      <td>0</td>\n",
       "    </tr>\n",
       "  </tbody>\n",
       "</table>\n",
       "</div>"
      ],
      "text/plain": [
       "         date       state  fips  cases  deaths\n",
       "0  2020-01-21  Washington    53      1       0\n",
       "1  2020-01-22  Washington    53      1       0\n",
       "2  2020-01-23  Washington    53      1       0\n",
       "3  2020-01-24    Illinois    17      1       0\n",
       "4  2020-01-24  Washington    53      1       0"
      ]
     },
     "execution_count": 59,
     "metadata": {},
     "output_type": "execute_result"
    }
   ],
   "source": [
    "# view first few row\n",
    "covid_cases_df.head()"
   ]
  },
  {
   "cell_type": "code",
   "execution_count": 60,
   "id": "013ea112-987e-42e9-ab35-3d73cf43b84b",
   "metadata": {},
   "outputs": [
    {
     "name": "stdout",
     "output_type": "stream",
     "text": [
      "<class 'pandas.core.frame.DataFrame'>\n",
      "RangeIndex: 32094 entries, 0 to 32093\n",
      "Data columns (total 5 columns):\n",
      " #   Column  Non-Null Count  Dtype \n",
      "---  ------  --------------  ----- \n",
      " 0   date    32094 non-null  object\n",
      " 1   state   32094 non-null  object\n",
      " 2   fips    32094 non-null  int64 \n",
      " 3   cases   32094 non-null  int64 \n",
      " 4   deaths  32094 non-null  int64 \n",
      "dtypes: int64(3), object(2)\n",
      "memory usage: 1.2+ MB\n"
     ]
    }
   ],
   "source": [
    "# Information about dataframe\n",
    "covid_cases_df.info()"
   ]
  },
  {
   "cell_type": "code",
   "execution_count": 63,
   "id": "89e4a0d2-8153-4a33-9a00-4a0ae807ed9c",
   "metadata": {},
   "outputs": [],
   "source": [
    "# Convert date type into datetime\n",
    "covid_cases_df[\"date\"] = pd.to_datetime(covid_cases_df[\"date\"])"
   ]
  },
  {
   "cell_type": "code",
   "execution_count": 64,
   "id": "8d0a4d23-734f-43f5-9fb6-41a936d9a608",
   "metadata": {},
   "outputs": [
    {
     "name": "stdout",
     "output_type": "stream",
     "text": [
      "<class 'pandas.core.frame.DataFrame'>\n",
      "RangeIndex: 32094 entries, 0 to 32093\n",
      "Data columns (total 5 columns):\n",
      " #   Column  Non-Null Count  Dtype         \n",
      "---  ------  --------------  -----         \n",
      " 0   date    32094 non-null  datetime64[ns]\n",
      " 1   state   32094 non-null  object        \n",
      " 2   fips    32094 non-null  int64         \n",
      " 3   cases   32094 non-null  int64         \n",
      " 4   deaths  32094 non-null  int64         \n",
      "dtypes: datetime64[ns](1), int64(3), object(1)\n",
      "memory usage: 1.2+ MB\n"
     ]
    }
   ],
   "source": [
    "covid_cases_df.info()"
   ]
  },
  {
   "cell_type": "code",
   "execution_count": 65,
   "id": "3e81bf12-c079-4cc4-b67c-783665d131d6",
   "metadata": {},
   "outputs": [],
   "source": [
    "# Need to calculate 7 day moving average ie weekly \n",
    "covid_cases_df[\"week\"] = covid_cases_df[\"date\"].dt.strftime(\"%Y-%U\")"
   ]
  },
  {
   "cell_type": "code",
   "execution_count": 67,
   "id": "94e6c826-40f6-4224-a9d5-73bba82f31d7",
   "metadata": {},
   "outputs": [
    {
     "data": {
      "text/plain": [
       "(32094, 6)"
      ]
     },
     "execution_count": 67,
     "metadata": {},
     "output_type": "execute_result"
    }
   ],
   "source": [
    "covid_cases_df.shape"
   ]
  },
  {
   "cell_type": "code",
   "execution_count": 70,
   "id": "79ba8b80-9fde-4ebd-a9ce-db61fcf6c368",
   "metadata": {},
   "outputs": [],
   "source": [
    "# calculate 7 days Moving average\n",
    "covid_cases_df['7ma'] = covid_cases_df.groupby('state').cases.transform(lambda c: c.rolling(7).mean())"
   ]
  },
  {
   "cell_type": "code",
   "execution_count": 71,
   "id": "dab4a358-c650-4782-bb71-d1dd2b6f3a8a",
   "metadata": {},
   "outputs": [
    {
     "data": {
      "text/html": [
       "<div>\n",
       "<style scoped>\n",
       "    .dataframe tbody tr th:only-of-type {\n",
       "        vertical-align: middle;\n",
       "    }\n",
       "\n",
       "    .dataframe tbody tr th {\n",
       "        vertical-align: top;\n",
       "    }\n",
       "\n",
       "    .dataframe thead th {\n",
       "        text-align: right;\n",
       "    }\n",
       "</style>\n",
       "<table border=\"1\" class=\"dataframe\">\n",
       "  <thead>\n",
       "    <tr style=\"text-align: right;\">\n",
       "      <th></th>\n",
       "      <th>date</th>\n",
       "      <th>state</th>\n",
       "      <th>fips</th>\n",
       "      <th>cases</th>\n",
       "      <th>deaths</th>\n",
       "      <th>week</th>\n",
       "      <th>7ma</th>\n",
       "    </tr>\n",
       "  </thead>\n",
       "  <tbody>\n",
       "    <tr>\n",
       "      <th>0</th>\n",
       "      <td>2020-01-21</td>\n",
       "      <td>Washington</td>\n",
       "      <td>53</td>\n",
       "      <td>1</td>\n",
       "      <td>0</td>\n",
       "      <td>2020-03</td>\n",
       "      <td>NaN</td>\n",
       "    </tr>\n",
       "    <tr>\n",
       "      <th>1</th>\n",
       "      <td>2020-01-22</td>\n",
       "      <td>Washington</td>\n",
       "      <td>53</td>\n",
       "      <td>1</td>\n",
       "      <td>0</td>\n",
       "      <td>2020-03</td>\n",
       "      <td>NaN</td>\n",
       "    </tr>\n",
       "    <tr>\n",
       "      <th>2</th>\n",
       "      <td>2020-01-23</td>\n",
       "      <td>Washington</td>\n",
       "      <td>53</td>\n",
       "      <td>1</td>\n",
       "      <td>0</td>\n",
       "      <td>2020-03</td>\n",
       "      <td>NaN</td>\n",
       "    </tr>\n",
       "    <tr>\n",
       "      <th>3</th>\n",
       "      <td>2020-01-24</td>\n",
       "      <td>Illinois</td>\n",
       "      <td>17</td>\n",
       "      <td>1</td>\n",
       "      <td>0</td>\n",
       "      <td>2020-03</td>\n",
       "      <td>NaN</td>\n",
       "    </tr>\n",
       "    <tr>\n",
       "      <th>4</th>\n",
       "      <td>2020-01-24</td>\n",
       "      <td>Washington</td>\n",
       "      <td>53</td>\n",
       "      <td>1</td>\n",
       "      <td>0</td>\n",
       "      <td>2020-03</td>\n",
       "      <td>NaN</td>\n",
       "    </tr>\n",
       "  </tbody>\n",
       "</table>\n",
       "</div>"
      ],
      "text/plain": [
       "        date       state  fips  cases  deaths     week  7ma\n",
       "0 2020-01-21  Washington    53      1       0  2020-03  NaN\n",
       "1 2020-01-22  Washington    53      1       0  2020-03  NaN\n",
       "2 2020-01-23  Washington    53      1       0  2020-03  NaN\n",
       "3 2020-01-24    Illinois    17      1       0  2020-03  NaN\n",
       "4 2020-01-24  Washington    53      1       0  2020-03  NaN"
      ]
     },
     "execution_count": 71,
     "metadata": {},
     "output_type": "execute_result"
    }
   ],
   "source": [
    "covid_cases_df.head()"
   ]
  },
  {
   "cell_type": "code",
   "execution_count": 72,
   "id": "95afb4aa-e6f2-4d8b-8c3b-de42411aecbf",
   "metadata": {},
   "outputs": [
    {
     "data": {
      "text/plain": [
       "(4775779, 1)"
      ]
     },
     "execution_count": 72,
     "metadata": {},
     "output_type": "execute_result"
    }
   ],
   "source": [
    "covid_cases_df['cases'].max(), covid_cases_df['cases'].min()"
   ]
  },
  {
   "cell_type": "code",
   "execution_count": 73,
   "id": "0c448f71-cf1e-4789-86f8-38ade3ac61f3",
   "metadata": {},
   "outputs": [
    {
     "data": {
      "text/plain": [
       "(4756293.714285715, 1.0)"
      ]
     },
     "execution_count": 73,
     "metadata": {},
     "output_type": "execute_result"
    }
   ],
   "source": [
    "covid_cases_df['7ma'].max(), covid_cases_df['7ma'].min()"
   ]
  },
  {
   "cell_type": "code",
   "execution_count": 74,
   "id": "4c6acf34-6050-469d-a029-3e2c8c73a0ab",
   "metadata": {},
   "outputs": [],
   "source": [
    "# Mapping state with their state code(for vizualization)\n",
    "us_state_to_abbrev = {\n",
    "    \"Alabama\": \"AL\",\n",
    "    \"Alaska\": \"AK\",\n",
    "    \"Arizona\": \"AZ\",\n",
    "    \"Arkansas\": \"AR\",\n",
    "    \"California\": \"CA\",\n",
    "    \"Colorado\": \"CO\",\n",
    "    \"Connecticut\": \"CT\",\n",
    "    \"Delaware\": \"DE\",\n",
    "    \"Florida\": \"FL\",\n",
    "    \"Georgia\": \"GA\",\n",
    "    \"Hawaii\": \"HI\",\n",
    "    \"Idaho\": \"ID\",\n",
    "    \"Illinois\": \"IL\",\n",
    "    \"Indiana\": \"IN\",\n",
    "    \"Iowa\": \"IA\",\n",
    "    \"Kansas\": \"KS\",\n",
    "    \"Kentucky\": \"KY\",\n",
    "    \"Louisiana\": \"LA\",\n",
    "    \"Maine\": \"ME\",\n",
    "    \"Maryland\": \"MD\",\n",
    "    \"Massachusetts\": \"MA\",\n",
    "    \"Michigan\": \"MI\",\n",
    "    \"Minnesota\": \"MN\",\n",
    "    \"Mississippi\": \"MS\",\n",
    "    \"Missouri\": \"MO\",\n",
    "    \"Montana\": \"MT\",\n",
    "    \"Nebraska\": \"NE\",\n",
    "    \"Nevada\": \"NV\",\n",
    "    \"New Hampshire\": \"NH\",\n",
    "    \"New Jersey\": \"NJ\",\n",
    "    \"New Mexico\": \"NM\",\n",
    "    \"New York\": \"NY\",\n",
    "    \"North Carolina\": \"NC\",\n",
    "    \"North Dakota\": \"ND\",\n",
    "    \"Ohio\": \"OH\",\n",
    "    \"Oklahoma\": \"OK\",\n",
    "    \"Oregon\": \"OR\",\n",
    "    \"Pennsylvania\": \"PA\",\n",
    "    \"Rhode Island\": \"RI\",\n",
    "    \"South Carolina\": \"SC\",\n",
    "    \"South Dakota\": \"SD\",\n",
    "    \"Tennessee\": \"TN\",\n",
    "    \"Texas\": \"TX\",\n",
    "    \"Utah\": \"UT\",\n",
    "    \"Vermont\": \"VT\",\n",
    "    \"Virginia\": \"VA\",\n",
    "    \"Washington\": \"WA\",\n",
    "    \"West Virginia\": \"WV\",\n",
    "    \"Wisconsin\": \"WI\",\n",
    "    \"Wyoming\": \"WY\",\n",
    "    \"District of Columbia\": \"DC\",\n",
    "    \"American Samoa\": \"AS\",\n",
    "    \"Guam\": \"GU\",\n",
    "    \"Northern Mariana Islands\": \"MP\",\n",
    "    \"Puerto Rico\": \"PR\",\n",
    "    \"United States Minor Outlying Islands\": \"UM\",\n",
    "    \"U.S. Virgin Islands\": \"VI\",\n",
    "}"
   ]
  },
  {
   "cell_type": "code",
   "execution_count": 75,
   "id": "e326da65-878d-4096-be6f-1fb02713483a",
   "metadata": {},
   "outputs": [],
   "source": [
    "covid_cases_df[\"state_code\"] = covid_cases_df[\"state\"].map(us_state_to_abbrev)"
   ]
  },
  {
   "cell_type": "code",
   "execution_count": 76,
   "id": "edde942b-bf0b-4553-b42b-1b73e76eb291",
   "metadata": {},
   "outputs": [
    {
     "data": {
      "text/html": [
       "<div>\n",
       "<style scoped>\n",
       "    .dataframe tbody tr th:only-of-type {\n",
       "        vertical-align: middle;\n",
       "    }\n",
       "\n",
       "    .dataframe tbody tr th {\n",
       "        vertical-align: top;\n",
       "    }\n",
       "\n",
       "    .dataframe thead th {\n",
       "        text-align: right;\n",
       "    }\n",
       "</style>\n",
       "<table border=\"1\" class=\"dataframe\">\n",
       "  <thead>\n",
       "    <tr style=\"text-align: right;\">\n",
       "      <th></th>\n",
       "      <th>date</th>\n",
       "      <th>state</th>\n",
       "      <th>fips</th>\n",
       "      <th>cases</th>\n",
       "      <th>deaths</th>\n",
       "      <th>week</th>\n",
       "      <th>7ma</th>\n",
       "      <th>state_code</th>\n",
       "    </tr>\n",
       "  </thead>\n",
       "  <tbody>\n",
       "    <tr>\n",
       "      <th>0</th>\n",
       "      <td>2020-01-21</td>\n",
       "      <td>Washington</td>\n",
       "      <td>53</td>\n",
       "      <td>1</td>\n",
       "      <td>0</td>\n",
       "      <td>2020-03</td>\n",
       "      <td>NaN</td>\n",
       "      <td>WA</td>\n",
       "    </tr>\n",
       "    <tr>\n",
       "      <th>1</th>\n",
       "      <td>2020-01-22</td>\n",
       "      <td>Washington</td>\n",
       "      <td>53</td>\n",
       "      <td>1</td>\n",
       "      <td>0</td>\n",
       "      <td>2020-03</td>\n",
       "      <td>NaN</td>\n",
       "      <td>WA</td>\n",
       "    </tr>\n",
       "    <tr>\n",
       "      <th>2</th>\n",
       "      <td>2020-01-23</td>\n",
       "      <td>Washington</td>\n",
       "      <td>53</td>\n",
       "      <td>1</td>\n",
       "      <td>0</td>\n",
       "      <td>2020-03</td>\n",
       "      <td>NaN</td>\n",
       "      <td>WA</td>\n",
       "    </tr>\n",
       "    <tr>\n",
       "      <th>3</th>\n",
       "      <td>2020-01-24</td>\n",
       "      <td>Illinois</td>\n",
       "      <td>17</td>\n",
       "      <td>1</td>\n",
       "      <td>0</td>\n",
       "      <td>2020-03</td>\n",
       "      <td>NaN</td>\n",
       "      <td>IL</td>\n",
       "    </tr>\n",
       "    <tr>\n",
       "      <th>4</th>\n",
       "      <td>2020-01-24</td>\n",
       "      <td>Washington</td>\n",
       "      <td>53</td>\n",
       "      <td>1</td>\n",
       "      <td>0</td>\n",
       "      <td>2020-03</td>\n",
       "      <td>NaN</td>\n",
       "      <td>WA</td>\n",
       "    </tr>\n",
       "  </tbody>\n",
       "</table>\n",
       "</div>"
      ],
      "text/plain": [
       "        date       state  fips  cases  deaths     week  7ma state_code\n",
       "0 2020-01-21  Washington    53      1       0  2020-03  NaN         WA\n",
       "1 2020-01-22  Washington    53      1       0  2020-03  NaN         WA\n",
       "2 2020-01-23  Washington    53      1       0  2020-03  NaN         WA\n",
       "3 2020-01-24    Illinois    17      1       0  2020-03  NaN         IL\n",
       "4 2020-01-24  Washington    53      1       0  2020-03  NaN         WA"
      ]
     },
     "execution_count": 76,
     "metadata": {},
     "output_type": "execute_result"
    }
   ],
   "source": [
    "covid_cases_df.head()"
   ]
  },
  {
   "cell_type": "code",
   "execution_count": 77,
   "id": "f3427c6a-7794-4cd5-83de-3432450f9f5e",
   "metadata": {},
   "outputs": [],
   "source": [
    "# Downloading geojson for the states\n",
    "from urllib.request import urlopen\n",
    "import json\n",
    "with urlopen('https://raw.githubusercontent.com/jgoodall/us-maps/master/geojson/state.geo.json') as response:\n",
    "    states = json.load(response)"
   ]
  },
  {
   "cell_type": "markdown",
   "id": "619edfc9-6f93-40b4-8c07-f15c15c77145",
   "metadata": {},
   "source": [
    "#### Plot 7-day moving average of cases on Plotly plot and animate by day"
   ]
  },
  {
   "cell_type": "code",
   "execution_count": null,
   "id": "d944f7e8-f1f7-4bc8-8da3-df1523464942",
   "metadata": {},
   "outputs": [],
   "source": [
    "df = covid_cases_df.sort_values(by=['week'])\n",
    "fig = px.choropleth(df, geojson=states, locations='state_code', color='7ma',\n",
    "                        locationmode=\"USA-states\",\n",
    "                        color_continuous_scale=px.colors.sequential.OrRd,\n",
    "                        title = \"7 day moving average of covid cases on US States\",\n",
    "                        scope=\"usa\",\n",
    "                        animation_frame=\"week\",\n",
    "                    )\n",
    "fig[\"layout\"].pop(\"updatemenus\")\n",
    "fig.show()"
   ]
  },
  {
   "cell_type": "code",
   "execution_count": 1,
   "id": "51eee461-67e4-4c60-aa15-83042a399b63",
   "metadata": {},
   "outputs": [],
   "source": [
    "# calculate cumlative cases"
   ]
  },
  {
   "cell_type": "code",
   "execution_count": null,
   "id": "b3224a49-64c9-4260-8274-532e50bdf5e2",
   "metadata": {},
   "outputs": [],
   "source": [
    "us100k=us100k.loc[us100k['cases'] <= 100000]\n",
    "fig = px.choropleth(us100k, geojson=counties, locations='fips', color='cases',\n",
    "                           color_continuous_scale=px.colors.sequential.OrRd,\n",
    "                           title = \"cumulative cases per 100,000 people\",\n",
    "                           scope=\"usa\",\n",
    "\n",
    "                          )\n",
    "fig[\"layout\"].pop(\"updatemenus\")\n",
    "fig.show()"
   ]
  }
 ],
 "metadata": {
  "kernelspec": {
   "display_name": "Python 3 (ipykernel)",
   "language": "python",
   "name": "python3"
  },
  "language_info": {
   "codemirror_mode": {
    "name": "ipython",
    "version": 3
   },
   "file_extension": ".py",
   "mimetype": "text/x-python",
   "name": "python",
   "nbconvert_exporter": "python",
   "pygments_lexer": "ipython3",
   "version": "3.9.6"
  }
 },
 "nbformat": 4,
 "nbformat_minor": 5
}
